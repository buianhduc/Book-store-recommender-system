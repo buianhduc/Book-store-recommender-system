{
 "cells": [
  {
   "cell_type": "code",
   "id": "9aafe154",
   "metadata": {
    "ExecuteTime": {
     "end_time": "2024-05-09T12:27:59.905906Z",
     "start_time": "2024-05-09T12:27:59.491541Z"
    }
   },
   "source": [
    "import pandas as pd\n",
    "import regex as re\n",
    "import numpy as np\n",
    "book = pd.read_csv(\"BX-Books.csv\")\n",
    "rating = pd.read_csv(\"BX-Ratings.csv\")\n",
    "user = pd.read_csv(\"BX-Users.csv\")"
   ],
   "outputs": [
    {
     "name": "stdout",
     "output_type": "stream",
     "text": [
      "time: 413 ms (started: 2024-05-09 22:27:59 +10:00)\n"
     ]
    }
   ],
   "execution_count": 2
  },
  {
   "cell_type": "code",
   "id": "4d23a853",
   "metadata": {
    "ExecuteTime": {
     "end_time": "2024-05-09T12:27:59.913566Z",
     "start_time": "2024-05-09T12:27:59.906746Z"
    }
   },
   "source": [
    "book"
   ],
   "outputs": [
    {
     "data": {
      "text/plain": [
       "             ISBN                                         Book-Title  \\\n",
       "0      0002005018                                       Clara Callan   \n",
       "1      0374157065  Flu: The Story of the Great Influenza Pandemic...   \n",
       "2      0399135782                             The Kitchen God's Wife   \n",
       "3      0440234743                                      The Testament   \n",
       "4      0452264464               Beloved (Plume Contemporary Fiction)   \n",
       "...           ...                                                ...   \n",
       "18180  0375411615                                         Love, Etc.   \n",
       "18181  0836227751              The Wit And Whimsy Of Mary Engelbreit   \n",
       "18182  8433966634                            Los Detectives Salvajes   \n",
       "18183  0330353349                  The Ice House (TV Tie-In Edition)   \n",
       "18184  0394757645  Trouble Is My Business (Vintage Crime/Black Li...   \n",
       "\n",
       "                Book-Author  Year-Of-Publication             Book-Publisher  \n",
       "0      Richard Bruce Wright                 2001      HarperFlamingo Canada  \n",
       "1          Gina Bari Kolata                 1999       Farrar Straus Giroux  \n",
       "2                   Amy Tan                 1991           Putnam Pub Group  \n",
       "3              John Grisham                 1999                       Dell  \n",
       "4             Toni Morrison                 1994                      Plume  \n",
       "...                     ...                  ...                        ...  \n",
       "18180         Julian Barnes                 2001            Alfred A. Knopf  \n",
       "18181       Mary Engelbreit                 1997  Andrews McMeel Publishing  \n",
       "18182        Roberto Bolano                 2003                   Anagrama  \n",
       "18183       Minette Walters                 1997       McClelland & Stewart  \n",
       "18184      Raymond Chandler                 1992          Vintage Books USA  \n",
       "\n",
       "[18185 rows x 5 columns]"
      ],
      "text/html": [
       "<div>\n",
       "<style scoped>\n",
       "    .dataframe tbody tr th:only-of-type {\n",
       "        vertical-align: middle;\n",
       "    }\n",
       "\n",
       "    .dataframe tbody tr th {\n",
       "        vertical-align: top;\n",
       "    }\n",
       "\n",
       "    .dataframe thead th {\n",
       "        text-align: right;\n",
       "    }\n",
       "</style>\n",
       "<table border=\"1\" class=\"dataframe\">\n",
       "  <thead>\n",
       "    <tr style=\"text-align: right;\">\n",
       "      <th></th>\n",
       "      <th>ISBN</th>\n",
       "      <th>Book-Title</th>\n",
       "      <th>Book-Author</th>\n",
       "      <th>Year-Of-Publication</th>\n",
       "      <th>Book-Publisher</th>\n",
       "    </tr>\n",
       "  </thead>\n",
       "  <tbody>\n",
       "    <tr>\n",
       "      <th>0</th>\n",
       "      <td>0002005018</td>\n",
       "      <td>Clara Callan</td>\n",
       "      <td>Richard Bruce Wright</td>\n",
       "      <td>2001</td>\n",
       "      <td>HarperFlamingo Canada</td>\n",
       "    </tr>\n",
       "    <tr>\n",
       "      <th>1</th>\n",
       "      <td>0374157065</td>\n",
       "      <td>Flu: The Story of the Great Influenza Pandemic...</td>\n",
       "      <td>Gina Bari Kolata</td>\n",
       "      <td>1999</td>\n",
       "      <td>Farrar Straus Giroux</td>\n",
       "    </tr>\n",
       "    <tr>\n",
       "      <th>2</th>\n",
       "      <td>0399135782</td>\n",
       "      <td>The Kitchen God's Wife</td>\n",
       "      <td>Amy Tan</td>\n",
       "      <td>1991</td>\n",
       "      <td>Putnam Pub Group</td>\n",
       "    </tr>\n",
       "    <tr>\n",
       "      <th>3</th>\n",
       "      <td>0440234743</td>\n",
       "      <td>The Testament</td>\n",
       "      <td>John Grisham</td>\n",
       "      <td>1999</td>\n",
       "      <td>Dell</td>\n",
       "    </tr>\n",
       "    <tr>\n",
       "      <th>4</th>\n",
       "      <td>0452264464</td>\n",
       "      <td>Beloved (Plume Contemporary Fiction)</td>\n",
       "      <td>Toni Morrison</td>\n",
       "      <td>1994</td>\n",
       "      <td>Plume</td>\n",
       "    </tr>\n",
       "    <tr>\n",
       "      <th>...</th>\n",
       "      <td>...</td>\n",
       "      <td>...</td>\n",
       "      <td>...</td>\n",
       "      <td>...</td>\n",
       "      <td>...</td>\n",
       "    </tr>\n",
       "    <tr>\n",
       "      <th>18180</th>\n",
       "      <td>0375411615</td>\n",
       "      <td>Love, Etc.</td>\n",
       "      <td>Julian Barnes</td>\n",
       "      <td>2001</td>\n",
       "      <td>Alfred A. Knopf</td>\n",
       "    </tr>\n",
       "    <tr>\n",
       "      <th>18181</th>\n",
       "      <td>0836227751</td>\n",
       "      <td>The Wit And Whimsy Of Mary Engelbreit</td>\n",
       "      <td>Mary Engelbreit</td>\n",
       "      <td>1997</td>\n",
       "      <td>Andrews McMeel Publishing</td>\n",
       "    </tr>\n",
       "    <tr>\n",
       "      <th>18182</th>\n",
       "      <td>8433966634</td>\n",
       "      <td>Los Detectives Salvajes</td>\n",
       "      <td>Roberto Bolano</td>\n",
       "      <td>2003</td>\n",
       "      <td>Anagrama</td>\n",
       "    </tr>\n",
       "    <tr>\n",
       "      <th>18183</th>\n",
       "      <td>0330353349</td>\n",
       "      <td>The Ice House (TV Tie-In Edition)</td>\n",
       "      <td>Minette Walters</td>\n",
       "      <td>1997</td>\n",
       "      <td>McClelland &amp; Stewart</td>\n",
       "    </tr>\n",
       "    <tr>\n",
       "      <th>18184</th>\n",
       "      <td>0394757645</td>\n",
       "      <td>Trouble Is My Business (Vintage Crime/Black Li...</td>\n",
       "      <td>Raymond Chandler</td>\n",
       "      <td>1992</td>\n",
       "      <td>Vintage Books USA</td>\n",
       "    </tr>\n",
       "  </tbody>\n",
       "</table>\n",
       "<p>18185 rows × 5 columns</p>\n",
       "</div>"
      ]
     },
     "execution_count": 3,
     "metadata": {},
     "output_type": "execute_result"
    },
    {
     "name": "stdout",
     "output_type": "stream",
     "text": [
      "time: 5.39 ms (started: 2024-05-09 22:27:59 +10:00)\n"
     ]
    }
   ],
   "execution_count": 3
  },
  {
   "cell_type": "code",
   "id": "0d706a2e",
   "metadata": {
    "ExecuteTime": {
     "end_time": "2024-05-09T12:27:59.922395Z",
     "start_time": "2024-05-09T12:27:59.914201Z"
    }
   },
   "source": [
    "user.info()"
   ],
   "outputs": [
    {
     "name": "stdout",
     "output_type": "stream",
     "text": [
      "<class 'pandas.core.frame.DataFrame'>\n",
      "RangeIndex: 48299 entries, 0 to 48298\n",
      "Data columns (total 5 columns):\n",
      " #   Column        Non-Null Count  Dtype \n",
      "---  ------        --------------  ----- \n",
      " 0   User-ID       48299 non-null  int64 \n",
      " 1   User-City     48238 non-null  object\n",
      " 2   User-State    48299 non-null  object\n",
      " 3   User-Country  47630 non-null  object\n",
      " 4   User-Age      29347 non-null  object\n",
      "dtypes: int64(1), object(4)\n",
      "memory usage: 1.8+ MB\n",
      "time: 6.85 ms (started: 2024-05-09 22:27:59 +10:00)\n"
     ]
    }
   ],
   "execution_count": 4
  },
  {
   "cell_type": "code",
   "id": "51706128",
   "metadata": {
    "ExecuteTime": {
     "end_time": "2024-05-09T12:28:00.146764Z",
     "start_time": "2024-05-09T12:27:59.923549Z"
    }
   },
   "source": [
    "# remove trailing double quote\n",
    "user[\"User-Age\"] = user.apply(\n",
    "    lambda row: re.sub(r'\\\"$', \"\", row[\"User-Age\"]) if not pd.isna(row[\"User-Age\"]) else row[\"User-Age\"],\n",
    "    axis=1\n",
    ")\n",
    "# impute user age\n",
    "user[\"User-Age\"].fillna(user[\"User-Age\"].median(), inplace=True)\n",
    "user.astype({\n",
    "    \"User-Age\": \"int32\",\n",
    "})\n",
    "user[\"User-Age\"] = user[\"User-Age\"].astype(int)"
   ],
   "outputs": [
    {
     "name": "stdout",
     "output_type": "stream",
     "text": [
      "time: 221 ms (started: 2024-05-09 22:27:59 +10:00)\n"
     ]
    }
   ],
   "execution_count": 5
  },
  {
   "cell_type": "code",
   "id": "329455a4",
   "metadata": {
    "ExecuteTime": {
     "end_time": "2024-05-09T12:28:00.269581Z",
     "start_time": "2024-05-09T12:28:00.147813Z"
    }
   },
   "source": [
    "# remove trailing double quote\n",
    "user[\"User-Country\"] = (user['User-Country']\n",
    "                         .apply(lambda country: re.sub(r'\\\"$', \"\", country) if not pd.isna (country) else country))\n"
   ],
   "outputs": [
    {
     "name": "stdout",
     "output_type": "stream",
     "text": [
      "time: 120 ms (started: 2024-05-09 22:28:00 +10:00)\n"
     ]
    }
   ],
   "execution_count": 6
  },
  {
   "cell_type": "code",
   "id": "650b2ca9",
   "metadata": {
    "ExecuteTime": {
     "end_time": "2024-05-09T12:28:03.536348Z",
     "start_time": "2024-05-09T12:28:00.270557Z"
    }
   },
   "source": [
    "!pip install pycountry\n",
    "import pycountry as pc\n",
    "import pprint\n",
    "matchCountryMap = {}\n",
    "naCountries = {}\n",
    "countries = pd.Series(user[\"User-Country\"].unique())\n",
    "naCount = 0\n",
    "possibleNANames = [\"n/a\", \"na\"]\n",
    "notFoundCountries = []\n",
    "for country in countries:\n",
    "    if not pd.isna(country):\n",
    "        if not country.lower() in possibleNANames:\n",
    "            countryName = str(country)\n",
    "            countryName = countryName.title()\n",
    "            try:\n",
    "                if \".\" in countryName:\n",
    "                    countryName = countryName.replace(\".\",\"\").upper()\n",
    "                matchCountryMap[country] = pc.countries.lookup(countryName)\n",
    "            except LookupError as e:\n",
    "                naCount += 1\n",
    "                try:\n",
    "                    matchCountryMap[country] = pc.countries.search_fuzzy(countryName)[0]\n",
    "                except LookupError as _:\n",
    "                    notFoundCountries.append(countryName)\n",
    "                    print(\"Not found \", countryName)\n",
    "        else:\n",
    "            matchCountryMap[country] = pd.NA\n",
    "\n",
    "manualMatchCountryMap = {\n",
    "    'Alderney': pc.countries.lookup(\"guernsey\"),\n",
    "    'Turkey': pc.countries.lookup(\"TUR\"),\n",
    "    'US OF A': pc.countries.lookup(\"USA\"),\n",
    "    'Tdzimi': pd.NA,\n",
    "    'España': pc.countries.lookup(\"ESP\"),\n",
    "    'Lkjlj': pd.NA,\n",
    "    'N/A - On The Road': pd.NA,\n",
    "    'Yugoslavia': pd.NA,\n",
    "    'Richmond Country': pd.NA,\n",
    "    'Framingham' : pc.countries.lookup(\"USA\"),\n",
    "    'United Kindgonm': pc.countries.lookup(\"GB\"),\n",
    "    'Universe': pd.NA,\n",
    "    'ST HELENA': pc.countries.lookup(\"SH\"),\n",
    "    'Aroostook': pc.countries.lookup(\"US\"),\n",
    "    'Burma': pc.countries.lookup(\"MM\"),\n",
    "    'Van Wert': pc.countries.lookup(\"USA\"),\n",
    "    'Far Away': pd.NA,\n",
    "    'K1C7B1': pd.NA,\n",
    "    'Rutherford': pd.NA,\n",
    "    'UAE': pc.countries.lookup(\"ARE\"),\n",
    "    'Petrolwar Nation': pd.NA,\n",
    "    'Shelby': pd.NA,\n",
    "    'Catalonia': pc.countries.lookup(\"ESP\"),\n",
    "    'Caribbean Sea': pd.NA,\n",
    "    'Cananda': pc.countries.lookup(\"CA\"),\n",
    "    'Pender': pd.NA,\n",
    "    'La France': pc.countries.lookup(\"FR\"),\n",
    "    'Phillipines': pc.countries.lookup(\"PHL\"),\n",
    "    'Los Estados Unidos De Norte America': pc.countries.lookup(\"USA\"),\n",
    "    'Orange Co': pc.countries.lookup(\"USA\"),\n",
    "    'Unknown': pd.NA,\n",
    "    'L`Italia': pc.countries.lookup(\"IT\"),\n",
    "    'Kern': pd.NA,\n",
    "    'STTHOMASI': pd.NA,\n",
    "    'Everywhere And Anywhere': pd.NA,\n",
    "    'United Staes': pc.countries.lookup(\"USA\"),\n",
    "    'Deutschland': pc.countries.lookup(\"DE\"),\n",
    "}\n"
   ],
   "outputs": [
    {
     "name": "stdout",
     "output_type": "stream",
     "text": [
      "Requirement already satisfied: pycountry in /opt/anaconda3/lib/python3.11/site-packages (23.12.11)\r\n",
      "Not found   Alderney\n",
      "SubdivisionHierarchy(code='MX-MEX', country_code='MX', name='México', parent_code=None, type='State')\n",
      "SubdivisionHierarchy(code='GT-GU', country_code='GT', name='Guatemala', parent_code=None, type='Department')\n",
      "SubdivisionHierarchy(code='GB-ENG', country_code='GB', name='England', parent_code=None, type='Country')\n",
      "Not found   N/A\n",
      "Not found   Turkey\n",
      "Not found   US OF A\n",
      "Not found   Tdzimi\n",
      "SubdivisionHierarchy(code='BE-WLX', country_code='BE', name='Luxembourg', parent='WAL', parent_code='BE-WAL', type='Province')\n",
      "SubdivisionHierarchy(code='LU-LU', country_code='LU', name='Luxembourg', parent_code=None, type='Canton')\n",
      "Not found   España\n",
      "SubdivisionHierarchy(code='BD-13', country_code='BD', name='Dhaka', parent='C', parent_code='BD-C', type='District')\n",
      "SubdivisionHierarchy(code='BD-15', country_code='BD', name='Faridpur', parent='C', parent_code='BD-C', type='District')\n",
      "SubdivisionHierarchy(code='BD-17', country_code='BD', name='Gopalganj', parent='C', parent_code='BD-C', type='District')\n",
      "SubdivisionHierarchy(code='BD-18', country_code='BD', name='Gazipur', parent='C', parent_code='BD-C', type='District')\n",
      "SubdivisionHierarchy(code='BD-26', country_code='BD', name='Kishoreganj', parent='C', parent_code='BD-C', type='District')\n",
      "SubdivisionHierarchy(code='BD-33', country_code='BD', name='Manikganj', parent='C', parent_code='BD-C', type='District')\n",
      "SubdivisionHierarchy(code='BD-35', country_code='BD', name='Munshiganj', parent='C', parent_code='BD-C', type='District')\n",
      "SubdivisionHierarchy(code='BD-36', country_code='BD', name='Madaripur', parent='C', parent_code='BD-C', type='District')\n",
      "SubdivisionHierarchy(code='BD-40', country_code='BD', name='Narayanganj', parent='C', parent_code='BD-C', type='District')\n",
      "SubdivisionHierarchy(code='BD-42', country_code='BD', name='Narsingdi', parent='C', parent_code='BD-C', type='District')\n",
      "SubdivisionHierarchy(code='BD-53', country_code='BD', name='Rajbari', parent='C', parent_code='BD-C', type='District')\n",
      "SubdivisionHierarchy(code='BD-62', country_code='BD', name='Shariatpur', parent='C', parent_code='BD-C', type='District')\n",
      "SubdivisionHierarchy(code='BD-63', country_code='BD', name='Tangail', parent='C', parent_code='BD-C', type='District')\n",
      "SubdivisionHierarchy(code='FJ-09', country_code='FJ', name='Naitasiri', parent='C', parent_code='FJ-C', type='Province')\n",
      "SubdivisionHierarchy(code='FJ-10', country_code='FJ', name='Namosi', parent='C', parent_code='FJ-C', type='Province')\n",
      "SubdivisionHierarchy(code='FJ-12', country_code='FJ', name='Rewa', parent='C', parent_code='FJ-C', type='Province')\n",
      "SubdivisionHierarchy(code='FJ-13', country_code='FJ', name='Serua', parent='C', parent_code='FJ-C', type='Province')\n",
      "SubdivisionHierarchy(code='FJ-14', country_code='FJ', name='Tailevu', parent='C', parent_code='FJ-C', type='Province')\n",
      "SubdivisionHierarchy(code='GQ-CS', country_code='GQ', name='Centro Sud', parent='C', parent_code='GQ-C', type='Province')\n",
      "SubdivisionHierarchy(code='GQ-DJ', country_code='GQ', name='Djibloho', parent='C', parent_code='GQ-C', type='Province')\n",
      "SubdivisionHierarchy(code='GQ-KN', country_code='GQ', name='Kié-Ntem', parent='C', parent_code='GQ-C', type='Province')\n",
      "SubdivisionHierarchy(code='GQ-LI', country_code='GQ', name='Litoral', parent='C', parent_code='GQ-C', type='Province')\n",
      "SubdivisionHierarchy(code='GQ-WN', country_code='GQ', name='Wele-Nzas', parent='C', parent_code='GQ-C', type='Province')\n",
      "SubdivisionHierarchy(code='IE-G', country_code='IE', name='Galway', parent='C', parent_code='IE-C', type='County')\n",
      "SubdivisionHierarchy(code='IE-LM', country_code='IE', name='Leitrim', parent='C', parent_code='IE-C', type='County')\n",
      "SubdivisionHierarchy(code='IE-MO', country_code='IE', name='Mayo', parent='C', parent_code='IE-C', type='County')\n",
      "SubdivisionHierarchy(code='IE-RN', country_code='IE', name='Roscommon', parent='C', parent_code='IE-C', type='County')\n",
      "SubdivisionHierarchy(code='IE-SO', country_code='IE', name='Sligo', parent='C', parent_code='IE-C', type='County')\n",
      "SubdivisionHierarchy(code='MW-DE', country_code='MW', name='Dedza', parent='C', parent_code='MW-C', type='District')\n",
      "SubdivisionHierarchy(code='MW-DO', country_code='MW', name='Dowa', parent='C', parent_code='MW-C', type='District')\n",
      "SubdivisionHierarchy(code='MW-KS', country_code='MW', name='Kasungu', parent='C', parent_code='MW-C', type='District')\n",
      "SubdivisionHierarchy(code='MW-LI', country_code='MW', name='Lilongwe', parent='C', parent_code='MW-C', type='District')\n",
      "SubdivisionHierarchy(code='MW-MC', country_code='MW', name='Mchinji', parent='C', parent_code='MW-C', type='District')\n",
      "SubdivisionHierarchy(code='MW-NI', country_code='MW', name='Ntchisi', parent='C', parent_code='MW-C', type='District')\n",
      "SubdivisionHierarchy(code='MW-NK', country_code='MW', name='Nkhotakota', parent='C', parent_code='MW-C', type='District')\n",
      "SubdivisionHierarchy(code='MW-NU', country_code='MW', name='Ntcheu', parent='C', parent_code='MW-C', type='District')\n",
      "SubdivisionHierarchy(code='MW-SA', country_code='MW', name='Salima', parent='C', parent_code='MW-C', type='District')\n",
      "SubdivisionHierarchy(code='UG-101', country_code='UG', name='Kalangala', parent='C', parent_code='UG-C', type='District')\n",
      "SubdivisionHierarchy(code='UG-102', country_code='UG', name='Kampala', parent='C', parent_code='UG-C', type='City')\n",
      "SubdivisionHierarchy(code='UG-103', country_code='UG', name='Kiboga', parent='C', parent_code='UG-C', type='District')\n",
      "SubdivisionHierarchy(code='UG-104', country_code='UG', name='Luwero', parent='C', parent_code='UG-C', type='District')\n",
      "SubdivisionHierarchy(code='UG-105', country_code='UG', name='Masaka', parent='C', parent_code='UG-C', type='District')\n",
      "SubdivisionHierarchy(code='UG-106', country_code='UG', name='Mpigi', parent='C', parent_code='UG-C', type='District')\n",
      "SubdivisionHierarchy(code='UG-107', country_code='UG', name='Mubende', parent='C', parent_code='UG-C', type='District')\n",
      "SubdivisionHierarchy(code='UG-108', country_code='UG', name='Mukono', parent='C', parent_code='UG-C', type='District')\n",
      "SubdivisionHierarchy(code='UG-109', country_code='UG', name='Nakasongola', parent='C', parent_code='UG-C', type='District')\n",
      "SubdivisionHierarchy(code='UG-110', country_code='UG', name='Rakai', parent='C', parent_code='UG-C', type='District')\n",
      "SubdivisionHierarchy(code='UG-111', country_code='UG', name='Sembabule', parent='C', parent_code='UG-C', type='District')\n",
      "SubdivisionHierarchy(code='UG-112', country_code='UG', name='Kayunga', parent='C', parent_code='UG-C', type='District')\n",
      "SubdivisionHierarchy(code='UG-113', country_code='UG', name='Wakiso', parent='C', parent_code='UG-C', type='District')\n",
      "SubdivisionHierarchy(code='UG-114', country_code='UG', name='Lyantonde', parent='C', parent_code='UG-C', type='District')\n",
      "SubdivisionHierarchy(code='UG-115', country_code='UG', name='Mityana', parent='C', parent_code='UG-C', type='District')\n",
      "SubdivisionHierarchy(code='UG-116', country_code='UG', name='Nakaseke', parent='C', parent_code='UG-C', type='District')\n",
      "SubdivisionHierarchy(code='UG-117', country_code='UG', name='Buikwe', parent='C', parent_code='UG-C', type='District')\n",
      "SubdivisionHierarchy(code='UG-118', country_code='UG', name='Bukomansibi', parent='C', parent_code='UG-C', type='District')\n",
      "SubdivisionHierarchy(code='UG-119', country_code='UG', name='Butambala', parent='C', parent_code='UG-C', type='District')\n",
      "SubdivisionHierarchy(code='UG-120', country_code='UG', name='Buvuma', parent='C', parent_code='UG-C', type='District')\n",
      "SubdivisionHierarchy(code='UG-121', country_code='UG', name='Gomba', parent='C', parent_code='UG-C', type='District')\n",
      "SubdivisionHierarchy(code='UG-122', country_code='UG', name='Kalungu', parent='C', parent_code='UG-C', type='District')\n",
      "SubdivisionHierarchy(code='UG-123', country_code='UG', name='Kyankwanzi', parent='C', parent_code='UG-C', type='District')\n",
      "SubdivisionHierarchy(code='UG-124', country_code='UG', name='Lwengo', parent='C', parent_code='UG-C', type='District')\n",
      "SubdivisionHierarchy(code='UG-125', country_code='UG', name='Kyotera', parent='C', parent_code='UG-C', type='District')\n",
      "SubdivisionHierarchy(code='UG-126', country_code='UG', name='Kasanda', parent='C', parent_code='UG-C', type='District')\n",
      "SubdivisionHierarchy(code='IT-FE', country_code='IT', name='Ferrara', parent='45', parent_code='IT-45', type='Province')\n",
      "Not found   Lkjlj\n",
      "Not found   N/A - On The Road\n",
      "SubdivisionHierarchy(code='UA-05', country_code='UA', name='Vinnytska oblast', parent_code=None, type='Region')\n",
      "SubdivisionHierarchy(code='UA-07', country_code='UA', name='Volynska oblast', parent_code=None, type='Region')\n",
      "SubdivisionHierarchy(code='UA-09', country_code='UA', name='Luhanska oblast', parent_code=None, type='Region')\n",
      "SubdivisionHierarchy(code='UA-12', country_code='UA', name='Dnipropetrovska oblast', parent_code=None, type='Region')\n",
      "SubdivisionHierarchy(code='UA-14', country_code='UA', name='Donetska oblast', parent_code=None, type='Region')\n",
      "SubdivisionHierarchy(code='UA-18', country_code='UA', name='Zhytomyrska oblast', parent_code=None, type='Region')\n",
      "SubdivisionHierarchy(code='UA-21', country_code='UA', name='Zakarpatska oblast', parent_code=None, type='Region')\n",
      "SubdivisionHierarchy(code='UA-23', country_code='UA', name='Zaporizka oblast', parent_code=None, type='Region')\n",
      "SubdivisionHierarchy(code='UA-26', country_code='UA', name='Ivano-Frankivska oblast', parent_code=None, type='Region')\n",
      "SubdivisionHierarchy(code='UA-30', country_code='UA', name='Kyiv', parent_code=None, type='City')\n",
      "SubdivisionHierarchy(code='UA-32', country_code='UA', name='Kyivska oblast', parent_code=None, type='Region')\n",
      "SubdivisionHierarchy(code='UA-35', country_code='UA', name='Kirovohradska oblast', parent_code=None, type='Region')\n",
      "SubdivisionHierarchy(code='UA-40', country_code='UA', name='Sevastopol', parent_code=None, type='City')\n",
      "SubdivisionHierarchy(code='UA-43', country_code='UA', name='Avtonomna Respublika Krym', parent_code=None, type='Republic')\n",
      "SubdivisionHierarchy(code='UA-46', country_code='UA', name='Lvivska oblast', parent_code=None, type='Region')\n",
      "SubdivisionHierarchy(code='UA-48', country_code='UA', name='Mykolaivska oblast', parent_code=None, type='Region')\n",
      "SubdivisionHierarchy(code='UA-51', country_code='UA', name='Odeska oblast', parent_code=None, type='Region')\n",
      "SubdivisionHierarchy(code='UA-53', country_code='UA', name='Poltavska oblast', parent_code=None, type='Region')\n",
      "SubdivisionHierarchy(code='UA-56', country_code='UA', name='Rivnenska oblast', parent_code=None, type='Region')\n",
      "SubdivisionHierarchy(code='UA-59', country_code='UA', name='Sumska oblast', parent_code=None, type='Region')\n",
      "SubdivisionHierarchy(code='UA-61', country_code='UA', name='Ternopilska oblast', parent_code=None, type='Region')\n",
      "SubdivisionHierarchy(code='UA-63', country_code='UA', name='Kharkivska oblast', parent_code=None, type='Region')\n",
      "SubdivisionHierarchy(code='UA-65', country_code='UA', name='Khersonska oblast', parent_code=None, type='Region')\n",
      "SubdivisionHierarchy(code='UA-68', country_code='UA', name='Khmelnytska oblast', parent_code=None, type='Region')\n",
      "SubdivisionHierarchy(code='UA-71', country_code='UA', name='Cherkaska oblast', parent_code=None, type='Region')\n",
      "SubdivisionHierarchy(code='UA-74', country_code='UA', name='Chernihivska oblast', parent_code=None, type='Region')\n",
      "SubdivisionHierarchy(code='UA-77', country_code='UA', name='Chernivetska oblast', parent_code=None, type='Region')\n",
      "SubdivisionHierarchy(code='ES-PV', country_code='ES', name='Euskal Herria', parent_code=None, type='Autonomous community')\n",
      "Not found   Yugoslavia\n",
      "SubdivisionHierarchy(code='NL-AW', country_code='NL', name='Aruba', parent_code=None, type='Country')\n",
      "Not found   Richmond Country\n",
      "Not found   Framingham\n",
      "SubdivisionHierarchy(code='BZ-BZ', country_code='BZ', name='Belize', parent_code=None, type='District')\n",
      "Not found   United Kindgonm\n",
      "Not found   Universe\n",
      "Not found   ST HELENA\n",
      "SubdivisionHierarchy(code='GB-SCT', country_code='GB', name='Scotland', parent_code=None, type='Country')\n",
      "Not found   Aroostook\n",
      "Not found   Burma\n",
      "Not found   Van Wert\n",
      "Not found   US>\n",
      "Not found   FAR AWAY\n",
      "Not found   K1C7B1\n",
      "Not found   Rutherford\n",
      "SubdivisionHierarchy(code='GB-CMD', country_code='GB', name='Camden', parent='GB-ENG', parent_code='GB-GB-ENG', type='London borough')\n",
      "Not found   USA>\n",
      "Not found   UAE\n",
      "Not found   Petrolwar Nation\n",
      "SubdivisionHierarchy(code='US-AK', country_code='US', name='Alaska', parent_code=None, type='State')\n",
      "SubdivisionHierarchy(code='US-AL', country_code='US', name='Alabama', parent_code=None, type='State')\n",
      "SubdivisionHierarchy(code='US-AR', country_code='US', name='Arkansas', parent_code=None, type='State')\n",
      "SubdivisionHierarchy(code='US-AS', country_code='US', name='American Samoa', parent_code=None, type='Outlying area')\n",
      "SubdivisionHierarchy(code='US-AZ', country_code='US', name='Arizona', parent_code=None, type='State')\n",
      "SubdivisionHierarchy(code='US-CA', country_code='US', name='California', parent_code=None, type='State')\n",
      "SubdivisionHierarchy(code='US-CO', country_code='US', name='Colorado', parent_code=None, type='State')\n",
      "SubdivisionHierarchy(code='US-CT', country_code='US', name='Connecticut', parent_code=None, type='State')\n",
      "SubdivisionHierarchy(code='US-DC', country_code='US', name='District of Columbia', parent_code=None, type='District')\n",
      "SubdivisionHierarchy(code='US-DE', country_code='US', name='Delaware', parent_code=None, type='State')\n",
      "SubdivisionHierarchy(code='US-FL', country_code='US', name='Florida', parent_code=None, type='State')\n",
      "SubdivisionHierarchy(code='US-GA', country_code='US', name='Georgia', parent_code=None, type='State')\n",
      "SubdivisionHierarchy(code='US-GU', country_code='US', name='Guam', parent_code=None, type='Outlying area')\n",
      "SubdivisionHierarchy(code='US-HI', country_code='US', name='Hawaii', parent_code=None, type='State')\n",
      "SubdivisionHierarchy(code='US-IA', country_code='US', name='Iowa', parent_code=None, type='State')\n",
      "SubdivisionHierarchy(code='US-ID', country_code='US', name='Idaho', parent_code=None, type='State')\n",
      "SubdivisionHierarchy(code='US-IL', country_code='US', name='Illinois', parent_code=None, type='State')\n",
      "SubdivisionHierarchy(code='US-IN', country_code='US', name='Indiana', parent_code=None, type='State')\n",
      "SubdivisionHierarchy(code='US-KS', country_code='US', name='Kansas', parent_code=None, type='State')\n",
      "SubdivisionHierarchy(code='US-KY', country_code='US', name='Kentucky', parent_code=None, type='State')\n",
      "SubdivisionHierarchy(code='US-LA', country_code='US', name='Louisiana', parent_code=None, type='State')\n",
      "SubdivisionHierarchy(code='US-MA', country_code='US', name='Massachusetts', parent_code=None, type='State')\n",
      "SubdivisionHierarchy(code='US-MD', country_code='US', name='Maryland', parent_code=None, type='State')\n",
      "SubdivisionHierarchy(code='US-ME', country_code='US', name='Maine', parent_code=None, type='State')\n",
      "SubdivisionHierarchy(code='US-MI', country_code='US', name='Michigan', parent_code=None, type='State')\n",
      "SubdivisionHierarchy(code='US-MN', country_code='US', name='Minnesota', parent_code=None, type='State')\n",
      "SubdivisionHierarchy(code='US-MO', country_code='US', name='Missouri', parent_code=None, type='State')\n",
      "SubdivisionHierarchy(code='US-MP', country_code='US', name='Northern Mariana Islands', parent_code=None, type='Outlying area')\n",
      "SubdivisionHierarchy(code='US-MS', country_code='US', name='Mississippi', parent_code=None, type='State')\n",
      "SubdivisionHierarchy(code='US-MT', country_code='US', name='Montana', parent_code=None, type='State')\n",
      "SubdivisionHierarchy(code='US-NC', country_code='US', name='North Carolina', parent_code=None, type='State')\n",
      "SubdivisionHierarchy(code='US-ND', country_code='US', name='North Dakota', parent_code=None, type='State')\n",
      "SubdivisionHierarchy(code='US-NE', country_code='US', name='Nebraska', parent_code=None, type='State')\n",
      "SubdivisionHierarchy(code='US-NH', country_code='US', name='New Hampshire', parent_code=None, type='State')\n",
      "SubdivisionHierarchy(code='US-NJ', country_code='US', name='New Jersey', parent_code=None, type='State')\n",
      "SubdivisionHierarchy(code='US-NM', country_code='US', name='New Mexico', parent_code=None, type='State')\n",
      "SubdivisionHierarchy(code='US-NV', country_code='US', name='Nevada', parent_code=None, type='State')\n",
      "SubdivisionHierarchy(code='US-NY', country_code='US', name='New York', parent_code=None, type='State')\n",
      "SubdivisionHierarchy(code='US-OH', country_code='US', name='Ohio', parent_code=None, type='State')\n",
      "SubdivisionHierarchy(code='US-OK', country_code='US', name='Oklahoma', parent_code=None, type='State')\n",
      "SubdivisionHierarchy(code='US-OR', country_code='US', name='Oregon', parent_code=None, type='State')\n",
      "SubdivisionHierarchy(code='US-PA', country_code='US', name='Pennsylvania', parent_code=None, type='State')\n",
      "SubdivisionHierarchy(code='US-PR', country_code='US', name='Puerto Rico', parent_code=None, type='Outlying area')\n",
      "SubdivisionHierarchy(code='US-RI', country_code='US', name='Rhode Island', parent_code=None, type='State')\n",
      "SubdivisionHierarchy(code='US-SC', country_code='US', name='South Carolina', parent_code=None, type='State')\n",
      "SubdivisionHierarchy(code='US-SD', country_code='US', name='South Dakota', parent_code=None, type='State')\n",
      "SubdivisionHierarchy(code='US-TN', country_code='US', name='Tennessee', parent_code=None, type='State')\n",
      "SubdivisionHierarchy(code='US-TX', country_code='US', name='Texas', parent_code=None, type='State')\n",
      "SubdivisionHierarchy(code='US-UM', country_code='US', name='United States Minor Outlying Islands', parent_code=None, type='Outlying area')\n",
      "SubdivisionHierarchy(code='US-UT', country_code='US', name='Utah', parent_code=None, type='State')\n",
      "SubdivisionHierarchy(code='US-VA', country_code='US', name='Virginia', parent_code=None, type='State')\n",
      "SubdivisionHierarchy(code='US-VI', country_code='US', name='Virgin Islands, U.S.', parent_code=None, type='Outlying area')\n",
      "SubdivisionHierarchy(code='US-VT', country_code='US', name='Vermont', parent_code=None, type='State')\n",
      "SubdivisionHierarchy(code='US-WA', country_code='US', name='Washington', parent_code=None, type='State')\n",
      "SubdivisionHierarchy(code='US-WI', country_code='US', name='Wisconsin', parent_code=None, type='State')\n",
      "SubdivisionHierarchy(code='US-WV', country_code='US', name='West Virginia', parent_code=None, type='State')\n",
      "SubdivisionHierarchy(code='US-WY', country_code='US', name='Wyoming', parent_code=None, type='State')\n",
      "Not found   Shelby\n",
      "Not found   Catalonia\n",
      "Not found   Caribbean Sea\n",
      "Not found   Cananda\n",
      "Not found   Pender\n",
      "SubdivisionHierarchy(code='PA-8', country_code='PA', name='Panamá', parent_code=None, type='Province')\n",
      "Not found   La France\n",
      "Not found   Phillipines\n",
      "SubdivisionHierarchy(code='US-PR', country_code='US', name='Puerto Rico', parent_code=None, type='Outlying area')\n",
      "SubdivisionHierarchy(code='NG-NI', country_code='NG', name='Niger', parent_code=None, type='State')\n",
      "Not found   Los Estados Unidos De Norte America\n",
      "Not found   Orange Co\n",
      "Not found   Unknown\n",
      "SubdivisionHierarchy(code='NZ-AUK', country_code='NZ', name='Auckland', parent_code=None, type='Region')\n",
      "SubdivisionHierarchy(code='NZ-BOP', country_code='NZ', name='Bay of Plenty', parent_code=None, type='Region')\n",
      "SubdivisionHierarchy(code='NZ-CAN', country_code='NZ', name='Canterbury', parent_code=None, type='Region')\n",
      "SubdivisionHierarchy(code='NZ-CIT', country_code='NZ', name='Chatham Islands Territory', parent_code=None, type='Special island authority')\n",
      "SubdivisionHierarchy(code='NZ-GIS', country_code='NZ', name='Gisborne', parent_code=None, type='Region')\n",
      "SubdivisionHierarchy(code='NZ-HKB', country_code='NZ', name=\"Hawke's Bay\", parent_code=None, type='Region')\n",
      "SubdivisionHierarchy(code='NZ-MBH', country_code='NZ', name='Marlborough', parent_code=None, type='Region')\n",
      "SubdivisionHierarchy(code='NZ-MWT', country_code='NZ', name='Manawatu-Wanganui', parent_code=None, type='Region')\n",
      "SubdivisionHierarchy(code='NZ-NSN', country_code='NZ', name='Nelson', parent_code=None, type='Region')\n",
      "SubdivisionHierarchy(code='NZ-NTL', country_code='NZ', name='Northland', parent_code=None, type='Region')\n",
      "SubdivisionHierarchy(code='NZ-OTA', country_code='NZ', name='Otago', parent_code=None, type='Region')\n",
      "SubdivisionHierarchy(code='NZ-STL', country_code='NZ', name='Southland', parent_code=None, type='Region')\n",
      "SubdivisionHierarchy(code='NZ-TAS', country_code='NZ', name='Tasman', parent_code=None, type='Region')\n",
      "SubdivisionHierarchy(code='NZ-TKI', country_code='NZ', name='Taranaki', parent_code=None, type='Region')\n",
      "SubdivisionHierarchy(code='NZ-WGN', country_code='NZ', name='Wellington', parent_code=None, type='Region')\n",
      "SubdivisionHierarchy(code='NZ-WKO', country_code='NZ', name='Waikato', parent_code=None, type='Region')\n",
      "SubdivisionHierarchy(code='NZ-WTC', country_code='NZ', name='West Coast', parent_code=None, type='Region')\n",
      "Not found   L`Italia\n",
      "Not found   Kern\n",
      "Not found   STTHOMASI\n",
      "Not found   Everywhere And Anywhere\n",
      "Not found   United Staes\n",
      "Not found   Deutschland\n",
      "time: 3.26 s (started: 2024-05-09 22:28:00 +10:00)\n"
     ]
    }
   ],
   "execution_count": 7
  },
  {
   "cell_type": "code",
   "id": "18667822",
   "metadata": {
    "ExecuteTime": {
     "end_time": "2024-05-09T12:28:03.567590Z",
     "start_time": "2024-05-09T12:28:03.537114Z"
    }
   },
   "source": [
    "def matchCountry(name):\n",
    "    if not pd.isna(name):\n",
    "        country = 0\n",
    "        if name in matchCountryMap:\n",
    "            country = matchCountryMap.get(name)\n",
    "        else:\n",
    "            country = manualMatchCountryMap.get(name)\n",
    "        if country is pd.NA or country is None: return \"others\"\n",
    "        return country.name\n",
    "    return \"others\"\n",
    "# \n",
    "user[\"User-Country\"] = user[\"User-Country\"].apply(\n",
    "    lambda name: matchCountry(name)\n",
    ")\n",
    "user[\"User-Country\"]"
   ],
   "outputs": [
    {
     "data": {
      "text/plain": [
       "0               Canada\n",
       "1        United States\n",
       "2        United States\n",
       "3        United States\n",
       "4               others\n",
       "             ...      \n",
       "48294           Canada\n",
       "48295           Canada\n",
       "48296    United States\n",
       "48297        Australia\n",
       "48298    United States\n",
       "Name: User-Country, Length: 48299, dtype: object"
      ]
     },
     "execution_count": 8,
     "metadata": {},
     "output_type": "execute_result"
    },
    {
     "name": "stdout",
     "output_type": "stream",
     "text": [
      "time: 28.6 ms (started: 2024-05-09 22:28:03 +10:00)\n"
     ]
    }
   ],
   "execution_count": 8
  },
  {
   "cell_type": "code",
   "id": "d340191a",
   "metadata": {
    "ExecuteTime": {
     "end_time": "2024-05-09T12:28:03.572197Z",
     "start_time": "2024-05-09T12:28:03.568306Z"
    }
   },
   "source": [
    "user.drop([\"User-City\", \"User-State\"], axis = 1, inplace=True)"
   ],
   "outputs": [
    {
     "name": "stdout",
     "output_type": "stream",
     "text": [
      "time: 2.22 ms (started: 2024-05-09 22:28:03 +10:00)\n"
     ]
    }
   ],
   "execution_count": 9
  },
  {
   "cell_type": "code",
   "id": "f2adc5a9",
   "metadata": {
    "ExecuteTime": {
     "end_time": "2024-05-09T12:28:03.576780Z",
     "start_time": "2024-05-09T12:28:03.572752Z"
    }
   },
   "source": [
    "# Remove Age outlier\n",
    "outliers = user[(user[\"User-Age\"] < 5) | (user[\"User-Age\"] >= 100)]\n",
    "user.drop(outliers.index, inplace=True)"
   ],
   "outputs": [
    {
     "name": "stdout",
     "output_type": "stream",
     "text": [
      "time: 2.66 ms (started: 2024-05-09 22:28:03 +10:00)\n"
     ]
    }
   ],
   "execution_count": 10
  },
  {
   "cell_type": "code",
   "id": "939aa250",
   "metadata": {
    "ExecuteTime": {
     "end_time": "2024-05-09T12:28:03.582739Z",
     "start_time": "2024-05-09T12:28:03.578543Z"
    }
   },
   "source": [
    "user"
   ],
   "outputs": [
    {
     "data": {
      "text/plain": [
       "       User-ID   User-Country  User-Age\n",
       "0            8         Canada        34\n",
       "1            9  United States        34\n",
       "2           16  United States        34\n",
       "3           17  United States        34\n",
       "4           19         others        14\n",
       "...        ...            ...       ...\n",
       "48294   278846         Canada        23\n",
       "48295   278849         Canada        23\n",
       "48296   278851  United States        33\n",
       "48297   278852      Australia        32\n",
       "48298   278854  United States        34\n",
       "\n",
       "[48115 rows x 3 columns]"
      ],
      "text/html": [
       "<div>\n",
       "<style scoped>\n",
       "    .dataframe tbody tr th:only-of-type {\n",
       "        vertical-align: middle;\n",
       "    }\n",
       "\n",
       "    .dataframe tbody tr th {\n",
       "        vertical-align: top;\n",
       "    }\n",
       "\n",
       "    .dataframe thead th {\n",
       "        text-align: right;\n",
       "    }\n",
       "</style>\n",
       "<table border=\"1\" class=\"dataframe\">\n",
       "  <thead>\n",
       "    <tr style=\"text-align: right;\">\n",
       "      <th></th>\n",
       "      <th>User-ID</th>\n",
       "      <th>User-Country</th>\n",
       "      <th>User-Age</th>\n",
       "    </tr>\n",
       "  </thead>\n",
       "  <tbody>\n",
       "    <tr>\n",
       "      <th>0</th>\n",
       "      <td>8</td>\n",
       "      <td>Canada</td>\n",
       "      <td>34</td>\n",
       "    </tr>\n",
       "    <tr>\n",
       "      <th>1</th>\n",
       "      <td>9</td>\n",
       "      <td>United States</td>\n",
       "      <td>34</td>\n",
       "    </tr>\n",
       "    <tr>\n",
       "      <th>2</th>\n",
       "      <td>16</td>\n",
       "      <td>United States</td>\n",
       "      <td>34</td>\n",
       "    </tr>\n",
       "    <tr>\n",
       "      <th>3</th>\n",
       "      <td>17</td>\n",
       "      <td>United States</td>\n",
       "      <td>34</td>\n",
       "    </tr>\n",
       "    <tr>\n",
       "      <th>4</th>\n",
       "      <td>19</td>\n",
       "      <td>others</td>\n",
       "      <td>14</td>\n",
       "    </tr>\n",
       "    <tr>\n",
       "      <th>...</th>\n",
       "      <td>...</td>\n",
       "      <td>...</td>\n",
       "      <td>...</td>\n",
       "    </tr>\n",
       "    <tr>\n",
       "      <th>48294</th>\n",
       "      <td>278846</td>\n",
       "      <td>Canada</td>\n",
       "      <td>23</td>\n",
       "    </tr>\n",
       "    <tr>\n",
       "      <th>48295</th>\n",
       "      <td>278849</td>\n",
       "      <td>Canada</td>\n",
       "      <td>23</td>\n",
       "    </tr>\n",
       "    <tr>\n",
       "      <th>48296</th>\n",
       "      <td>278851</td>\n",
       "      <td>United States</td>\n",
       "      <td>33</td>\n",
       "    </tr>\n",
       "    <tr>\n",
       "      <th>48297</th>\n",
       "      <td>278852</td>\n",
       "      <td>Australia</td>\n",
       "      <td>32</td>\n",
       "    </tr>\n",
       "    <tr>\n",
       "      <th>48298</th>\n",
       "      <td>278854</td>\n",
       "      <td>United States</td>\n",
       "      <td>34</td>\n",
       "    </tr>\n",
       "  </tbody>\n",
       "</table>\n",
       "<p>48115 rows × 3 columns</p>\n",
       "</div>"
      ]
     },
     "execution_count": 11,
     "metadata": {},
     "output_type": "execute_result"
    },
    {
     "name": "stdout",
     "output_type": "stream",
     "text": [
      "time: 2.77 ms (started: 2024-05-09 22:28:03 +10:00)\n"
     ]
    }
   ],
   "execution_count": 11
  },
  {
   "cell_type": "code",
   "id": "78cff234",
   "metadata": {
    "ExecuteTime": {
     "end_time": "2024-05-09T12:28:03.589680Z",
     "start_time": "2024-05-09T12:28:03.583211Z"
    }
   },
   "source": [
    "user.describe()"
   ],
   "outputs": [
    {
     "data": {
      "text/plain": [
       "             User-ID      User-Age\n",
       "count   48115.000000  48115.000000\n",
       "mean   139551.696893     35.310423\n",
       "std     80430.008962     10.676056\n",
       "min         8.000000      5.000000\n",
       "25%     69164.000000     31.000000\n",
       "50%    138849.000000     34.000000\n",
       "75%    209416.500000     37.000000\n",
       "max    278854.000000     99.000000"
      ],
      "text/html": [
       "<div>\n",
       "<style scoped>\n",
       "    .dataframe tbody tr th:only-of-type {\n",
       "        vertical-align: middle;\n",
       "    }\n",
       "\n",
       "    .dataframe tbody tr th {\n",
       "        vertical-align: top;\n",
       "    }\n",
       "\n",
       "    .dataframe thead th {\n",
       "        text-align: right;\n",
       "    }\n",
       "</style>\n",
       "<table border=\"1\" class=\"dataframe\">\n",
       "  <thead>\n",
       "    <tr style=\"text-align: right;\">\n",
       "      <th></th>\n",
       "      <th>User-ID</th>\n",
       "      <th>User-Age</th>\n",
       "    </tr>\n",
       "  </thead>\n",
       "  <tbody>\n",
       "    <tr>\n",
       "      <th>count</th>\n",
       "      <td>48115.000000</td>\n",
       "      <td>48115.000000</td>\n",
       "    </tr>\n",
       "    <tr>\n",
       "      <th>mean</th>\n",
       "      <td>139551.696893</td>\n",
       "      <td>35.310423</td>\n",
       "    </tr>\n",
       "    <tr>\n",
       "      <th>std</th>\n",
       "      <td>80430.008962</td>\n",
       "      <td>10.676056</td>\n",
       "    </tr>\n",
       "    <tr>\n",
       "      <th>min</th>\n",
       "      <td>8.000000</td>\n",
       "      <td>5.000000</td>\n",
       "    </tr>\n",
       "    <tr>\n",
       "      <th>25%</th>\n",
       "      <td>69164.000000</td>\n",
       "      <td>31.000000</td>\n",
       "    </tr>\n",
       "    <tr>\n",
       "      <th>50%</th>\n",
       "      <td>138849.000000</td>\n",
       "      <td>34.000000</td>\n",
       "    </tr>\n",
       "    <tr>\n",
       "      <th>75%</th>\n",
       "      <td>209416.500000</td>\n",
       "      <td>37.000000</td>\n",
       "    </tr>\n",
       "    <tr>\n",
       "      <th>max</th>\n",
       "      <td>278854.000000</td>\n",
       "      <td>99.000000</td>\n",
       "    </tr>\n",
       "  </tbody>\n",
       "</table>\n",
       "</div>"
      ]
     },
     "execution_count": 12,
     "metadata": {},
     "output_type": "execute_result"
    },
    {
     "name": "stdout",
     "output_type": "stream",
     "text": [
      "time: 5.05 ms (started: 2024-05-09 22:28:03 +10:00)\n"
     ]
    }
   ],
   "execution_count": 12
  },
  {
   "cell_type": "code",
   "id": "b35df30d",
   "metadata": {
    "ExecuteTime": {
     "end_time": "2024-05-09T12:28:03.626426Z",
     "start_time": "2024-05-09T12:28:03.590161Z"
    }
   },
   "source": [
    "user.to_csv(\"user.csv\")"
   ],
   "outputs": [
    {
     "name": "stdout",
     "output_type": "stream",
     "text": [
      "time: 34.8 ms (started: 2024-05-09 22:28:03 +10:00)\n"
     ]
    }
   ],
   "execution_count": 13
  },
  {
   "cell_type": "code",
   "id": "3c04bbaf",
   "metadata": {
    "ExecuteTime": {
     "end_time": "2024-05-09T12:28:03.631181Z",
     "start_time": "2024-05-09T12:28:03.627213Z"
    }
   },
   "source": [
    "user[\"User-Country\"].value_counts()"
   ],
   "outputs": [
    {
     "data": {
      "text/plain": [
       "User-Country\n",
       "United States     34358\n",
       "Canada             4595\n",
       "Germany            1852\n",
       "United Kingdom     1778\n",
       "Australia           974\n",
       "                  ...  \n",
       "Guatemala             1\n",
       "Cuba                  1\n",
       "Albania               1\n",
       "Bahrain               1\n",
       "Ghana                 1\n",
       "Name: count, Length: 125, dtype: int64"
      ]
     },
     "execution_count": 14,
     "metadata": {},
     "output_type": "execute_result"
    },
    {
     "name": "stdout",
     "output_type": "stream",
     "text": [
      "time: 2.49 ms (started: 2024-05-09 22:28:03 +10:00)\n"
     ]
    }
   ],
   "execution_count": 14
  },
  {
   "cell_type": "code",
   "id": "e7dd5deb",
   "metadata": {
    "ExecuteTime": {
     "end_time": "2024-05-09T12:28:03.635856Z",
     "start_time": "2024-05-09T12:28:03.631770Z"
    }
   },
   "source": [
    "rating"
   ],
   "outputs": [
    {
     "data": {
      "text/plain": [
       "        User-ID        ISBN  Book-Rating\n",
       "0        276744  038550120X            7\n",
       "1        276754  0684867621            8\n",
       "2        276755  0451166892            5\n",
       "3        276762  0380711524            5\n",
       "4        276772  0553572369            7\n",
       "...         ...         ...          ...\n",
       "204159   276688  0892966548           10\n",
       "204160   276688  1551669315            6\n",
       "204161   276704  0345386108            6\n",
       "204162   276704  0743211383            7\n",
       "204163   276709  0515107662           10\n",
       "\n",
       "[204164 rows x 3 columns]"
      ],
      "text/html": [
       "<div>\n",
       "<style scoped>\n",
       "    .dataframe tbody tr th:only-of-type {\n",
       "        vertical-align: middle;\n",
       "    }\n",
       "\n",
       "    .dataframe tbody tr th {\n",
       "        vertical-align: top;\n",
       "    }\n",
       "\n",
       "    .dataframe thead th {\n",
       "        text-align: right;\n",
       "    }\n",
       "</style>\n",
       "<table border=\"1\" class=\"dataframe\">\n",
       "  <thead>\n",
       "    <tr style=\"text-align: right;\">\n",
       "      <th></th>\n",
       "      <th>User-ID</th>\n",
       "      <th>ISBN</th>\n",
       "      <th>Book-Rating</th>\n",
       "    </tr>\n",
       "  </thead>\n",
       "  <tbody>\n",
       "    <tr>\n",
       "      <th>0</th>\n",
       "      <td>276744</td>\n",
       "      <td>038550120X</td>\n",
       "      <td>7</td>\n",
       "    </tr>\n",
       "    <tr>\n",
       "      <th>1</th>\n",
       "      <td>276754</td>\n",
       "      <td>0684867621</td>\n",
       "      <td>8</td>\n",
       "    </tr>\n",
       "    <tr>\n",
       "      <th>2</th>\n",
       "      <td>276755</td>\n",
       "      <td>0451166892</td>\n",
       "      <td>5</td>\n",
       "    </tr>\n",
       "    <tr>\n",
       "      <th>3</th>\n",
       "      <td>276762</td>\n",
       "      <td>0380711524</td>\n",
       "      <td>5</td>\n",
       "    </tr>\n",
       "    <tr>\n",
       "      <th>4</th>\n",
       "      <td>276772</td>\n",
       "      <td>0553572369</td>\n",
       "      <td>7</td>\n",
       "    </tr>\n",
       "    <tr>\n",
       "      <th>...</th>\n",
       "      <td>...</td>\n",
       "      <td>...</td>\n",
       "      <td>...</td>\n",
       "    </tr>\n",
       "    <tr>\n",
       "      <th>204159</th>\n",
       "      <td>276688</td>\n",
       "      <td>0892966548</td>\n",
       "      <td>10</td>\n",
       "    </tr>\n",
       "    <tr>\n",
       "      <th>204160</th>\n",
       "      <td>276688</td>\n",
       "      <td>1551669315</td>\n",
       "      <td>6</td>\n",
       "    </tr>\n",
       "    <tr>\n",
       "      <th>204161</th>\n",
       "      <td>276704</td>\n",
       "      <td>0345386108</td>\n",
       "      <td>6</td>\n",
       "    </tr>\n",
       "    <tr>\n",
       "      <th>204162</th>\n",
       "      <td>276704</td>\n",
       "      <td>0743211383</td>\n",
       "      <td>7</td>\n",
       "    </tr>\n",
       "    <tr>\n",
       "      <th>204163</th>\n",
       "      <td>276709</td>\n",
       "      <td>0515107662</td>\n",
       "      <td>10</td>\n",
       "    </tr>\n",
       "  </tbody>\n",
       "</table>\n",
       "<p>204164 rows × 3 columns</p>\n",
       "</div>"
      ]
     },
     "execution_count": 15,
     "metadata": {},
     "output_type": "execute_result"
    },
    {
     "name": "stdout",
     "output_type": "stream",
     "text": [
      "time: 2.82 ms (started: 2024-05-09 22:28:03 +10:00)\n"
     ]
    }
   ],
   "execution_count": 15
  },
  {
   "cell_type": "code",
   "id": "a8665bb7",
   "metadata": {
    "ExecuteTime": {
     "end_time": "2024-05-09T12:28:03.661263Z",
     "start_time": "2024-05-09T12:28:03.636443Z"
    }
   },
   "source": [
    "# average book rating can resolve new user issue\n",
    "average_ratings = rating.groupby('ISBN')['Book-Rating'].mean().reset_index()\n",
    "# Merge average_ratings with book_df\n",
    "book = pd.merge(book, round(average_ratings), on='ISBN', how='left')"
   ],
   "outputs": [
    {
     "name": "stdout",
     "output_type": "stream",
     "text": [
      "time: 23.3 ms (started: 2024-05-09 22:28:03 +10:00)\n"
     ]
    }
   ],
   "execution_count": 16
  },
  {
   "cell_type": "code",
   "id": "b5026eb6",
   "metadata": {
    "ExecuteTime": {
     "end_time": "2024-05-09T12:28:03.663920Z",
     "start_time": "2024-05-09T12:28:03.661893Z"
    }
   },
   "source": [
    "# Return top popular and highest rating books to new user\n",
    "def topBook(numBook):\n",
    "    rating_counts = rating[\"ISBN\"].value_counts().rename(\"Rating-Count\")\n",
    "    book_updated = pd.merge(book, rating_counts, left_on=\"ISBN\", right_index=True, how=\"left\")\n",
    "    book_updated.sort_values(by=[\"Book-Rating\", \"Rating-Count\"], ascending=[False, False], inplace=True)\n",
    "    topPopular = book_updated.head(numBook)\n",
    "    return topPopular"
   ],
   "outputs": [
    {
     "name": "stdout",
     "output_type": "stream",
     "text": [
      "time: 228 µs (started: 2024-05-09 22:28:03 +10:00)\n"
     ]
    }
   ],
   "execution_count": 17
  },
  {
   "cell_type": "code",
   "id": "0f5623b2",
   "metadata": {
    "ExecuteTime": {
     "end_time": "2024-05-09T12:28:03.682624Z",
     "start_time": "2024-05-09T12:28:03.664476Z"
    }
   },
   "source": [
    "topBook(10)"
   ],
   "outputs": [
    {
     "data": {
      "text/plain": [
       "             ISBN                                         Book-Title  \\\n",
       "5468   0618002235     The Two Towers (The Lord of the Rings, Part 2)   \n",
       "6253   0836220889                                  Calvin and Hobbes   \n",
       "15835  0439425220  Harry Potter and the Chamber of Secrets Postca...   \n",
       "10157  0743454529       My Sister's Keeper : A Novel (Picoult, Jodi)   \n",
       "2012   0836218221  The Authoritative Calvin and Hobbes (Calvin an...   \n",
       "5638   0060256656                                    The Giving Tree   \n",
       "5467   0618002243  The Return of the King (The Lord of The Rings,...   \n",
       "9864   0811824829    52 Deck Series: 52 Ways to Celebrate Friendship   \n",
       "4502   0394800389  Fox in Socks (I Can Read It All by Myself Begi...   \n",
       "14615  0836213319                       Dilbert: A Book of Postcards   \n",
       "\n",
       "            Book-Author  Year-Of-Publication                 Book-Publisher  \\\n",
       "5468   J. R. R. Tolkien                 1999       Houghton Mifflin Company   \n",
       "6253     Bill Watterson                 1987      Andrews McMeel Publishing   \n",
       "15835     J. K. Rowling                 2002                     Scholastic   \n",
       "10157      Jodi Picoult                 2004                          Atria   \n",
       "2012     Bill Watterson                 1990      Andrews McMeel Publishing   \n",
       "5638   Shel Silverstein                 1964       HarperCollins Publishers   \n",
       "5467   J. R. R. Tolkien                 1999       Houghton Mifflin Company   \n",
       "9864        Lynn Gordon                 2000                Chronicle Books   \n",
       "4502          Dr. Seuss                 1965  Random House Children's Books   \n",
       "14615       Scott Adams                 1996             Andrews McMeel Pub   \n",
       "\n",
       "       Book-Rating  Rating-Count  \n",
       "5468          10.0            24  \n",
       "6253          10.0            23  \n",
       "15835         10.0            23  \n",
       "10157         10.0            22  \n",
       "2012          10.0            20  \n",
       "5638          10.0            20  \n",
       "5467          10.0            16  \n",
       "9864          10.0            16  \n",
       "4502          10.0            14  \n",
       "14615         10.0            13  "
      ],
      "text/html": [
       "<div>\n",
       "<style scoped>\n",
       "    .dataframe tbody tr th:only-of-type {\n",
       "        vertical-align: middle;\n",
       "    }\n",
       "\n",
       "    .dataframe tbody tr th {\n",
       "        vertical-align: top;\n",
       "    }\n",
       "\n",
       "    .dataframe thead th {\n",
       "        text-align: right;\n",
       "    }\n",
       "</style>\n",
       "<table border=\"1\" class=\"dataframe\">\n",
       "  <thead>\n",
       "    <tr style=\"text-align: right;\">\n",
       "      <th></th>\n",
       "      <th>ISBN</th>\n",
       "      <th>Book-Title</th>\n",
       "      <th>Book-Author</th>\n",
       "      <th>Year-Of-Publication</th>\n",
       "      <th>Book-Publisher</th>\n",
       "      <th>Book-Rating</th>\n",
       "      <th>Rating-Count</th>\n",
       "    </tr>\n",
       "  </thead>\n",
       "  <tbody>\n",
       "    <tr>\n",
       "      <th>5468</th>\n",
       "      <td>0618002235</td>\n",
       "      <td>The Two Towers (The Lord of the Rings, Part 2)</td>\n",
       "      <td>J. R. R. Tolkien</td>\n",
       "      <td>1999</td>\n",
       "      <td>Houghton Mifflin Company</td>\n",
       "      <td>10.0</td>\n",
       "      <td>24</td>\n",
       "    </tr>\n",
       "    <tr>\n",
       "      <th>6253</th>\n",
       "      <td>0836220889</td>\n",
       "      <td>Calvin and Hobbes</td>\n",
       "      <td>Bill Watterson</td>\n",
       "      <td>1987</td>\n",
       "      <td>Andrews McMeel Publishing</td>\n",
       "      <td>10.0</td>\n",
       "      <td>23</td>\n",
       "    </tr>\n",
       "    <tr>\n",
       "      <th>15835</th>\n",
       "      <td>0439425220</td>\n",
       "      <td>Harry Potter and the Chamber of Secrets Postca...</td>\n",
       "      <td>J. K. Rowling</td>\n",
       "      <td>2002</td>\n",
       "      <td>Scholastic</td>\n",
       "      <td>10.0</td>\n",
       "      <td>23</td>\n",
       "    </tr>\n",
       "    <tr>\n",
       "      <th>10157</th>\n",
       "      <td>0743454529</td>\n",
       "      <td>My Sister's Keeper : A Novel (Picoult, Jodi)</td>\n",
       "      <td>Jodi Picoult</td>\n",
       "      <td>2004</td>\n",
       "      <td>Atria</td>\n",
       "      <td>10.0</td>\n",
       "      <td>22</td>\n",
       "    </tr>\n",
       "    <tr>\n",
       "      <th>2012</th>\n",
       "      <td>0836218221</td>\n",
       "      <td>The Authoritative Calvin and Hobbes (Calvin an...</td>\n",
       "      <td>Bill Watterson</td>\n",
       "      <td>1990</td>\n",
       "      <td>Andrews McMeel Publishing</td>\n",
       "      <td>10.0</td>\n",
       "      <td>20</td>\n",
       "    </tr>\n",
       "    <tr>\n",
       "      <th>5638</th>\n",
       "      <td>0060256656</td>\n",
       "      <td>The Giving Tree</td>\n",
       "      <td>Shel Silverstein</td>\n",
       "      <td>1964</td>\n",
       "      <td>HarperCollins Publishers</td>\n",
       "      <td>10.0</td>\n",
       "      <td>20</td>\n",
       "    </tr>\n",
       "    <tr>\n",
       "      <th>5467</th>\n",
       "      <td>0618002243</td>\n",
       "      <td>The Return of the King (The Lord of The Rings,...</td>\n",
       "      <td>J. R. R. Tolkien</td>\n",
       "      <td>1999</td>\n",
       "      <td>Houghton Mifflin Company</td>\n",
       "      <td>10.0</td>\n",
       "      <td>16</td>\n",
       "    </tr>\n",
       "    <tr>\n",
       "      <th>9864</th>\n",
       "      <td>0811824829</td>\n",
       "      <td>52 Deck Series: 52 Ways to Celebrate Friendship</td>\n",
       "      <td>Lynn Gordon</td>\n",
       "      <td>2000</td>\n",
       "      <td>Chronicle Books</td>\n",
       "      <td>10.0</td>\n",
       "      <td>16</td>\n",
       "    </tr>\n",
       "    <tr>\n",
       "      <th>4502</th>\n",
       "      <td>0394800389</td>\n",
       "      <td>Fox in Socks (I Can Read It All by Myself Begi...</td>\n",
       "      <td>Dr. Seuss</td>\n",
       "      <td>1965</td>\n",
       "      <td>Random House Children's Books</td>\n",
       "      <td>10.0</td>\n",
       "      <td>14</td>\n",
       "    </tr>\n",
       "    <tr>\n",
       "      <th>14615</th>\n",
       "      <td>0836213319</td>\n",
       "      <td>Dilbert: A Book of Postcards</td>\n",
       "      <td>Scott Adams</td>\n",
       "      <td>1996</td>\n",
       "      <td>Andrews McMeel Pub</td>\n",
       "      <td>10.0</td>\n",
       "      <td>13</td>\n",
       "    </tr>\n",
       "  </tbody>\n",
       "</table>\n",
       "</div>"
      ]
     },
     "execution_count": 18,
     "metadata": {},
     "output_type": "execute_result"
    },
    {
     "name": "stdout",
     "output_type": "stream",
     "text": [
      "time: 16.9 ms (started: 2024-05-09 22:28:03 +10:00)\n"
     ]
    }
   ],
   "execution_count": 18
  },
  {
   "cell_type": "code",
   "id": "dbc1e6e9",
   "metadata": {
    "ExecuteTime": {
     "end_time": "2024-05-09T12:28:03.685328Z",
     "start_time": "2024-05-09T12:28:03.683391Z"
    }
   },
   "source": [
    "def discretize_age_group(age):\n",
    "    if age <= 16:\n",
    "        return \"Child\"\n",
    "    elif 17 <= age <= 30:  \n",
    "        return \"Young Adult\"\n",
    "    elif 31 <= age <= 45:  \n",
    "        return \"Middle-Aged Adult\"\n",
    "    else:\n",
    "        return \"Old-aged Adult\""
   ],
   "outputs": [
    {
     "name": "stdout",
     "output_type": "stream",
     "text": [
      "time: 190 µs (started: 2024-05-09 22:28:03 +10:00)\n"
     ]
    }
   ],
   "execution_count": 19
  },
  {
   "cell_type": "code",
   "id": "eedb8624",
   "metadata": {
    "ExecuteTime": {
     "end_time": "2024-05-09T12:28:03.693615Z",
     "start_time": "2024-05-09T12:28:03.685902Z"
    }
   },
   "source": [
    "user[\"User-Age\"] = user[\"User-Age\"].apply(lambda age : discretize_age_group(age))"
   ],
   "outputs": [
    {
     "name": "stdout",
     "output_type": "stream",
     "text": [
      "time: 6.17 ms (started: 2024-05-09 22:28:03 +10:00)\n"
     ]
    }
   ],
   "execution_count": 20
  },
  {
   "cell_type": "code",
   "id": "96a31ba4",
   "metadata": {
    "ExecuteTime": {
     "end_time": "2024-05-09T12:28:03.697588Z",
     "start_time": "2024-05-09T12:28:03.694174Z"
    }
   },
   "source": [
    "age_group_counts = user[\"User-Age\"].value_counts()"
   ],
   "outputs": [
    {
     "name": "stdout",
     "output_type": "stream",
     "text": [
      "time: 1.53 ms (started: 2024-05-09 22:28:03 +10:00)\n"
     ]
    }
   ],
   "execution_count": 21
  },
  {
   "cell_type": "code",
   "id": "7c4552b1",
   "metadata": {
    "ExecuteTime": {
     "end_time": "2024-05-09T12:28:04.183244Z",
     "start_time": "2024-05-09T12:28:03.698488Z"
    }
   },
   "source": [
    "import matplotlib.pyplot as plt\n",
    "\n",
    "# number of users from each age group\n",
    "plt.figure(figsize=(10, 6))\n",
    "age_group_counts.plot(kind='bar', color='skyblue')\n",
    "plt.xlabel('Age Group')\n",
    "plt.ylabel('Number of Users')\n",
    "plt.title('Number of Users in Each Age Group')\n",
    "plt.xticks(rotation=45)\n",
    "plt.grid(axis='y', linestyle='--', alpha=0.7) \n",
    "plt.show()"
   ],
   "outputs": [
    {
     "data": {
      "text/plain": [
       "<Figure size 1000x600 with 1 Axes>"
      ],
      "image/png": "[encoded data removed]"
     },
     "metadata": {},
     "output_type": "display_data"
    },
    {
     "name": "stdout",
     "output_type": "stream",
     "text": [
      "time: 478 ms (started: 2024-05-09 22:28:03 +10:00)\n"
     ]
    }
   ],
   "execution_count": 22
  },
  {
   "cell_type": "code",
   "id": "68c3e740",
   "metadata": {
    "ExecuteTime": {
     "end_time": "2024-05-09T12:28:04.305192Z",
     "start_time": "2024-05-09T12:28:04.187709Z"
    }
   },
   "source": [
    "#pip install squarify\n",
    "import squarify\n",
    "country_counts = user['User-Country'].value_counts()\n",
    "large_countries = country_counts[country_counts >= 50]\n",
    "\n",
    "# Create a squarify treemap\n",
    "plt.figure(figsize=(17, 10))\n",
    "squarify.plot(sizes=large_countries, label=large_countries.index, alpha=0.7)\n",
    "plt.axis('off')\n",
    "plt.title('User Countries (Excluding Smaller Countries)')\n",
    "plt.show()\n"
   ],
   "outputs": [
    {
     "data": {
      "text/plain": [
       "<Figure size 1700x1000 with 1 Axes>"
      ],
      "image/png": "[encoded data removed]"
     },
     "metadata": {},
     "output_type": "display_data"
    },
    {
     "name": "stdout",
     "output_type": "stream",
     "text": [
      "time: 113 ms (started: 2024-05-09 22:28:04 +10:00)\n"
     ]
    }
   ],
   "execution_count": 23
  },
  {
   "cell_type": "code",
   "id": "ae533ea1",
   "metadata": {
    "ExecuteTime": {
     "end_time": "2024-05-09T12:28:04.317625Z",
     "start_time": "2024-05-09T12:28:04.306597Z"
    }
   },
   "source": [
    "book"
   ],
   "outputs": [
    {
     "data": {
      "text/plain": [
       "             ISBN                                         Book-Title  \\\n",
       "0      0002005018                                       Clara Callan   \n",
       "1      0374157065  Flu: The Story of the Great Influenza Pandemic...   \n",
       "2      0399135782                             The Kitchen God's Wife   \n",
       "3      0440234743                                      The Testament   \n",
       "4      0452264464               Beloved (Plume Contemporary Fiction)   \n",
       "...           ...                                                ...   \n",
       "18180  0375411615                                         Love, Etc.   \n",
       "18181  0836227751              The Wit And Whimsy Of Mary Engelbreit   \n",
       "18182  8433966634                            Los Detectives Salvajes   \n",
       "18183  0330353349                  The Ice House (TV Tie-In Edition)   \n",
       "18184  0394757645  Trouble Is My Business (Vintage Crime/Black Li...   \n",
       "\n",
       "                Book-Author  Year-Of-Publication             Book-Publisher  \\\n",
       "0      Richard Bruce Wright                 2001      HarperFlamingo Canada   \n",
       "1          Gina Bari Kolata                 1999       Farrar Straus Giroux   \n",
       "2                   Amy Tan                 1991           Putnam Pub Group   \n",
       "3              John Grisham                 1999                       Dell   \n",
       "4             Toni Morrison                 1994                      Plume   \n",
       "...                     ...                  ...                        ...   \n",
       "18180         Julian Barnes                 2001            Alfred A. Knopf   \n",
       "18181       Mary Engelbreit                 1997  Andrews McMeel Publishing   \n",
       "18182        Roberto Bolano                 2003                   Anagrama   \n",
       "18183       Minette Walters                 1997       McClelland & Stewart   \n",
       "18184      Raymond Chandler                 1992          Vintage Books USA   \n",
       "\n",
       "       Book-Rating  \n",
       "0              8.0  \n",
       "1              8.0  \n",
       "2              8.0  \n",
       "3              8.0  \n",
       "4              8.0  \n",
       "...            ...  \n",
       "18180          6.0  \n",
       "18181          9.0  \n",
       "18182          8.0  \n",
       "18183          7.0  \n",
       "18184          8.0  \n",
       "\n",
       "[18185 rows x 6 columns]"
      ],
      "text/html": [
       "<div>\n",
       "<style scoped>\n",
       "    .dataframe tbody tr th:only-of-type {\n",
       "        vertical-align: middle;\n",
       "    }\n",
       "\n",
       "    .dataframe tbody tr th {\n",
       "        vertical-align: top;\n",
       "    }\n",
       "\n",
       "    .dataframe thead th {\n",
       "        text-align: right;\n",
       "    }\n",
       "</style>\n",
       "<table border=\"1\" class=\"dataframe\">\n",
       "  <thead>\n",
       "    <tr style=\"text-align: right;\">\n",
       "      <th></th>\n",
       "      <th>ISBN</th>\n",
       "      <th>Book-Title</th>\n",
       "      <th>Book-Author</th>\n",
       "      <th>Year-Of-Publication</th>\n",
       "      <th>Book-Publisher</th>\n",
       "      <th>Book-Rating</th>\n",
       "    </tr>\n",
       "  </thead>\n",
       "  <tbody>\n",
       "    <tr>\n",
       "      <th>0</th>\n",
       "      <td>0002005018</td>\n",
       "      <td>Clara Callan</td>\n",
       "      <td>Richard Bruce Wright</td>\n",
       "      <td>2001</td>\n",
       "      <td>HarperFlamingo Canada</td>\n",
       "      <td>8.0</td>\n",
       "    </tr>\n",
       "    <tr>\n",
       "      <th>1</th>\n",
       "      <td>0374157065</td>\n",
       "      <td>Flu: The Story of the Great Influenza Pandemic...</td>\n",
       "      <td>Gina Bari Kolata</td>\n",
       "      <td>1999</td>\n",
       "      <td>Farrar Straus Giroux</td>\n",
       "      <td>8.0</td>\n",
       "    </tr>\n",
       "    <tr>\n",
       "      <th>2</th>\n",
       "      <td>0399135782</td>\n",
       "      <td>The Kitchen God's Wife</td>\n",
       "      <td>Amy Tan</td>\n",
       "      <td>1991</td>\n",
       "      <td>Putnam Pub Group</td>\n",
       "      <td>8.0</td>\n",
       "    </tr>\n",
       "    <tr>\n",
       "      <th>3</th>\n",
       "      <td>0440234743</td>\n",
       "      <td>The Testament</td>\n",
       "      <td>John Grisham</td>\n",
       "      <td>1999</td>\n",
       "      <td>Dell</td>\n",
       "      <td>8.0</td>\n",
       "    </tr>\n",
       "    <tr>\n",
       "      <th>4</th>\n",
       "      <td>0452264464</td>\n",
       "      <td>Beloved (Plume Contemporary Fiction)</td>\n",
       "      <td>Toni Morrison</td>\n",
       "      <td>1994</td>\n",
       "      <td>Plume</td>\n",
       "      <td>8.0</td>\n",
       "    </tr>\n",
       "    <tr>\n",
       "      <th>...</th>\n",
       "      <td>...</td>\n",
       "      <td>...</td>\n",
       "      <td>...</td>\n",
       "      <td>...</td>\n",
       "      <td>...</td>\n",
       "      <td>...</td>\n",
       "    </tr>\n",
       "    <tr>\n",
       "      <th>18180</th>\n",
       "      <td>0375411615</td>\n",
       "      <td>Love, Etc.</td>\n",
       "      <td>Julian Barnes</td>\n",
       "      <td>2001</td>\n",
       "      <td>Alfred A. Knopf</td>\n",
       "      <td>6.0</td>\n",
       "    </tr>\n",
       "    <tr>\n",
       "      <th>18181</th>\n",
       "      <td>0836227751</td>\n",
       "      <td>The Wit And Whimsy Of Mary Engelbreit</td>\n",
       "      <td>Mary Engelbreit</td>\n",
       "      <td>1997</td>\n",
       "      <td>Andrews McMeel Publishing</td>\n",
       "      <td>9.0</td>\n",
       "    </tr>\n",
       "    <tr>\n",
       "      <th>18182</th>\n",
       "      <td>8433966634</td>\n",
       "      <td>Los Detectives Salvajes</td>\n",
       "      <td>Roberto Bolano</td>\n",
       "      <td>2003</td>\n",
       "      <td>Anagrama</td>\n",
       "      <td>8.0</td>\n",
       "    </tr>\n",
       "    <tr>\n",
       "      <th>18183</th>\n",
       "      <td>0330353349</td>\n",
       "      <td>The Ice House (TV Tie-In Edition)</td>\n",
       "      <td>Minette Walters</td>\n",
       "      <td>1997</td>\n",
       "      <td>McClelland &amp; Stewart</td>\n",
       "      <td>7.0</td>\n",
       "    </tr>\n",
       "    <tr>\n",
       "      <th>18184</th>\n",
       "      <td>0394757645</td>\n",
       "      <td>Trouble Is My Business (Vintage Crime/Black Li...</td>\n",
       "      <td>Raymond Chandler</td>\n",
       "      <td>1992</td>\n",
       "      <td>Vintage Books USA</td>\n",
       "      <td>8.0</td>\n",
       "    </tr>\n",
       "  </tbody>\n",
       "</table>\n",
       "<p>18185 rows × 6 columns</p>\n",
       "</div>"
      ]
     },
     "execution_count": 24,
     "metadata": {},
     "output_type": "execute_result"
    },
    {
     "name": "stdout",
     "output_type": "stream",
     "text": [
      "time: 8.49 ms (started: 2024-05-09 22:28:04 +10:00)\n"
     ]
    }
   ],
   "execution_count": 24
  },
  {
   "cell_type": "code",
   "id": "146eabef",
   "metadata": {
    "ExecuteTime": {
     "end_time": "2024-05-09T12:28:04.347334Z",
     "start_time": "2024-05-09T12:28:04.318997Z"
    }
   },
   "source": [
    "rating_counts = rating[\"ISBN\"].value_counts().rename(\"Rating-Count\")\n",
    "book = pd.merge(book, rating_counts, left_on=\"ISBN\", right_index=True, how=\"left\")"
   ],
   "outputs": [
    {
     "name": "stdout",
     "output_type": "stream",
     "text": [
      "time: 25 ms (started: 2024-05-09 22:28:04 +10:00)\n"
     ]
    }
   ],
   "execution_count": 25
  },
  {
   "cell_type": "code",
   "id": "8c5fd66b",
   "metadata": {
    "ExecuteTime": {
     "end_time": "2024-05-09T12:28:04.443365Z",
     "start_time": "2024-05-09T12:28:04.350252Z"
    }
   },
   "source": [
    "author_stats = book.groupby('Book-Author').agg({'Book-Rating': 'mean', 'Rating-Count': 'sum'}).reset_index()\n",
    "author_stats.sort_values(by=['Rating-Count', 'Book-Rating'], ascending=[False, False], inplace=True)\n",
    "top_10_authors = author_stats.head(10)\n",
    "\n",
    "plt.figure(figsize=(10, 6))\n",
    "plt.barh(top_10_authors[\"Book-Author\"], top_10_authors[\"Book-Rating\"], color='skyblue')\n",
    "plt.xlabel(\"Average Rating\") \n",
    "plt.ylabel(\"Author\")  \n",
    "plt.title(\"Average Rating of Books for Top 10 most popular Authors\")\n",
    "plt.show()"
   ],
   "outputs": [
    {
     "data": {
      "text/plain": [
       "<Figure size 1000x600 with 1 Axes>"
      ],
      "image/png": "[encoded data removed]"
     },
     "metadata": {},
     "output_type": "display_data"
    },
    {
     "name": "stdout",
     "output_type": "stream",
     "text": [
      "time: 89.3 ms (started: 2024-05-09 22:28:04 +10:00)\n"
     ]
    }
   ],
   "execution_count": 26
  },
  {
   "cell_type": "code",
   "id": "783c04fe",
   "metadata": {
    "ExecuteTime": {
     "end_time": "2024-05-09T12:28:04.548908Z",
     "start_time": "2024-05-09T12:28:04.444657Z"
    }
   },
   "source": [
    "plt.figure(figsize=(10, 6))\n",
    "plt.barh(top_10_authors[\"Book-Author\"], top_10_authors[\"Rating-Count\"], color='skyblue')\n",
    "plt.xlabel(\"Rating Count\") \n",
    "plt.ylabel(\"Author\")  \n",
    "plt.title(\"Rating count of Books for Top 10 Authors\")\n",
    "plt.show()"
   ],
   "outputs": [
    {
     "data": {
      "text/plain": [
       "<Figure size 1000x600 with 1 Axes>"
      ],
      "image/png": "[encoded data removed]"
     },
     "metadata": {},
     "output_type": "display_data"
    },
    {
     "name": "stdout",
     "output_type": "stream",
     "text": [
      "time: 101 ms (started: 2024-05-09 22:28:04 +10:00)\n"
     ]
    }
   ],
   "execution_count": 27
  },
  {
   "cell_type": "code",
   "id": "73d29fbb",
   "metadata": {
    "ExecuteTime": {
     "end_time": "2024-05-09T12:28:07.010219Z",
     "start_time": "2024-05-09T12:28:04.551206Z"
    }
   },
   "source": [
    "import nltk\n",
    "from nltk.corpus import stopwords\n",
    "from nltk.tokenize import word_tokenize\n",
    "from nltk.stem import WordNetLemmatizer\n",
    "import re\n",
    "\n",
    "nltk.download('stopwords')\n",
    "nltk.download('punkt')\n",
    "nltk.download('wordnet')\n",
    "\n",
    "lemmatizer = WordNetLemmatizer()\n",
    "\n",
    "def preprocess_text(text):\n",
    "    # casefolding\n",
    "    text = str(text).lower()\n",
    "    # remove all non-alphabetic character\n",
    "    letters_only = re.sub(r'[^a-zA-Z]', ' ', text)\n",
    "    # tokenization\n",
    "    tokens = word_tokenize(letters_only)\n",
    "    # remove stopwords\n",
    "    stop_words = set(stopwords.words('english'))\n",
    "    # Lemmatization\n",
    "    tokens = [lemmatizer.lemmatize(word) for word in tokens if word not in stop_words]\n",
    "    text = ' '.join(tokens)\n",
    "    return text\n",
    "\n",
    "# Assuming \"books\" is a DataFrame and \"Book-Title\" is one of its columns\n",
    "book[\"Book-Title\"] = book[\"Book-Title\"].apply(preprocess_text)"
   ],
   "outputs": [
    {
     "name": "stderr",
     "output_type": "stream",
     "text": [
      "[nltk_data] Downloading package stopwords to\n",
      "[nltk_data]     /Users/ducbui/nltk_data...\n",
      "[nltk_data]   Package stopwords is already up-to-date!\n",
      "[nltk_data] Downloading package punkt to /Users/ducbui/nltk_data...\n",
      "[nltk_data]   Package punkt is already up-to-date!\n",
      "[nltk_data] Downloading package wordnet to /Users/ducbui/nltk_data...\n",
      "[nltk_data]   Package wordnet is already up-to-date!\n"
     ]
    },
    {
     "name": "stdout",
     "output_type": "stream",
     "text": [
      "time: 2.46 s (started: 2024-05-09 22:28:04 +10:00)\n"
     ]
    }
   ],
   "execution_count": 28
  },
  {
   "cell_type": "code",
   "id": "2cdae33d",
   "metadata": {
    "ExecuteTime": {
     "end_time": "2024-05-09T12:28:08.170779Z",
     "start_time": "2024-05-09T12:28:07.013574Z"
    }
   },
   "source": "book[\"Book-Author\"] = book[\"Book-Author\"].apply(preprocess_text)",
   "outputs": [
    {
     "name": "stdout",
     "output_type": "stream",
     "text": [
      "time: 1.16 s (started: 2024-05-09 22:28:07 +10:00)\n"
     ]
    }
   ],
   "execution_count": 29
  },
  {
   "cell_type": "code",
   "id": "e5c1cdc2",
   "metadata": {
    "ExecuteTime": {
     "end_time": "2024-05-09T12:28:08.177411Z",
     "start_time": "2024-05-09T12:28:08.171390Z"
    }
   },
   "source": [
    "def filter_ratings_by_user(users_df, ratings_df):\n",
    "    user_ids = users_df[\"User-ID\"]\n",
    "    filtered_ratings_df = ratings_df[ratings_df['User-ID'].isin(user_ids)]\n",
    "    return filtered_ratings_df\n",
    "rating = filter_ratings_by_user(user, rating)"
   ],
   "outputs": [
    {
     "name": "stdout",
     "output_type": "stream",
     "text": [
      "time: 4.51 ms (started: 2024-05-09 22:28:08 +10:00)\n"
     ]
    }
   ],
   "execution_count": 30
  },
  {
   "cell_type": "code",
   "id": "d26f479f",
   "metadata": {
    "ExecuteTime": {
     "end_time": "2024-05-09T12:28:08.181536Z",
     "start_time": "2024-05-09T12:28:08.177969Z"
    }
   },
   "source": [
    "rating"
   ],
   "outputs": [
    {
     "data": {
      "text/plain": [
       "        User-ID        ISBN  Book-Rating\n",
       "0        276744  038550120X            7\n",
       "1        276754  0684867621            8\n",
       "2        276755  0451166892            5\n",
       "3        276762  0380711524            5\n",
       "4        276772  0553572369            7\n",
       "...         ...         ...          ...\n",
       "204159   276688  0892966548           10\n",
       "204160   276688  1551669315            6\n",
       "204161   276704  0345386108            6\n",
       "204162   276704  0743211383            7\n",
       "204163   276709  0515107662           10\n",
       "\n",
       "[203319 rows x 3 columns]"
      ],
      "text/html": [
       "<div>\n",
       "<style scoped>\n",
       "    .dataframe tbody tr th:only-of-type {\n",
       "        vertical-align: middle;\n",
       "    }\n",
       "\n",
       "    .dataframe tbody tr th {\n",
       "        vertical-align: top;\n",
       "    }\n",
       "\n",
       "    .dataframe thead th {\n",
       "        text-align: right;\n",
       "    }\n",
       "</style>\n",
       "<table border=\"1\" class=\"dataframe\">\n",
       "  <thead>\n",
       "    <tr style=\"text-align: right;\">\n",
       "      <th></th>\n",
       "      <th>User-ID</th>\n",
       "      <th>ISBN</th>\n",
       "      <th>Book-Rating</th>\n",
       "    </tr>\n",
       "  </thead>\n",
       "  <tbody>\n",
       "    <tr>\n",
       "      <th>0</th>\n",
       "      <td>276744</td>\n",
       "      <td>038550120X</td>\n",
       "      <td>7</td>\n",
       "    </tr>\n",
       "    <tr>\n",
       "      <th>1</th>\n",
       "      <td>276754</td>\n",
       "      <td>0684867621</td>\n",
       "      <td>8</td>\n",
       "    </tr>\n",
       "    <tr>\n",
       "      <th>2</th>\n",
       "      <td>276755</td>\n",
       "      <td>0451166892</td>\n",
       "      <td>5</td>\n",
       "    </tr>\n",
       "    <tr>\n",
       "      <th>3</th>\n",
       "      <td>276762</td>\n",
       "      <td>0380711524</td>\n",
       "      <td>5</td>\n",
       "    </tr>\n",
       "    <tr>\n",
       "      <th>4</th>\n",
       "      <td>276772</td>\n",
       "      <td>0553572369</td>\n",
       "      <td>7</td>\n",
       "    </tr>\n",
       "    <tr>\n",
       "      <th>...</th>\n",
       "      <td>...</td>\n",
       "      <td>...</td>\n",
       "      <td>...</td>\n",
       "    </tr>\n",
       "    <tr>\n",
       "      <th>204159</th>\n",
       "      <td>276688</td>\n",
       "      <td>0892966548</td>\n",
       "      <td>10</td>\n",
       "    </tr>\n",
       "    <tr>\n",
       "      <th>204160</th>\n",
       "      <td>276688</td>\n",
       "      <td>1551669315</td>\n",
       "      <td>6</td>\n",
       "    </tr>\n",
       "    <tr>\n",
       "      <th>204161</th>\n",
       "      <td>276704</td>\n",
       "      <td>0345386108</td>\n",
       "      <td>6</td>\n",
       "    </tr>\n",
       "    <tr>\n",
       "      <th>204162</th>\n",
       "      <td>276704</td>\n",
       "      <td>0743211383</td>\n",
       "      <td>7</td>\n",
       "    </tr>\n",
       "    <tr>\n",
       "      <th>204163</th>\n",
       "      <td>276709</td>\n",
       "      <td>0515107662</td>\n",
       "      <td>10</td>\n",
       "    </tr>\n",
       "  </tbody>\n",
       "</table>\n",
       "<p>203319 rows × 3 columns</p>\n",
       "</div>"
      ]
     },
     "execution_count": 31,
     "metadata": {},
     "output_type": "execute_result"
    },
    {
     "name": "stdout",
     "output_type": "stream",
     "text": [
      "time: 2.35 ms (started: 2024-05-09 22:28:08 +10:00)\n"
     ]
    }
   ],
   "execution_count": 31
  },
  {
   "cell_type": "code",
   "id": "c4fb34a5",
   "metadata": {
    "ExecuteTime": {
     "end_time": "2024-05-09T12:28:08.258563Z",
     "start_time": "2024-05-09T12:28:08.181968Z"
    }
   },
   "source": [
    "isbn_to_index = {isbn: idx for idx, isbn in enumerate(rating['ISBN'].unique())}\n",
    "userId_to_index = {userId: idx for idx, userId in enumerate(rating['User-ID'].unique())}\n",
    "rating['ISBN'] = rating['ISBN'].map(isbn_to_index)\n",
    "rating['User-ID'] = rating['User-ID'].map(userId_to_index)"
   ],
   "outputs": [
    {
     "name": "stdout",
     "output_type": "stream",
     "text": [
      "time: 74.2 ms (started: 2024-05-09 22:28:08 +10:00)\n"
     ]
    },
    {
     "name": "stderr",
     "output_type": "stream",
     "text": [
      "/var/folders/hd/w17hkvkj0qvg0bg97xgk48440000gn/T/ipykernel_11086/3605437788.py:3: SettingWithCopyWarning: \n",
      "A value is trying to be set on a copy of a slice from a DataFrame.\n",
      "Try using .loc[row_indexer,col_indexer] = value instead\n",
      "\n",
      "See the caveats in the documentation: https://pandas.pydata.org/pandas-docs/stable/user_guide/indexing.html#returning-a-view-versus-a-copy\n",
      "  rating['ISBN'] = rating['ISBN'].map(isbn_to_index)\n",
      "/var/folders/hd/w17hkvkj0qvg0bg97xgk48440000gn/T/ipykernel_11086/3605437788.py:4: SettingWithCopyWarning: \n",
      "A value is trying to be set on a copy of a slice from a DataFrame.\n",
      "Try using .loc[row_indexer,col_indexer] = value instead\n",
      "\n",
      "See the caveats in the documentation: https://pandas.pydata.org/pandas-docs/stable/user_guide/indexing.html#returning-a-view-versus-a-copy\n",
      "  rating['User-ID'] = rating['User-ID'].map(userId_to_index)\n"
     ]
    }
   ],
   "execution_count": 32
  },
  {
   "cell_type": "code",
   "id": "faa4db33",
   "metadata": {
    "ExecuteTime": {
     "end_time": "2024-05-09T12:28:12.801374Z",
     "start_time": "2024-05-09T12:28:08.259935Z"
    }
   },
   "source": [
    "!pip install tensorflow\n",
    "import tensorflow.compat.v1 as tf\n",
    "def build_rating_sparse_tensor(ratings_df):\n",
    "    # Create sparse tensor\n",
    "    indices = ratings_df[['User-ID', 'ISBN']].values\n",
    "    values = ratings_df['Book-Rating'].values\n",
    "    dense_shape = [len(user), len(book)]\n",
    "    return tf.sparse.SparseTensor(indices=indices, values=values, dense_shape=dense_shape)\n"
   ],
   "outputs": [
    {
     "name": "stdout",
     "output_type": "stream",
     "text": [
      "Requirement already satisfied: tensorflow in /opt/anaconda3/lib/python3.11/site-packages (2.16.1)\r\n",
      "Requirement already satisfied: absl-py>=1.0.0 in /opt/anaconda3/lib/python3.11/site-packages (from tensorflow) (2.1.0)\r\n",
      "Requirement already satisfied: astunparse>=1.6.0 in /opt/anaconda3/lib/python3.11/site-packages (from tensorflow) (1.6.3)\r\n",
      "Requirement already satisfied: flatbuffers>=23.5.26 in /opt/anaconda3/lib/python3.11/site-packages (from tensorflow) (24.3.25)\r\n",
      "Requirement already satisfied: gast!=0.5.0,!=0.5.1,!=0.5.2,>=0.2.1 in /opt/anaconda3/lib/python3.11/site-packages (from tensorflow) (0.5.4)\r\n",
      "Requirement already satisfied: google-pasta>=0.1.1 in /opt/anaconda3/lib/python3.11/site-packages (from tensorflow) (0.2.0)\r\n",
      "Requirement already satisfied: h5py>=3.10.0 in /opt/anaconda3/lib/python3.11/site-packages (from tensorflow) (3.11.0)\r\n",
      "Requirement already satisfied: libclang>=13.0.0 in /opt/anaconda3/lib/python3.11/site-packages (from tensorflow) (18.1.1)\r\n",
      "Requirement already satisfied: ml-dtypes~=0.3.1 in /opt/anaconda3/lib/python3.11/site-packages (from tensorflow) (0.3.2)\r\n",
      "Requirement already satisfied: opt-einsum>=2.3.2 in /opt/anaconda3/lib/python3.11/site-packages (from tensorflow) (3.3.0)\r\n",
      "Requirement already satisfied: packaging in /opt/anaconda3/lib/python3.11/site-packages (from tensorflow) (23.1)\r\n",
      "Requirement already satisfied: protobuf!=4.21.0,!=4.21.1,!=4.21.2,!=4.21.3,!=4.21.4,!=4.21.5,<5.0.0dev,>=3.20.3 in /opt/anaconda3/lib/python3.11/site-packages (from tensorflow) (3.20.3)\r\n",
      "Requirement already satisfied: requests<3,>=2.21.0 in /opt/anaconda3/lib/python3.11/site-packages (from tensorflow) (2.31.0)\r\n",
      "Requirement already satisfied: setuptools in /opt/anaconda3/lib/python3.11/site-packages (from tensorflow) (68.2.2)\r\n",
      "Requirement already satisfied: six>=1.12.0 in /opt/anaconda3/lib/python3.11/site-packages (from tensorflow) (1.16.0)\r\n",
      "Requirement already satisfied: termcolor>=1.1.0 in /opt/anaconda3/lib/python3.11/site-packages (from tensorflow) (2.4.0)\r\n",
      "Requirement already satisfied: typing-extensions>=3.6.6 in /opt/anaconda3/lib/python3.11/site-packages (from tensorflow) (4.9.0)\r\n",
      "Requirement already satisfied: wrapt>=1.11.0 in /opt/anaconda3/lib/python3.11/site-packages (from tensorflow) (1.14.1)\r\n",
      "Requirement already satisfied: grpcio<2.0,>=1.24.3 in /opt/anaconda3/lib/python3.11/site-packages (from tensorflow) (1.63.0)\r\n",
      "Requirement already satisfied: tensorboard<2.17,>=2.16 in /opt/anaconda3/lib/python3.11/site-packages (from tensorflow) (2.16.2)\r\n",
      "Requirement already satisfied: keras>=3.0.0 in /opt/anaconda3/lib/python3.11/site-packages (from tensorflow) (3.3.3)\r\n",
      "Requirement already satisfied: tensorflow-io-gcs-filesystem>=0.23.1 in /opt/anaconda3/lib/python3.11/site-packages (from tensorflow) (0.37.0)\r\n",
      "Requirement already satisfied: numpy<2.0.0,>=1.23.5 in /opt/anaconda3/lib/python3.11/site-packages (from tensorflow) (1.26.4)\r\n",
      "Requirement already satisfied: wheel<1.0,>=0.23.0 in /opt/anaconda3/lib/python3.11/site-packages (from astunparse>=1.6.0->tensorflow) (0.41.2)\r\n",
      "Requirement already satisfied: rich in /opt/anaconda3/lib/python3.11/site-packages (from keras>=3.0.0->tensorflow) (13.3.5)\r\n",
      "Requirement already satisfied: namex in /opt/anaconda3/lib/python3.11/site-packages (from keras>=3.0.0->tensorflow) (0.0.8)\r\n",
      "Requirement already satisfied: optree in /opt/anaconda3/lib/python3.11/site-packages (from keras>=3.0.0->tensorflow) (0.11.0)\r\n",
      "Requirement already satisfied: charset-normalizer<4,>=2 in /opt/anaconda3/lib/python3.11/site-packages (from requests<3,>=2.21.0->tensorflow) (2.0.4)\r\n",
      "Requirement already satisfied: idna<4,>=2.5 in /opt/anaconda3/lib/python3.11/site-packages (from requests<3,>=2.21.0->tensorflow) (3.4)\r\n",
      "Requirement already satisfied: urllib3<3,>=1.21.1 in /opt/anaconda3/lib/python3.11/site-packages (from requests<3,>=2.21.0->tensorflow) (2.0.7)\r\n",
      "Requirement already satisfied: certifi>=2017.4.17 in /opt/anaconda3/lib/python3.11/site-packages (from requests<3,>=2.21.0->tensorflow) (2024.2.2)\r\n",
      "Requirement already satisfied: markdown>=2.6.8 in /opt/anaconda3/lib/python3.11/site-packages (from tensorboard<2.17,>=2.16->tensorflow) (3.4.1)\r\n",
      "Requirement already satisfied: tensorboard-data-server<0.8.0,>=0.7.0 in /opt/anaconda3/lib/python3.11/site-packages (from tensorboard<2.17,>=2.16->tensorflow) (0.7.2)\r\n",
      "Requirement already satisfied: werkzeug>=1.0.1 in /opt/anaconda3/lib/python3.11/site-packages (from tensorboard<2.17,>=2.16->tensorflow) (2.2.3)\r\n",
      "Requirement already satisfied: MarkupSafe>=2.1.1 in /opt/anaconda3/lib/python3.11/site-packages (from werkzeug>=1.0.1->tensorboard<2.17,>=2.16->tensorflow) (2.1.3)\r\n",
      "Requirement already satisfied: markdown-it-py<3.0.0,>=2.2.0 in /opt/anaconda3/lib/python3.11/site-packages (from rich->keras>=3.0.0->tensorflow) (2.2.0)\r\n",
      "Requirement already satisfied: pygments<3.0.0,>=2.13.0 in /opt/anaconda3/lib/python3.11/site-packages (from rich->keras>=3.0.0->tensorflow) (2.15.1)\r\n",
      "Requirement already satisfied: mdurl~=0.1 in /opt/anaconda3/lib/python3.11/site-packages (from markdown-it-py<3.0.0,>=2.2.0->rich->keras>=3.0.0->tensorflow) (0.1.0)\r\n",
      "time: 4.54 s (started: 2024-05-09 22:28:08 +10:00)\n"
     ]
    }
   ],
   "execution_count": 33
  },
  {
   "cell_type": "code",
   "id": "288b3ff3",
   "metadata": {
    "ExecuteTime": {
     "end_time": "2024-05-09T12:28:12.804581Z",
     "start_time": "2024-05-09T12:28:12.801890Z"
    }
   },
   "source": [
    "def sparse_mean_square_error(sparse_ratings, user_embeddings, book_embeddings):\n",
    "    predictions = tf.reduce_sum(\n",
    "      tf.gather(user_embeddings, sparse_ratings.indices[:, 0]) *\n",
    "      tf.gather(book_embeddings, sparse_ratings.indices[:, 1]),\n",
    "      axis=1)\n",
    "    loss = tf.losses.mean_squared_error(sparse_ratings.values, predictions)\n",
    "    return loss"
   ],
   "outputs": [
    {
     "name": "stdout",
     "output_type": "stream",
     "text": [
      "time: 238 µs (started: 2024-05-09 22:28:12 +10:00)\n"
     ]
    }
   ],
   "execution_count": 34
  },
  {
   "cell_type": "code",
   "id": "934584f1",
   "metadata": {
    "ExecuteTime": {
     "end_time": "2024-05-09T12:28:12.806698Z",
     "start_time": "2024-05-09T12:28:12.805190Z"
    }
   },
   "source": [
    "def compute_scores(query_embedding, item_embeddings):\n",
    "    u = query_embedding\n",
    "    V = item_embeddings\n",
    "    scores = u.dot(V.T)\n",
    "    return scores"
   ],
   "outputs": [
    {
     "name": "stdout",
     "output_type": "stream",
     "text": [
      "time: 147 µs (started: 2024-05-09 22:28:12 +10:00)\n"
     ]
    }
   ],
   "execution_count": 35
  },
  {
   "cell_type": "code",
   "id": "9ccca3c3",
   "metadata": {
    "ExecuteTime": {
     "end_time": "2024-05-09T12:28:12.811362Z",
     "start_time": "2024-05-09T12:28:12.807236Z"
    }
   },
   "source": [
    "from collections import defaultdict \n",
    "class CFModel(object):\n",
    "\n",
    "  def __init__(self, embedding_vars, loss, metrics=None):\n",
    "    self._embedding_vars = embedding_vars\n",
    "    self._loss = loss\n",
    "    self._metrics = metrics\n",
    "    self._embeddings = {k: None for k in embedding_vars}\n",
    "    self._session = None\n",
    "\n",
    "  @property\n",
    "  def embeddings(self):\n",
    "    return self._embeddings\n",
    "\n",
    "  def train(self, num_iterations=100, learning_rate=1.0, optimizer=tf.train.GradientDescentOptimizer):\n",
    "    with self._loss.graph.as_default():\n",
    "      opt = optimizer(learning_rate)\n",
    "      train_op = opt.minimize(self._loss)\n",
    "      local_init_op = tf.group(\n",
    "          tf.variables_initializer(opt.variables()),\n",
    "          tf.local_variables_initializer())\n",
    "      if self._session is None:\n",
    "        self._session = tf.Session()\n",
    "        with self._session.as_default():\n",
    "          self._session.run(tf.global_variables_initializer())\n",
    "          self._session.run(tf.tables_initializer())\n",
    "          tf.train.start_queue_runners()\n",
    "\n",
    "    with self._session.as_default():\n",
    "      local_init_op.run()\n",
    "      iterations = []\n",
    "      metrics = self._metrics or ({},)\n",
    "      metrics_vals = [defaultdict(list) for _ in self._metrics]\n",
    "\n",
    "      # Train and append results.\n",
    "      for i in range(num_iterations + 1):\n",
    "        _, results = self._session.run((train_op, metrics))\n",
    "        if (i % 10 == 0) or i == num_iterations:\n",
    "          print(\"\\r iteration %d: \" % i + \", \".join(\n",
    "                [\"%s=%f\" % (k, v) for r in results for k, v in r.items()]),\n",
    "                end='')\n",
    "          iterations.append(i)\n",
    "          for metric_val, result in zip(metrics_vals, results):\n",
    "            for k, v in result.items():\n",
    "              metric_val[k].append(v)\n",
    "\n",
    "      for k, v in self._embedding_vars.items():\n",
    "        self._embeddings[k] = v.eval()\n",
    "      return results"
   ],
   "outputs": [
    {
     "name": "stdout",
     "output_type": "stream",
     "text": [
      "time: 764 µs (started: 2024-05-09 22:28:12 +10:00)\n"
     ]
    }
   ],
   "execution_count": 36
  },
  {
   "cell_type": "code",
   "id": "8705569c",
   "metadata": {
    "ExecuteTime": {
     "end_time": "2024-05-09T12:28:12.814365Z",
     "start_time": "2024-05-09T12:28:12.811894Z"
    }
   },
   "source": [
    "from sklearn.model_selection import train_test_split\n",
    "def build_model(ratings, embedding_dim=3, init_stddev=1.):\n",
    "    # Split into train set and test set\n",
    "    train_ratings, test_ratings = train_test_split(ratings, test_size=0.25, random_state=42)\n",
    "    A_train = build_rating_sparse_tensor(train_ratings)\n",
    "    A_test = build_rating_sparse_tensor(test_ratings)\n",
    "\n",
    "    # Initialize the embeddings using a normal distribution.\n",
    "    U = tf.Variable(tf.random.normal(\n",
    "        [A_train.dense_shape[0], embedding_dim], stddev=init_stddev))\n",
    "    V = tf.Variable(tf.random.normal(\n",
    "        [A_train.dense_shape[1], embedding_dim], stddev=init_stddev))\n",
    "\n",
    "    train_loss = sparse_mean_square_error(A_train, U, V)\n",
    "    test_loss = sparse_mean_square_error(A_test, U, V)\n",
    "\n",
    "    metrics = {\n",
    "        'train_error': train_loss,\n",
    "        'test_error': test_loss\n",
    "    }\n",
    "    embeddings = {\n",
    "        \"user_id\": U,\n",
    "        \"book_id\": V\n",
    "    }\n",
    "\n",
    "    return CFModel(embeddings, train_loss, [metrics])\n"
   ],
   "outputs": [
    {
     "name": "stdout",
     "output_type": "stream",
     "text": [
      "time: 378 µs (started: 2024-05-09 22:28:12 +10:00)\n"
     ]
    }
   ],
   "execution_count": 37
  },
  {
   "cell_type": "code",
   "id": "1dc4c621",
   "metadata": {
    "scrolled": true,
    "ExecuteTime": {
     "end_time": "2024-05-09T12:28:17.994982Z",
     "start_time": "2024-05-09T12:28:12.814882Z"
    }
   },
   "source": [
    "tf.compat.v1.disable_eager_execution()\n",
    "model = build_model(rating, embedding_dim=5, init_stddev=0.2)\n",
    "model.train(num_iterations=1000, learning_rate=10)"
   ],
   "outputs": [
    {
     "name": "stdout",
     "output_type": "stream",
     "text": [
      "WARNING:tensorflow:From /var/folders/hd/w17hkvkj0qvg0bg97xgk48440000gn/T/ipykernel_11086/1754287972.py:27: start_queue_runners (from tensorflow.python.training.queue_runner_impl) is deprecated and will be removed in a future version.\n",
      "Instructions for updating:\n",
      "To construct input pipelines, use the `tf.data` module.\n",
      "WARNING:tensorflow:`tf.train.start_queue_runners()` was called when no queue runners were defined. You can safely remove the call to this deprecated function.\n",
      " iteration 10: train_error=62.747280, test_error=62.863064"
     ]
    },
    {
     "name": "stderr",
     "output_type": "stream",
     "text": [
      "2024-05-09 22:28:12.868093: I tensorflow/compiler/mlir/mlir_graph_optimization_pass.cc:388] MLIR V1 optimization pass is not enabled\n"
     ]
    },
    {
     "name": "stdout",
     "output_type": "stream",
     "text": [
      " iteration 1000: train_error=3.389194, test_error=17.962429"
     ]
    },
    {
     "data": {
      "text/plain": [
       "[{'train_error': 3.389194, 'test_error': 17.96243}]"
      ]
     },
     "execution_count": 38,
     "metadata": {},
     "output_type": "execute_result"
    },
    {
     "name": "stdout",
     "output_type": "stream",
     "text": [
      "time: 5.18 s (started: 2024-05-09 22:28:12 +10:00)\n"
     ]
    }
   ],
   "execution_count": 38
  },
  {
   "cell_type": "code",
   "id": "ef4b2f61",
   "metadata": {
    "ExecuteTime": {
     "end_time": "2024-05-09T12:28:17.997924Z",
     "start_time": "2024-05-09T12:28:17.995569Z"
    }
   },
   "source": [
    "def book_neighbors(model, title_substring,k):\n",
    "    ids =  book[book['Book-Title'].str.contains(title_substring)].index.values\n",
    "    titles = book.iloc[ids]['Book-Title'].values\n",
    "    if len(titles) == 0:\n",
    "        raise ValueError(\"Found no book with title \" + title_substring)\n",
    "    print(\"Nearest neighbors of : \" + titles[0] + \"\\n\")\n",
    "    bookId = ids[0]\n",
    "    scores = compute_scores(model.embeddings[\"book_id\"][bookId], model.embeddings[\"book_id\"])\n",
    "    df = pd.DataFrame({\n",
    "      \"score\": list(scores),\n",
    "      'titles': book['Book-Title'],\n",
    "    })\n",
    "    return df.sort_values(by = 'score', ascending=False).head(k)"
   ],
   "outputs": [
    {
     "name": "stdout",
     "output_type": "stream",
     "text": [
      "time: 338 µs (started: 2024-05-09 22:28:17 +10:00)\n"
     ]
    }
   ],
   "execution_count": 39
  },
  {
   "cell_type": "code",
   "id": "df1e2ac6",
   "metadata": {
    "ExecuteTime": {
     "end_time": "2024-05-09T12:28:18.000445Z",
     "start_time": "2024-05-09T12:28:17.998515Z"
    }
   },
   "source": [
    "def user_recommendations(model, user_id, k):\n",
    "    user_embedding = model.embeddings[\"user_id\"][user_id]\n",
    "    book_embeddings = model.embeddings[\"book_id\"]\n",
    "    scores = np.dot(book_embeddings, user_embedding)\n",
    "    df = pd.DataFrame({\n",
    "        \"score\": scores,\n",
    "        \"ISBN\": book['ISBN'],  \n",
    "        \"title\": book['Book-Title']  \n",
    "    })\n",
    "    recommendations = df.sort_values(by='score', ascending=False).head(k)\n",
    "    return recommendations\n"
   ],
   "outputs": [
    {
     "name": "stdout",
     "output_type": "stream",
     "text": [
      "time: 242 µs (started: 2024-05-09 22:28:17 +10:00)\n"
     ]
    }
   ],
   "execution_count": 40
  },
  {
   "cell_type": "code",
   "id": "4f8d486f",
   "metadata": {
    "ExecuteTime": {
     "end_time": "2024-05-09T12:28:18.036665Z",
     "start_time": "2024-05-09T12:28:18.001012Z"
    }
   },
   "source": [
    "book_neighbors(model, \"face\", 10)"
   ],
   "outputs": [
    {
     "name": "stdout",
     "output_type": "stream",
     "text": [
      "Nearest neighbors of : face\n",
      "\n"
     ]
    },
    {
     "data": {
      "text/plain": [
       "          score                                            titles\n",
       "566   16.529606                                   fall knee oprah\n",
       "926   15.673342                                       cider rosie\n",
       "2807  14.964705           pawing past mr murphy mystery hardcover\n",
       "1530  14.464910                              prometheus deception\n",
       "947   14.373046  kalahari typing school men lady detective agency\n",
       "808   13.961779                                 alias grace novel\n",
       "7616  13.900249                                              time\n",
       "3102  13.639865                                       return king\n",
       "365   13.580880                                              face\n",
       "52    13.153678                            corelli mandolin novel"
      ],
      "text/html": [
       "<div>\n",
       "<style scoped>\n",
       "    .dataframe tbody tr th:only-of-type {\n",
       "        vertical-align: middle;\n",
       "    }\n",
       "\n",
       "    .dataframe tbody tr th {\n",
       "        vertical-align: top;\n",
       "    }\n",
       "\n",
       "    .dataframe thead th {\n",
       "        text-align: right;\n",
       "    }\n",
       "</style>\n",
       "<table border=\"1\" class=\"dataframe\">\n",
       "  <thead>\n",
       "    <tr style=\"text-align: right;\">\n",
       "      <th></th>\n",
       "      <th>score</th>\n",
       "      <th>titles</th>\n",
       "    </tr>\n",
       "  </thead>\n",
       "  <tbody>\n",
       "    <tr>\n",
       "      <th>566</th>\n",
       "      <td>16.529606</td>\n",
       "      <td>fall knee oprah</td>\n",
       "    </tr>\n",
       "    <tr>\n",
       "      <th>926</th>\n",
       "      <td>15.673342</td>\n",
       "      <td>cider rosie</td>\n",
       "    </tr>\n",
       "    <tr>\n",
       "      <th>2807</th>\n",
       "      <td>14.964705</td>\n",
       "      <td>pawing past mr murphy mystery hardcover</td>\n",
       "    </tr>\n",
       "    <tr>\n",
       "      <th>1530</th>\n",
       "      <td>14.464910</td>\n",
       "      <td>prometheus deception</td>\n",
       "    </tr>\n",
       "    <tr>\n",
       "      <th>947</th>\n",
       "      <td>14.373046</td>\n",
       "      <td>kalahari typing school men lady detective agency</td>\n",
       "    </tr>\n",
       "    <tr>\n",
       "      <th>808</th>\n",
       "      <td>13.961779</td>\n",
       "      <td>alias grace novel</td>\n",
       "    </tr>\n",
       "    <tr>\n",
       "      <th>7616</th>\n",
       "      <td>13.900249</td>\n",
       "      <td>time</td>\n",
       "    </tr>\n",
       "    <tr>\n",
       "      <th>3102</th>\n",
       "      <td>13.639865</td>\n",
       "      <td>return king</td>\n",
       "    </tr>\n",
       "    <tr>\n",
       "      <th>365</th>\n",
       "      <td>13.580880</td>\n",
       "      <td>face</td>\n",
       "    </tr>\n",
       "    <tr>\n",
       "      <th>52</th>\n",
       "      <td>13.153678</td>\n",
       "      <td>corelli mandolin novel</td>\n",
       "    </tr>\n",
       "  </tbody>\n",
       "</table>\n",
       "</div>"
      ]
     },
     "execution_count": 41,
     "metadata": {},
     "output_type": "execute_result"
    },
    {
     "name": "stdout",
     "output_type": "stream",
     "text": [
      "time: 28.2 ms (started: 2024-05-09 22:28:18 +10:00)\n"
     ]
    }
   ],
   "execution_count": 41
  },
  {
   "cell_type": "code",
   "id": "d455360c",
   "metadata": {
    "ExecuteTime": {
     "end_time": "2024-05-09T12:28:18.080936Z",
     "start_time": "2024-05-09T12:28:18.044267Z"
    }
   },
   "source": [
    "user_recommendations(model, 1, 10)"
   ],
   "outputs": [
    {
     "data": {
      "text/plain": [
       "          score        ISBN                                              title\n",
       "365   10.326658  0821770209                                               face\n",
       "1764   8.514009  0450411435                                                   \n",
       "260    8.325024  0671002481                          first wife club movie tie\n",
       "232    8.105584  8478800336  c mo ser una mujer morir en el intento colecci...\n",
       "876    7.972376  2070360423                              la peste folio series\n",
       "547    7.924779  0140620125           wuthering height penguin popular classic\n",
       "156    7.487984  0380730448  adrian mole diary secret diary adrian mole age...\n",
       "3563   7.449008  0380814803                    pursuit avon historical romance\n",
       "720    7.385853  3442720001                              da halsband der taube\n",
       "2841   7.374800  0140063838                                  clinging wreckage"
      ],
      "text/html": [
       "<div>\n",
       "<style scoped>\n",
       "    .dataframe tbody tr th:only-of-type {\n",
       "        vertical-align: middle;\n",
       "    }\n",
       "\n",
       "    .dataframe tbody tr th {\n",
       "        vertical-align: top;\n",
       "    }\n",
       "\n",
       "    .dataframe thead th {\n",
       "        text-align: right;\n",
       "    }\n",
       "</style>\n",
       "<table border=\"1\" class=\"dataframe\">\n",
       "  <thead>\n",
       "    <tr style=\"text-align: right;\">\n",
       "      <th></th>\n",
       "      <th>score</th>\n",
       "      <th>ISBN</th>\n",
       "      <th>title</th>\n",
       "    </tr>\n",
       "  </thead>\n",
       "  <tbody>\n",
       "    <tr>\n",
       "      <th>365</th>\n",
       "      <td>10.326658</td>\n",
       "      <td>0821770209</td>\n",
       "      <td>face</td>\n",
       "    </tr>\n",
       "    <tr>\n",
       "      <th>1764</th>\n",
       "      <td>8.514009</td>\n",
       "      <td>0450411435</td>\n",
       "      <td></td>\n",
       "    </tr>\n",
       "    <tr>\n",
       "      <th>260</th>\n",
       "      <td>8.325024</td>\n",
       "      <td>0671002481</td>\n",
       "      <td>first wife club movie tie</td>\n",
       "    </tr>\n",
       "    <tr>\n",
       "      <th>232</th>\n",
       "      <td>8.105584</td>\n",
       "      <td>8478800336</td>\n",
       "      <td>c mo ser una mujer morir en el intento colecci...</td>\n",
       "    </tr>\n",
       "    <tr>\n",
       "      <th>876</th>\n",
       "      <td>7.972376</td>\n",
       "      <td>2070360423</td>\n",
       "      <td>la peste folio series</td>\n",
       "    </tr>\n",
       "    <tr>\n",
       "      <th>547</th>\n",
       "      <td>7.924779</td>\n",
       "      <td>0140620125</td>\n",
       "      <td>wuthering height penguin popular classic</td>\n",
       "    </tr>\n",
       "    <tr>\n",
       "      <th>156</th>\n",
       "      <td>7.487984</td>\n",
       "      <td>0380730448</td>\n",
       "      <td>adrian mole diary secret diary adrian mole age...</td>\n",
       "    </tr>\n",
       "    <tr>\n",
       "      <th>3563</th>\n",
       "      <td>7.449008</td>\n",
       "      <td>0380814803</td>\n",
       "      <td>pursuit avon historical romance</td>\n",
       "    </tr>\n",
       "    <tr>\n",
       "      <th>720</th>\n",
       "      <td>7.385853</td>\n",
       "      <td>3442720001</td>\n",
       "      <td>da halsband der taube</td>\n",
       "    </tr>\n",
       "    <tr>\n",
       "      <th>2841</th>\n",
       "      <td>7.374800</td>\n",
       "      <td>0140063838</td>\n",
       "      <td>clinging wreckage</td>\n",
       "    </tr>\n",
       "  </tbody>\n",
       "</table>\n",
       "</div>"
      ]
     },
     "execution_count": 42,
     "metadata": {},
     "output_type": "execute_result"
    },
    {
     "name": "stdout",
     "output_type": "stream",
     "text": [
      "time: 24.7 ms (started: 2024-05-09 22:28:18 +10:00)\n"
     ]
    }
   ],
   "execution_count": 42
  },
  {
   "cell_type": "code",
   "id": "ccbc5108",
   "metadata": {
    "ExecuteTime": {
     "end_time": "2024-05-09T12:28:18.156743Z",
     "start_time": "2024-05-09T12:28:18.098130Z"
    }
   },
   "source": [
    "\n",
    "rating = pd.read_csv(\"BX-Ratings.csv\")\n",
    "subset_rating = rating\n"
   ],
   "outputs": [
    {
     "name": "stdout",
     "output_type": "stream",
     "text": [
      "time: 50.7 ms (started: 2024-05-09 22:28:18 +10:00)\n"
     ]
    }
   ],
   "execution_count": 43
  },
  {
   "metadata": {
    "ExecuteTime": {
     "end_time": "2024-05-09T12:28:18.167397Z",
     "start_time": "2024-05-09T12:28:18.158934Z"
    }
   },
   "cell_type": "code",
   "source": "subset_rating.columns\n",
   "id": "bd66d0710b1495f6",
   "outputs": [
    {
     "data": {
      "text/plain": [
       "Index(['User-ID', 'ISBN', 'Book-Rating'], dtype='object')"
      ]
     },
     "execution_count": 44,
     "metadata": {},
     "output_type": "execute_result"
    },
    {
     "name": "stdout",
     "output_type": "stream",
     "text": [
      "time: 2.74 ms (started: 2024-05-09 22:28:18 +10:00)\n"
     ]
    }
   ],
   "execution_count": 44
  },
  {
   "metadata": {
    "ExecuteTime": {
     "end_time": "2024-05-09T12:28:18.182156Z",
     "start_time": "2024-05-09T12:28:18.169408Z"
    }
   },
   "cell_type": "code",
   "source": "book",
   "id": "434087b194df080",
   "outputs": [
    {
     "data": {
      "text/plain": [
       "             ISBN                                         Book-Title  \\\n",
       "0      0002005018                                       clara callan   \n",
       "1      0374157065  flu story great influenza pandemic search viru...   \n",
       "2      0399135782                                   kitchen god wife   \n",
       "3      0440234743                                          testament   \n",
       "4      0452264464                 beloved plume contemporary fiction   \n",
       "...           ...                                                ...   \n",
       "18180  0375411615                                           love etc   \n",
       "18181  0836227751                         wit whimsy mary engelbreit   \n",
       "18182  8433966634                             los detective salvajes   \n",
       "18183  0330353349                           ice house tv tie edition   \n",
       "18184  0394757645        trouble business vintage crime black lizard   \n",
       "\n",
       "                Book-Author  Year-Of-Publication             Book-Publisher  \\\n",
       "0      richard bruce wright                 2001      HarperFlamingo Canada   \n",
       "1          gina bari kolata                 1999       Farrar Straus Giroux   \n",
       "2                   amy tan                 1991           Putnam Pub Group   \n",
       "3              john grisham                 1999                       Dell   \n",
       "4             toni morrison                 1994                      Plume   \n",
       "...                     ...                  ...                        ...   \n",
       "18180         julian barnes                 2001            Alfred A. Knopf   \n",
       "18181       mary engelbreit                 1997  Andrews McMeel Publishing   \n",
       "18182        roberto bolano                 2003                   Anagrama   \n",
       "18183        minette walter                 1997       McClelland & Stewart   \n",
       "18184      raymond chandler                 1992          Vintage Books USA   \n",
       "\n",
       "       Book-Rating  Rating-Count  \n",
       "0              8.0             8  \n",
       "1              8.0             6  \n",
       "2              8.0            16  \n",
       "3              8.0           165  \n",
       "4              8.0            77  \n",
       "...            ...           ...  \n",
       "18180          6.0             4  \n",
       "18181          9.0             4  \n",
       "18182          8.0             4  \n",
       "18183          7.0             7  \n",
       "18184          8.0             4  \n",
       "\n",
       "[18185 rows x 7 columns]"
      ],
      "text/html": [
       "<div>\n",
       "<style scoped>\n",
       "    .dataframe tbody tr th:only-of-type {\n",
       "        vertical-align: middle;\n",
       "    }\n",
       "\n",
       "    .dataframe tbody tr th {\n",
       "        vertical-align: top;\n",
       "    }\n",
       "\n",
       "    .dataframe thead th {\n",
       "        text-align: right;\n",
       "    }\n",
       "</style>\n",
       "<table border=\"1\" class=\"dataframe\">\n",
       "  <thead>\n",
       "    <tr style=\"text-align: right;\">\n",
       "      <th></th>\n",
       "      <th>ISBN</th>\n",
       "      <th>Book-Title</th>\n",
       "      <th>Book-Author</th>\n",
       "      <th>Year-Of-Publication</th>\n",
       "      <th>Book-Publisher</th>\n",
       "      <th>Book-Rating</th>\n",
       "      <th>Rating-Count</th>\n",
       "    </tr>\n",
       "  </thead>\n",
       "  <tbody>\n",
       "    <tr>\n",
       "      <th>0</th>\n",
       "      <td>0002005018</td>\n",
       "      <td>clara callan</td>\n",
       "      <td>richard bruce wright</td>\n",
       "      <td>2001</td>\n",
       "      <td>HarperFlamingo Canada</td>\n",
       "      <td>8.0</td>\n",
       "      <td>8</td>\n",
       "    </tr>\n",
       "    <tr>\n",
       "      <th>1</th>\n",
       "      <td>0374157065</td>\n",
       "      <td>flu story great influenza pandemic search viru...</td>\n",
       "      <td>gina bari kolata</td>\n",
       "      <td>1999</td>\n",
       "      <td>Farrar Straus Giroux</td>\n",
       "      <td>8.0</td>\n",
       "      <td>6</td>\n",
       "    </tr>\n",
       "    <tr>\n",
       "      <th>2</th>\n",
       "      <td>0399135782</td>\n",
       "      <td>kitchen god wife</td>\n",
       "      <td>amy tan</td>\n",
       "      <td>1991</td>\n",
       "      <td>Putnam Pub Group</td>\n",
       "      <td>8.0</td>\n",
       "      <td>16</td>\n",
       "    </tr>\n",
       "    <tr>\n",
       "      <th>3</th>\n",
       "      <td>0440234743</td>\n",
       "      <td>testament</td>\n",
       "      <td>john grisham</td>\n",
       "      <td>1999</td>\n",
       "      <td>Dell</td>\n",
       "      <td>8.0</td>\n",
       "      <td>165</td>\n",
       "    </tr>\n",
       "    <tr>\n",
       "      <th>4</th>\n",
       "      <td>0452264464</td>\n",
       "      <td>beloved plume contemporary fiction</td>\n",
       "      <td>toni morrison</td>\n",
       "      <td>1994</td>\n",
       "      <td>Plume</td>\n",
       "      <td>8.0</td>\n",
       "      <td>77</td>\n",
       "    </tr>\n",
       "    <tr>\n",
       "      <th>...</th>\n",
       "      <td>...</td>\n",
       "      <td>...</td>\n",
       "      <td>...</td>\n",
       "      <td>...</td>\n",
       "      <td>...</td>\n",
       "      <td>...</td>\n",
       "      <td>...</td>\n",
       "    </tr>\n",
       "    <tr>\n",
       "      <th>18180</th>\n",
       "      <td>0375411615</td>\n",
       "      <td>love etc</td>\n",
       "      <td>julian barnes</td>\n",
       "      <td>2001</td>\n",
       "      <td>Alfred A. Knopf</td>\n",
       "      <td>6.0</td>\n",
       "      <td>4</td>\n",
       "    </tr>\n",
       "    <tr>\n",
       "      <th>18181</th>\n",
       "      <td>0836227751</td>\n",
       "      <td>wit whimsy mary engelbreit</td>\n",
       "      <td>mary engelbreit</td>\n",
       "      <td>1997</td>\n",
       "      <td>Andrews McMeel Publishing</td>\n",
       "      <td>9.0</td>\n",
       "      <td>4</td>\n",
       "    </tr>\n",
       "    <tr>\n",
       "      <th>18182</th>\n",
       "      <td>8433966634</td>\n",
       "      <td>los detective salvajes</td>\n",
       "      <td>roberto bolano</td>\n",
       "      <td>2003</td>\n",
       "      <td>Anagrama</td>\n",
       "      <td>8.0</td>\n",
       "      <td>4</td>\n",
       "    </tr>\n",
       "    <tr>\n",
       "      <th>18183</th>\n",
       "      <td>0330353349</td>\n",
       "      <td>ice house tv tie edition</td>\n",
       "      <td>minette walter</td>\n",
       "      <td>1997</td>\n",
       "      <td>McClelland &amp; Stewart</td>\n",
       "      <td>7.0</td>\n",
       "      <td>7</td>\n",
       "    </tr>\n",
       "    <tr>\n",
       "      <th>18184</th>\n",
       "      <td>0394757645</td>\n",
       "      <td>trouble business vintage crime black lizard</td>\n",
       "      <td>raymond chandler</td>\n",
       "      <td>1992</td>\n",
       "      <td>Vintage Books USA</td>\n",
       "      <td>8.0</td>\n",
       "      <td>4</td>\n",
       "    </tr>\n",
       "  </tbody>\n",
       "</table>\n",
       "<p>18185 rows × 7 columns</p>\n",
       "</div>"
      ]
     },
     "execution_count": 45,
     "metadata": {},
     "output_type": "execute_result"
    },
    {
     "name": "stdout",
     "output_type": "stream",
     "text": [
      "time: 9.87 ms (started: 2024-05-09 22:28:18 +10:00)\n"
     ]
    }
   ],
   "execution_count": 45
  },
  {
   "metadata": {
    "ExecuteTime": {
     "end_time": "2024-05-09T12:28:18.347776Z",
     "start_time": "2024-05-09T12:28:18.183850Z"
    }
   },
   "cell_type": "code",
   "source": [
    "import pandas as pd\n",
    "\n",
    "books = pd.read_csv(\"BX-Books.csv\")\n",
    "rating = pd.read_csv(\"BX-Ratings.csv\")\n",
    "merged = pd.merge(rating, books, on='ISBN')\n",
    "merged"
   ],
   "id": "ffb40a899b85a984",
   "outputs": [
    {
     "data": {
      "text/plain": [
       "        User-ID        ISBN  Book-Rating  \\\n",
       "0        276744  038550120X            7   \n",
       "1         11676  038550120X           10   \n",
       "2         16877  038550120X            9   \n",
       "3         17975  038550120X            6   \n",
       "4         20806  038550120X            6   \n",
       "...         ...         ...          ...   \n",
       "204159   265784  0886775809            7   \n",
       "204160   246196  0375700110            4   \n",
       "204161   257485  0375700110            6   \n",
       "204162   274666  0375700110            9   \n",
       "204163   276463  0375700110            7   \n",
       "\n",
       "                                               Book-Title  \\\n",
       "0                                         A Painted House   \n",
       "1                                         A Painted House   \n",
       "2                                         A Painted House   \n",
       "3                                         A Painted House   \n",
       "4                                         A Painted House   \n",
       "...                                                   ...   \n",
       "204159                The Law of Becoming (Jaran, Book 4)   \n",
       "204160  Half and Half: Writers on Growing Up Biracial ...   \n",
       "204161  Half and Half: Writers on Growing Up Biracial ...   \n",
       "204162  Half and Half: Writers on Growing Up Biracial ...   \n",
       "204163  Half and Half: Writers on Growing Up Biracial ...   \n",
       "\n",
       "                Book-Author  Year-Of-Publication  Book-Publisher  \n",
       "0              JOHN GRISHAM                 2001       Doubleday  \n",
       "1              JOHN GRISHAM                 2001       Doubleday  \n",
       "2              JOHN GRISHAM                 2001       Doubleday  \n",
       "3              JOHN GRISHAM                 2001       Doubleday  \n",
       "4              JOHN GRISHAM                 2001       Doubleday  \n",
       "...                     ...                  ...             ...  \n",
       "204159         Kate Elliott                 1994       Daw Books  \n",
       "204160  Claudine C. O'Hearn                 1998  Pantheon Books  \n",
       "204161  Claudine C. O'Hearn                 1998  Pantheon Books  \n",
       "204162  Claudine C. O'Hearn                 1998  Pantheon Books  \n",
       "204163  Claudine C. O'Hearn                 1998  Pantheon Books  \n",
       "\n",
       "[204164 rows x 7 columns]"
      ],
      "text/html": [
       "<div>\n",
       "<style scoped>\n",
       "    .dataframe tbody tr th:only-of-type {\n",
       "        vertical-align: middle;\n",
       "    }\n",
       "\n",
       "    .dataframe tbody tr th {\n",
       "        vertical-align: top;\n",
       "    }\n",
       "\n",
       "    .dataframe thead th {\n",
       "        text-align: right;\n",
       "    }\n",
       "</style>\n",
       "<table border=\"1\" class=\"dataframe\">\n",
       "  <thead>\n",
       "    <tr style=\"text-align: right;\">\n",
       "      <th></th>\n",
       "      <th>User-ID</th>\n",
       "      <th>ISBN</th>\n",
       "      <th>Book-Rating</th>\n",
       "      <th>Book-Title</th>\n",
       "      <th>Book-Author</th>\n",
       "      <th>Year-Of-Publication</th>\n",
       "      <th>Book-Publisher</th>\n",
       "    </tr>\n",
       "  </thead>\n",
       "  <tbody>\n",
       "    <tr>\n",
       "      <th>0</th>\n",
       "      <td>276744</td>\n",
       "      <td>038550120X</td>\n",
       "      <td>7</td>\n",
       "      <td>A Painted House</td>\n",
       "      <td>JOHN GRISHAM</td>\n",
       "      <td>2001</td>\n",
       "      <td>Doubleday</td>\n",
       "    </tr>\n",
       "    <tr>\n",
       "      <th>1</th>\n",
       "      <td>11676</td>\n",
       "      <td>038550120X</td>\n",
       "      <td>10</td>\n",
       "      <td>A Painted House</td>\n",
       "      <td>JOHN GRISHAM</td>\n",
       "      <td>2001</td>\n",
       "      <td>Doubleday</td>\n",
       "    </tr>\n",
       "    <tr>\n",
       "      <th>2</th>\n",
       "      <td>16877</td>\n",
       "      <td>038550120X</td>\n",
       "      <td>9</td>\n",
       "      <td>A Painted House</td>\n",
       "      <td>JOHN GRISHAM</td>\n",
       "      <td>2001</td>\n",
       "      <td>Doubleday</td>\n",
       "    </tr>\n",
       "    <tr>\n",
       "      <th>3</th>\n",
       "      <td>17975</td>\n",
       "      <td>038550120X</td>\n",
       "      <td>6</td>\n",
       "      <td>A Painted House</td>\n",
       "      <td>JOHN GRISHAM</td>\n",
       "      <td>2001</td>\n",
       "      <td>Doubleday</td>\n",
       "    </tr>\n",
       "    <tr>\n",
       "      <th>4</th>\n",
       "      <td>20806</td>\n",
       "      <td>038550120X</td>\n",
       "      <td>6</td>\n",
       "      <td>A Painted House</td>\n",
       "      <td>JOHN GRISHAM</td>\n",
       "      <td>2001</td>\n",
       "      <td>Doubleday</td>\n",
       "    </tr>\n",
       "    <tr>\n",
       "      <th>...</th>\n",
       "      <td>...</td>\n",
       "      <td>...</td>\n",
       "      <td>...</td>\n",
       "      <td>...</td>\n",
       "      <td>...</td>\n",
       "      <td>...</td>\n",
       "      <td>...</td>\n",
       "    </tr>\n",
       "    <tr>\n",
       "      <th>204159</th>\n",
       "      <td>265784</td>\n",
       "      <td>0886775809</td>\n",
       "      <td>7</td>\n",
       "      <td>The Law of Becoming (Jaran, Book 4)</td>\n",
       "      <td>Kate Elliott</td>\n",
       "      <td>1994</td>\n",
       "      <td>Daw Books</td>\n",
       "    </tr>\n",
       "    <tr>\n",
       "      <th>204160</th>\n",
       "      <td>246196</td>\n",
       "      <td>0375700110</td>\n",
       "      <td>4</td>\n",
       "      <td>Half and Half: Writers on Growing Up Biracial ...</td>\n",
       "      <td>Claudine C. O'Hearn</td>\n",
       "      <td>1998</td>\n",
       "      <td>Pantheon Books</td>\n",
       "    </tr>\n",
       "    <tr>\n",
       "      <th>204161</th>\n",
       "      <td>257485</td>\n",
       "      <td>0375700110</td>\n",
       "      <td>6</td>\n",
       "      <td>Half and Half: Writers on Growing Up Biracial ...</td>\n",
       "      <td>Claudine C. O'Hearn</td>\n",
       "      <td>1998</td>\n",
       "      <td>Pantheon Books</td>\n",
       "    </tr>\n",
       "    <tr>\n",
       "      <th>204162</th>\n",
       "      <td>274666</td>\n",
       "      <td>0375700110</td>\n",
       "      <td>9</td>\n",
       "      <td>Half and Half: Writers on Growing Up Biracial ...</td>\n",
       "      <td>Claudine C. O'Hearn</td>\n",
       "      <td>1998</td>\n",
       "      <td>Pantheon Books</td>\n",
       "    </tr>\n",
       "    <tr>\n",
       "      <th>204163</th>\n",
       "      <td>276463</td>\n",
       "      <td>0375700110</td>\n",
       "      <td>7</td>\n",
       "      <td>Half and Half: Writers on Growing Up Biracial ...</td>\n",
       "      <td>Claudine C. O'Hearn</td>\n",
       "      <td>1998</td>\n",
       "      <td>Pantheon Books</td>\n",
       "    </tr>\n",
       "  </tbody>\n",
       "</table>\n",
       "<p>204164 rows × 7 columns</p>\n",
       "</div>"
      ]
     },
     "execution_count": 46,
     "metadata": {},
     "output_type": "execute_result"
    },
    {
     "name": "stdout",
     "output_type": "stream",
     "text": [
      "time: 162 ms (started: 2024-05-09 22:28:18 +10:00)\n"
     ]
    }
   ],
   "execution_count": 46
  },
  {
   "metadata": {
    "ExecuteTime": {
     "end_time": "2024-05-09T12:28:18.369065Z",
     "start_time": "2024-05-09T12:28:18.349691Z"
    }
   },
   "cell_type": "code",
   "source": [
    "most_popular_books = merged.groupby('ISBN')['Book-Rating'].count().sort_values(ascending=False).head()\n",
    "most_popular_books"
   ],
   "id": "9e26258eca300cdd",
   "outputs": [
    {
     "data": {
      "text/plain": [
       "ISBN\n",
       "0316666343    675\n",
       "0971880107    575\n",
       "0385504209    479\n",
       "0312195516    362\n",
       "0060928336    312\n",
       "Name: Book-Rating, dtype: int64"
      ]
     },
     "execution_count": 47,
     "metadata": {},
     "output_type": "execute_result"
    },
    {
     "name": "stdout",
     "output_type": "stream",
     "text": [
      "time: 17.4 ms (started: 2024-05-09 22:28:18 +10:00)\n"
     ]
    }
   ],
   "execution_count": 47
  },
  {
   "metadata": {
    "ExecuteTime": {
     "end_time": "2024-05-09T12:28:18.381722Z",
     "start_time": "2024-05-09T12:28:18.370700Z"
    }
   },
   "cell_type": "code",
   "source": [
    "Filter = merged['ISBN'] == '0316666343'\n",
    "print(\"Name: \", merged[Filter]['Book-Title'].unique())\n",
    "print(\"Name: \", merged[Filter]['Book-Author'].unique())"
   ],
   "id": "d64536ce4e76f8c1",
   "outputs": [
    {
     "name": "stdout",
     "output_type": "stream",
     "text": [
      "Name:  ['The Lovely Bones: A Novel']\n",
      "Name:  ['Alice Sebold']\n",
      "time: 9.41 ms (started: 2024-05-09 22:28:18 +10:00)\n"
     ]
    }
   ],
   "execution_count": 48
  },
  {
   "metadata": {
    "ExecuteTime": {
     "end_time": "2024-05-09T12:28:39.998973Z",
     "start_time": "2024-05-09T12:28:18.383214Z"
    }
   },
   "cell_type": "code",
   "source": [
    "rating_crosstab = merged.pivot_table(values='Book-Rating', index='User-ID', columns='ISBN', fill_value=0)\n",
    "rating_crosstab.head(100)\n"
   ],
   "id": "265ff2c818d23973",
   "outputs": [
    {
     "data": {
      "text/plain": [
       "ISBN     0002005018  0002116286  0002243962  0002251760  0002255081  \\\n",
       "User-ID                                                               \n",
       "8               5.0         0.0         0.0         0.0         0.0   \n",
       "9               0.0         0.0         0.0         0.0         0.0   \n",
       "16              0.0         0.0         0.0         0.0         0.0   \n",
       "17              0.0         0.0         0.0         0.0         0.0   \n",
       "19              0.0         0.0         0.0         0.0         0.0   \n",
       "...             ...         ...         ...         ...         ...   \n",
       "626             0.0         0.0         0.0         0.0         0.0   \n",
       "628             0.0         0.0         0.0         0.0         0.0   \n",
       "638             0.0         0.0         0.0         0.0         0.0   \n",
       "639             0.0         0.0         0.0         0.0         0.0   \n",
       "640             0.0         0.0         0.0         0.0         0.0   \n",
       "\n",
       "ISBN     0002259834  0002261820  0002550563  0002558122  0003300277  ...  \\\n",
       "User-ID                                                              ...   \n",
       "8               0.0         0.0         0.0         0.0         0.0  ...   \n",
       "9               0.0         0.0         0.0         0.0         0.0  ...   \n",
       "16              0.0         0.0         0.0         0.0         0.0  ...   \n",
       "17              0.0         0.0         0.0         0.0         0.0  ...   \n",
       "19              0.0         0.0         0.0         0.0         0.0  ...   \n",
       "...             ...         ...         ...         ...         ...  ...   \n",
       "626             0.0         0.0         0.0         0.0         0.0  ...   \n",
       "628             0.0         0.0         0.0         0.0         0.0  ...   \n",
       "638             0.0         0.0         0.0         0.0         0.0  ...   \n",
       "639             0.0         0.0         0.0         0.0         0.0  ...   \n",
       "640             0.0         0.0         0.0         0.0         0.0  ...   \n",
       "\n",
       "ISBN     9681500954  968150108X  9681501225  9722016563  972210277X  \\\n",
       "User-ID                                                               \n",
       "8               0.0         0.0         0.0         0.0         0.0   \n",
       "9               0.0         0.0         0.0         0.0         0.0   \n",
       "16              0.0         0.0         0.0         0.0         0.0   \n",
       "17              0.0         0.0         0.0         0.0         0.0   \n",
       "19              0.0         0.0         0.0         0.0         0.0   \n",
       "...             ...         ...         ...         ...         ...   \n",
       "626             0.0         0.0         0.0         0.0         0.0   \n",
       "628             0.0         0.0         0.0         0.0         0.0   \n",
       "638             0.0         0.0         0.0         0.0         0.0   \n",
       "639             0.0         0.0         0.0         0.0         0.0   \n",
       "640             0.0         0.0         0.0         0.0         0.0   \n",
       "\n",
       "ISBN     9722105248  9726101794  9728423160  9812327975  9871138148  \n",
       "User-ID                                                              \n",
       "8               0.0         0.0         0.0         0.0         0.0  \n",
       "9               0.0         0.0         0.0         0.0         0.0  \n",
       "16              0.0         0.0         0.0         0.0         0.0  \n",
       "17              0.0         0.0         0.0         0.0         0.0  \n",
       "19              0.0         0.0         0.0         0.0         0.0  \n",
       "...             ...         ...         ...         ...         ...  \n",
       "626             0.0         0.0         0.0         0.0         0.0  \n",
       "628             0.0         0.0         0.0         0.0         0.0  \n",
       "638             0.0         0.0         0.0         0.0         0.0  \n",
       "639             0.0         0.0         0.0         0.0         0.0  \n",
       "640             0.0         0.0         0.0         0.0         0.0  \n",
       "\n",
       "[100 rows x 18185 columns]"
      ],
      "text/html": [
       "<div>\n",
       "<style scoped>\n",
       "    .dataframe tbody tr th:only-of-type {\n",
       "        vertical-align: middle;\n",
       "    }\n",
       "\n",
       "    .dataframe tbody tr th {\n",
       "        vertical-align: top;\n",
       "    }\n",
       "\n",
       "    .dataframe thead th {\n",
       "        text-align: right;\n",
       "    }\n",
       "</style>\n",
       "<table border=\"1\" class=\"dataframe\">\n",
       "  <thead>\n",
       "    <tr style=\"text-align: right;\">\n",
       "      <th>ISBN</th>\n",
       "      <th>0002005018</th>\n",
       "      <th>0002116286</th>\n",
       "      <th>0002243962</th>\n",
       "      <th>0002251760</th>\n",
       "      <th>0002255081</th>\n",
       "      <th>0002259834</th>\n",
       "      <th>0002261820</th>\n",
       "      <th>0002550563</th>\n",
       "      <th>0002558122</th>\n",
       "      <th>0003300277</th>\n",
       "      <th>...</th>\n",
       "      <th>9681500954</th>\n",
       "      <th>968150108X</th>\n",
       "      <th>9681501225</th>\n",
       "      <th>9722016563</th>\n",
       "      <th>972210277X</th>\n",
       "      <th>9722105248</th>\n",
       "      <th>9726101794</th>\n",
       "      <th>9728423160</th>\n",
       "      <th>9812327975</th>\n",
       "      <th>9871138148</th>\n",
       "    </tr>\n",
       "    <tr>\n",
       "      <th>User-ID</th>\n",
       "      <th></th>\n",
       "      <th></th>\n",
       "      <th></th>\n",
       "      <th></th>\n",
       "      <th></th>\n",
       "      <th></th>\n",
       "      <th></th>\n",
       "      <th></th>\n",
       "      <th></th>\n",
       "      <th></th>\n",
       "      <th></th>\n",
       "      <th></th>\n",
       "      <th></th>\n",
       "      <th></th>\n",
       "      <th></th>\n",
       "      <th></th>\n",
       "      <th></th>\n",
       "      <th></th>\n",
       "      <th></th>\n",
       "      <th></th>\n",
       "      <th></th>\n",
       "    </tr>\n",
       "  </thead>\n",
       "  <tbody>\n",
       "    <tr>\n",
       "      <th>8</th>\n",
       "      <td>5.0</td>\n",
       "      <td>0.0</td>\n",
       "      <td>0.0</td>\n",
       "      <td>0.0</td>\n",
       "      <td>0.0</td>\n",
       "      <td>0.0</td>\n",
       "      <td>0.0</td>\n",
       "      <td>0.0</td>\n",
       "      <td>0.0</td>\n",
       "      <td>0.0</td>\n",
       "      <td>...</td>\n",
       "      <td>0.0</td>\n",
       "      <td>0.0</td>\n",
       "      <td>0.0</td>\n",
       "      <td>0.0</td>\n",
       "      <td>0.0</td>\n",
       "      <td>0.0</td>\n",
       "      <td>0.0</td>\n",
       "      <td>0.0</td>\n",
       "      <td>0.0</td>\n",
       "      <td>0.0</td>\n",
       "    </tr>\n",
       "    <tr>\n",
       "      <th>9</th>\n",
       "      <td>0.0</td>\n",
       "      <td>0.0</td>\n",
       "      <td>0.0</td>\n",
       "      <td>0.0</td>\n",
       "      <td>0.0</td>\n",
       "      <td>0.0</td>\n",
       "      <td>0.0</td>\n",
       "      <td>0.0</td>\n",
       "      <td>0.0</td>\n",
       "      <td>0.0</td>\n",
       "      <td>...</td>\n",
       "      <td>0.0</td>\n",
       "      <td>0.0</td>\n",
       "      <td>0.0</td>\n",
       "      <td>0.0</td>\n",
       "      <td>0.0</td>\n",
       "      <td>0.0</td>\n",
       "      <td>0.0</td>\n",
       "      <td>0.0</td>\n",
       "      <td>0.0</td>\n",
       "      <td>0.0</td>\n",
       "    </tr>\n",
       "    <tr>\n",
       "      <th>16</th>\n",
       "      <td>0.0</td>\n",
       "      <td>0.0</td>\n",
       "      <td>0.0</td>\n",
       "      <td>0.0</td>\n",
       "      <td>0.0</td>\n",
       "      <td>0.0</td>\n",
       "      <td>0.0</td>\n",
       "      <td>0.0</td>\n",
       "      <td>0.0</td>\n",
       "      <td>0.0</td>\n",
       "      <td>...</td>\n",
       "      <td>0.0</td>\n",
       "      <td>0.0</td>\n",
       "      <td>0.0</td>\n",
       "      <td>0.0</td>\n",
       "      <td>0.0</td>\n",
       "      <td>0.0</td>\n",
       "      <td>0.0</td>\n",
       "      <td>0.0</td>\n",
       "      <td>0.0</td>\n",
       "      <td>0.0</td>\n",
       "    </tr>\n",
       "    <tr>\n",
       "      <th>17</th>\n",
       "      <td>0.0</td>\n",
       "      <td>0.0</td>\n",
       "      <td>0.0</td>\n",
       "      <td>0.0</td>\n",
       "      <td>0.0</td>\n",
       "      <td>0.0</td>\n",
       "      <td>0.0</td>\n",
       "      <td>0.0</td>\n",
       "      <td>0.0</td>\n",
       "      <td>0.0</td>\n",
       "      <td>...</td>\n",
       "      <td>0.0</td>\n",
       "      <td>0.0</td>\n",
       "      <td>0.0</td>\n",
       "      <td>0.0</td>\n",
       "      <td>0.0</td>\n",
       "      <td>0.0</td>\n",
       "      <td>0.0</td>\n",
       "      <td>0.0</td>\n",
       "      <td>0.0</td>\n",
       "      <td>0.0</td>\n",
       "    </tr>\n",
       "    <tr>\n",
       "      <th>19</th>\n",
       "      <td>0.0</td>\n",
       "      <td>0.0</td>\n",
       "      <td>0.0</td>\n",
       "      <td>0.0</td>\n",
       "      <td>0.0</td>\n",
       "      <td>0.0</td>\n",
       "      <td>0.0</td>\n",
       "      <td>0.0</td>\n",
       "      <td>0.0</td>\n",
       "      <td>0.0</td>\n",
       "      <td>...</td>\n",
       "      <td>0.0</td>\n",
       "      <td>0.0</td>\n",
       "      <td>0.0</td>\n",
       "      <td>0.0</td>\n",
       "      <td>0.0</td>\n",
       "      <td>0.0</td>\n",
       "      <td>0.0</td>\n",
       "      <td>0.0</td>\n",
       "      <td>0.0</td>\n",
       "      <td>0.0</td>\n",
       "    </tr>\n",
       "    <tr>\n",
       "      <th>...</th>\n",
       "      <td>...</td>\n",
       "      <td>...</td>\n",
       "      <td>...</td>\n",
       "      <td>...</td>\n",
       "      <td>...</td>\n",
       "      <td>...</td>\n",
       "      <td>...</td>\n",
       "      <td>...</td>\n",
       "      <td>...</td>\n",
       "      <td>...</td>\n",
       "      <td>...</td>\n",
       "      <td>...</td>\n",
       "      <td>...</td>\n",
       "      <td>...</td>\n",
       "      <td>...</td>\n",
       "      <td>...</td>\n",
       "      <td>...</td>\n",
       "      <td>...</td>\n",
       "      <td>...</td>\n",
       "      <td>...</td>\n",
       "      <td>...</td>\n",
       "    </tr>\n",
       "    <tr>\n",
       "      <th>626</th>\n",
       "      <td>0.0</td>\n",
       "      <td>0.0</td>\n",
       "      <td>0.0</td>\n",
       "      <td>0.0</td>\n",
       "      <td>0.0</td>\n",
       "      <td>0.0</td>\n",
       "      <td>0.0</td>\n",
       "      <td>0.0</td>\n",
       "      <td>0.0</td>\n",
       "      <td>0.0</td>\n",
       "      <td>...</td>\n",
       "      <td>0.0</td>\n",
       "      <td>0.0</td>\n",
       "      <td>0.0</td>\n",
       "      <td>0.0</td>\n",
       "      <td>0.0</td>\n",
       "      <td>0.0</td>\n",
       "      <td>0.0</td>\n",
       "      <td>0.0</td>\n",
       "      <td>0.0</td>\n",
       "      <td>0.0</td>\n",
       "    </tr>\n",
       "    <tr>\n",
       "      <th>628</th>\n",
       "      <td>0.0</td>\n",
       "      <td>0.0</td>\n",
       "      <td>0.0</td>\n",
       "      <td>0.0</td>\n",
       "      <td>0.0</td>\n",
       "      <td>0.0</td>\n",
       "      <td>0.0</td>\n",
       "      <td>0.0</td>\n",
       "      <td>0.0</td>\n",
       "      <td>0.0</td>\n",
       "      <td>...</td>\n",
       "      <td>0.0</td>\n",
       "      <td>0.0</td>\n",
       "      <td>0.0</td>\n",
       "      <td>0.0</td>\n",
       "      <td>0.0</td>\n",
       "      <td>0.0</td>\n",
       "      <td>0.0</td>\n",
       "      <td>0.0</td>\n",
       "      <td>0.0</td>\n",
       "      <td>0.0</td>\n",
       "    </tr>\n",
       "    <tr>\n",
       "      <th>638</th>\n",
       "      <td>0.0</td>\n",
       "      <td>0.0</td>\n",
       "      <td>0.0</td>\n",
       "      <td>0.0</td>\n",
       "      <td>0.0</td>\n",
       "      <td>0.0</td>\n",
       "      <td>0.0</td>\n",
       "      <td>0.0</td>\n",
       "      <td>0.0</td>\n",
       "      <td>0.0</td>\n",
       "      <td>...</td>\n",
       "      <td>0.0</td>\n",
       "      <td>0.0</td>\n",
       "      <td>0.0</td>\n",
       "      <td>0.0</td>\n",
       "      <td>0.0</td>\n",
       "      <td>0.0</td>\n",
       "      <td>0.0</td>\n",
       "      <td>0.0</td>\n",
       "      <td>0.0</td>\n",
       "      <td>0.0</td>\n",
       "    </tr>\n",
       "    <tr>\n",
       "      <th>639</th>\n",
       "      <td>0.0</td>\n",
       "      <td>0.0</td>\n",
       "      <td>0.0</td>\n",
       "      <td>0.0</td>\n",
       "      <td>0.0</td>\n",
       "      <td>0.0</td>\n",
       "      <td>0.0</td>\n",
       "      <td>0.0</td>\n",
       "      <td>0.0</td>\n",
       "      <td>0.0</td>\n",
       "      <td>...</td>\n",
       "      <td>0.0</td>\n",
       "      <td>0.0</td>\n",
       "      <td>0.0</td>\n",
       "      <td>0.0</td>\n",
       "      <td>0.0</td>\n",
       "      <td>0.0</td>\n",
       "      <td>0.0</td>\n",
       "      <td>0.0</td>\n",
       "      <td>0.0</td>\n",
       "      <td>0.0</td>\n",
       "    </tr>\n",
       "    <tr>\n",
       "      <th>640</th>\n",
       "      <td>0.0</td>\n",
       "      <td>0.0</td>\n",
       "      <td>0.0</td>\n",
       "      <td>0.0</td>\n",
       "      <td>0.0</td>\n",
       "      <td>0.0</td>\n",
       "      <td>0.0</td>\n",
       "      <td>0.0</td>\n",
       "      <td>0.0</td>\n",
       "      <td>0.0</td>\n",
       "      <td>...</td>\n",
       "      <td>0.0</td>\n",
       "      <td>0.0</td>\n",
       "      <td>0.0</td>\n",
       "      <td>0.0</td>\n",
       "      <td>0.0</td>\n",
       "      <td>0.0</td>\n",
       "      <td>0.0</td>\n",
       "      <td>0.0</td>\n",
       "      <td>0.0</td>\n",
       "      <td>0.0</td>\n",
       "    </tr>\n",
       "  </tbody>\n",
       "</table>\n",
       "<p>100 rows × 18185 columns</p>\n",
       "</div>"
      ]
     },
     "execution_count": 49,
     "metadata": {},
     "output_type": "execute_result"
    },
    {
     "name": "stdout",
     "output_type": "stream",
     "text": [
      "time: 21.6 s (started: 2024-05-09 22:28:18 +10:00)\n"
     ]
    }
   ],
   "execution_count": 49
  },
  {
   "metadata": {},
   "cell_type": "markdown",
   "source": "",
   "id": "36ae1da24aecc2c2"
  },
  {
   "metadata": {
    "ExecuteTime": {
     "end_time": "2024-05-09T12:28:40.038173Z",
     "start_time": "2024-05-09T12:28:40.000149Z"
    }
   },
   "cell_type": "code",
   "source": [
    "part_rating = rating.sample(1000, random_state=42)\n",
    "pivot_table = part_rating.pivot_table(values='Book-Rating', index='User-ID', columns='ISBN', fill_value=0)\n",
    "# !pip install scikit-surprise\n",
    "from surprise.similarities import cosine\n",
    "from scipy.spatial.distance import cosine\n",
    "# Ref from ED week 10\n",
    "def get_itembased_scores(userID, ISBN, df, n = 3):\n",
    "    currentRating = df.loc[userID,:]\n",
    "    imputedDF = df.fillna(df.mean())\n",
    "    \n",
    "    x = imputedDF.loc[:,ISBN]\n",
    "    sim = {}\n",
    "    \n",
    "    rated_items = [x for x in df.columns if not currentRating[x] == 0]\n",
    "    \n",
    "    for compare_item in rated_items:\n",
    "        y = imputedDF.loc[:,compare_item]\n",
    "        \n",
    "        sim[compare_item] = cosine(x, y)\n",
    "    \n",
    "    sim = pd.Series(sim)\n",
    "    top_n = sim.sort_values(ascending=False).head(n).index\n",
    "    predicted_score = (currentRating[top_n] * sim[top_n]).sum() / sim[top_n].sum()\n",
    "    return predicted_score\n",
    "\n",
    "def rec_books(userID, df, pivot, books=5):\n",
    "    result = []\n",
    "    pred_scores = {}\n",
    "    all_books = df['ISBN'].unique()\n",
    "    for book in all_books:\n",
    "        if rating_crosstab.loc[userID, book] == 0:\n",
    "            pred = get_itembased_scores(userID, book, pivot)\n",
    "            pred_scores[book] = pred\n",
    "    \n",
    "    pred_scores = pd.Series(pred_scores, index=pred_scores.keys())\n",
    "    pred_scores = pred_scores.sort_values(ascending=False).head(books)\n",
    "    return pred_scores\n",
    "# par/\n",
    "# print(rec_books(31315, rating, rating_crosstab))"
   ],
   "id": "1aaadd214e637d14",
   "outputs": [
    {
     "name": "stdout",
     "output_type": "stream",
     "text": [
      "time: 32.7 ms (started: 2024-05-09 22:28:40 +10:00)\n"
     ]
    }
   ],
   "execution_count": 50
  },
  {
   "metadata": {
    "ExecuteTime": {
     "end_time": "2024-05-09T12:28:40.040222Z",
     "start_time": "2024-05-09T12:28:40.038852Z"
    }
   },
   "cell_type": "code",
   "source": "",
   "id": "27e94023797b96e1",
   "outputs": [
    {
     "name": "stdout",
     "output_type": "stream",
     "text": [
      "time: 34.8 ms (started: 2024-05-09 22:28:40 +10:00)\n"
     ]
    }
   ],
   "execution_count": 50
  },
  {
   "metadata": {
    "ExecuteTime": {
     "end_time": "2024-05-09T12:28:40.042992Z",
     "start_time": "2024-05-09T12:28:40.041336Z"
    }
   },
   "cell_type": "code",
   "source": "",
   "id": "9fd0f9988db5025",
   "outputs": [
    {
     "name": "stdout",
     "output_type": "stream",
     "text": [
      "time: 37.4 ms (started: 2024-05-09 22:28:40 +10:00)\n"
     ]
    }
   ],
   "execution_count": 50
  },
  {
   "metadata": {},
   "cell_type": "markdown",
   "source": "# Correlation and Information Gain",
   "id": "afe88c4c4b3184e9"
  },
  {
   "metadata": {},
   "cell_type": "markdown",
   "source": "## Evaluate the model",
   "id": "dd62bbf2f0d30bac"
  },
  {
   "metadata": {
    "ExecuteTime": {
     "end_time": "2024-05-09T12:28:40.045697Z",
     "start_time": "2024-05-09T12:28:40.043624Z"
    }
   },
   "cell_type": "code",
   "source": [
    "from sklearn.metrics import confusion_matrix, ConfusionMatrixDisplay\n",
    "import warnings"
   ],
   "id": "49fe6874a911b81b",
   "outputs": [
    {
     "name": "stdout",
     "output_type": "stream",
     "text": [
      "time: 189 µs (started: 2024-05-09 22:28:40 +10:00)\n"
     ]
    }
   ],
   "execution_count": 51
  },
  {
   "metadata": {
    "ExecuteTime": {
     "end_time": "2024-05-09T12:28:40.047838Z",
     "start_time": "2024-05-09T12:28:40.046182Z"
    }
   },
   "cell_type": "code",
   "source": [
    "# warnings.filterwarnings(action='ignore', category=FutureWarning)\n",
    "# \n",
    "# # Note that we're calculating the accuracy score for the test data\n",
    "# y_pred = get_itembased_scores()\n",
    "# \n",
    "# \n",
    "# print('Accuracy', round(accuracy,2))"
   ],
   "id": "a07bb2f33e2df5e9",
   "outputs": [
    {
     "name": "stdout",
     "output_type": "stream",
     "text": [
      "time: 112 µs (started: 2024-05-09 22:28:40 +10:00)\n"
     ]
    }
   ],
   "execution_count": 52
  },
  {
   "metadata": {},
   "cell_type": "markdown",
   "source": "# CONTENT BASED FILTERING",
   "id": "c94fb5f84995799a"
  },
  {
   "metadata": {
    "ExecuteTime": {
     "end_time": "2024-05-09T12:28:58.066924Z",
     "start_time": "2024-05-09T12:28:40.048361Z"
    }
   },
   "cell_type": "code",
   "source": [
    "rating_crosstab = merged.pivot_table(values='Book-Rating', index='User-ID', columns='ISBN', fill_value=0)\n",
    "rating_crosstab"
   ],
   "id": "ae99b36c15021aa1",
   "outputs": [
    {
     "data": {
      "text/plain": [
       "ISBN     0002005018  0002116286  0002243962  0002251760  0002255081  \\\n",
       "User-ID                                                               \n",
       "8               5.0         0.0         0.0         0.0         0.0   \n",
       "9               0.0         0.0         0.0         0.0         0.0   \n",
       "16              0.0         0.0         0.0         0.0         0.0   \n",
       "17              0.0         0.0         0.0         0.0         0.0   \n",
       "19              0.0         0.0         0.0         0.0         0.0   \n",
       "...             ...         ...         ...         ...         ...   \n",
       "278846          0.0         0.0         0.0         0.0         0.0   \n",
       "278849          0.0         0.0         0.0         0.0         0.0   \n",
       "278851          0.0         0.0         0.0         0.0         0.0   \n",
       "278852          0.0         0.0         0.0         0.0         0.0   \n",
       "278854          0.0         0.0         0.0         0.0         0.0   \n",
       "\n",
       "ISBN     0002259834  0002261820  0002550563  0002558122  0003300277  ...  \\\n",
       "User-ID                                                              ...   \n",
       "8               0.0         0.0         0.0         0.0         0.0  ...   \n",
       "9               0.0         0.0         0.0         0.0         0.0  ...   \n",
       "16              0.0         0.0         0.0         0.0         0.0  ...   \n",
       "17              0.0         0.0         0.0         0.0         0.0  ...   \n",
       "19              0.0         0.0         0.0         0.0         0.0  ...   \n",
       "...             ...         ...         ...         ...         ...  ...   \n",
       "278846          0.0         0.0         0.0         0.0         0.0  ...   \n",
       "278849          0.0         0.0         0.0         0.0         0.0  ...   \n",
       "278851          0.0         0.0         0.0         0.0         0.0  ...   \n",
       "278852          0.0         0.0         0.0         0.0         0.0  ...   \n",
       "278854          0.0         0.0         0.0         0.0         0.0  ...   \n",
       "\n",
       "ISBN     9681500954  968150108X  9681501225  9722016563  972210277X  \\\n",
       "User-ID                                                               \n",
       "8               0.0         0.0         0.0         0.0         0.0   \n",
       "9               0.0         0.0         0.0         0.0         0.0   \n",
       "16              0.0         0.0         0.0         0.0         0.0   \n",
       "17              0.0         0.0         0.0         0.0         0.0   \n",
       "19              0.0         0.0         0.0         0.0         0.0   \n",
       "...             ...         ...         ...         ...         ...   \n",
       "278846          0.0         0.0         0.0         0.0         0.0   \n",
       "278849          0.0         0.0         0.0         0.0         0.0   \n",
       "278851          0.0         0.0         0.0         0.0         0.0   \n",
       "278852          0.0         0.0         0.0         0.0         0.0   \n",
       "278854          0.0         0.0         0.0         0.0         0.0   \n",
       "\n",
       "ISBN     9722105248  9726101794  9728423160  9812327975  9871138148  \n",
       "User-ID                                                              \n",
       "8               0.0         0.0         0.0         0.0         0.0  \n",
       "9               0.0         0.0         0.0         0.0         0.0  \n",
       "16              0.0         0.0         0.0         0.0         0.0  \n",
       "17              0.0         0.0         0.0         0.0         0.0  \n",
       "19              0.0         0.0         0.0         0.0         0.0  \n",
       "...             ...         ...         ...         ...         ...  \n",
       "278846          0.0         0.0         0.0         0.0         0.0  \n",
       "278849          0.0         0.0         0.0         0.0         0.0  \n",
       "278851          0.0         0.0         0.0         0.0         0.0  \n",
       "278852          0.0         0.0         0.0         0.0         0.0  \n",
       "278854          0.0         0.0         0.0         0.0         0.0  \n",
       "\n",
       "[48299 rows x 18185 columns]"
      ],
      "text/html": [
       "<div>\n",
       "<style scoped>\n",
       "    .dataframe tbody tr th:only-of-type {\n",
       "        vertical-align: middle;\n",
       "    }\n",
       "\n",
       "    .dataframe tbody tr th {\n",
       "        vertical-align: top;\n",
       "    }\n",
       "\n",
       "    .dataframe thead th {\n",
       "        text-align: right;\n",
       "    }\n",
       "</style>\n",
       "<table border=\"1\" class=\"dataframe\">\n",
       "  <thead>\n",
       "    <tr style=\"text-align: right;\">\n",
       "      <th>ISBN</th>\n",
       "      <th>0002005018</th>\n",
       "      <th>0002116286</th>\n",
       "      <th>0002243962</th>\n",
       "      <th>0002251760</th>\n",
       "      <th>0002255081</th>\n",
       "      <th>0002259834</th>\n",
       "      <th>0002261820</th>\n",
       "      <th>0002550563</th>\n",
       "      <th>0002558122</th>\n",
       "      <th>0003300277</th>\n",
       "      <th>...</th>\n",
       "      <th>9681500954</th>\n",
       "      <th>968150108X</th>\n",
       "      <th>9681501225</th>\n",
       "      <th>9722016563</th>\n",
       "      <th>972210277X</th>\n",
       "      <th>9722105248</th>\n",
       "      <th>9726101794</th>\n",
       "      <th>9728423160</th>\n",
       "      <th>9812327975</th>\n",
       "      <th>9871138148</th>\n",
       "    </tr>\n",
       "    <tr>\n",
       "      <th>User-ID</th>\n",
       "      <th></th>\n",
       "      <th></th>\n",
       "      <th></th>\n",
       "      <th></th>\n",
       "      <th></th>\n",
       "      <th></th>\n",
       "      <th></th>\n",
       "      <th></th>\n",
       "      <th></th>\n",
       "      <th></th>\n",
       "      <th></th>\n",
       "      <th></th>\n",
       "      <th></th>\n",
       "      <th></th>\n",
       "      <th></th>\n",
       "      <th></th>\n",
       "      <th></th>\n",
       "      <th></th>\n",
       "      <th></th>\n",
       "      <th></th>\n",
       "      <th></th>\n",
       "    </tr>\n",
       "  </thead>\n",
       "  <tbody>\n",
       "    <tr>\n",
       "      <th>8</th>\n",
       "      <td>5.0</td>\n",
       "      <td>0.0</td>\n",
       "      <td>0.0</td>\n",
       "      <td>0.0</td>\n",
       "      <td>0.0</td>\n",
       "      <td>0.0</td>\n",
       "      <td>0.0</td>\n",
       "      <td>0.0</td>\n",
       "      <td>0.0</td>\n",
       "      <td>0.0</td>\n",
       "      <td>...</td>\n",
       "      <td>0.0</td>\n",
       "      <td>0.0</td>\n",
       "      <td>0.0</td>\n",
       "      <td>0.0</td>\n",
       "      <td>0.0</td>\n",
       "      <td>0.0</td>\n",
       "      <td>0.0</td>\n",
       "      <td>0.0</td>\n",
       "      <td>0.0</td>\n",
       "      <td>0.0</td>\n",
       "    </tr>\n",
       "    <tr>\n",
       "      <th>9</th>\n",
       "      <td>0.0</td>\n",
       "      <td>0.0</td>\n",
       "      <td>0.0</td>\n",
       "      <td>0.0</td>\n",
       "      <td>0.0</td>\n",
       "      <td>0.0</td>\n",
       "      <td>0.0</td>\n",
       "      <td>0.0</td>\n",
       "      <td>0.0</td>\n",
       "      <td>0.0</td>\n",
       "      <td>...</td>\n",
       "      <td>0.0</td>\n",
       "      <td>0.0</td>\n",
       "      <td>0.0</td>\n",
       "      <td>0.0</td>\n",
       "      <td>0.0</td>\n",
       "      <td>0.0</td>\n",
       "      <td>0.0</td>\n",
       "      <td>0.0</td>\n",
       "      <td>0.0</td>\n",
       "      <td>0.0</td>\n",
       "    </tr>\n",
       "    <tr>\n",
       "      <th>16</th>\n",
       "      <td>0.0</td>\n",
       "      <td>0.0</td>\n",
       "      <td>0.0</td>\n",
       "      <td>0.0</td>\n",
       "      <td>0.0</td>\n",
       "      <td>0.0</td>\n",
       "      <td>0.0</td>\n",
       "      <td>0.0</td>\n",
       "      <td>0.0</td>\n",
       "      <td>0.0</td>\n",
       "      <td>...</td>\n",
       "      <td>0.0</td>\n",
       "      <td>0.0</td>\n",
       "      <td>0.0</td>\n",
       "      <td>0.0</td>\n",
       "      <td>0.0</td>\n",
       "      <td>0.0</td>\n",
       "      <td>0.0</td>\n",
       "      <td>0.0</td>\n",
       "      <td>0.0</td>\n",
       "      <td>0.0</td>\n",
       "    </tr>\n",
       "    <tr>\n",
       "      <th>17</th>\n",
       "      <td>0.0</td>\n",
       "      <td>0.0</td>\n",
       "      <td>0.0</td>\n",
       "      <td>0.0</td>\n",
       "      <td>0.0</td>\n",
       "      <td>0.0</td>\n",
       "      <td>0.0</td>\n",
       "      <td>0.0</td>\n",
       "      <td>0.0</td>\n",
       "      <td>0.0</td>\n",
       "      <td>...</td>\n",
       "      <td>0.0</td>\n",
       "      <td>0.0</td>\n",
       "      <td>0.0</td>\n",
       "      <td>0.0</td>\n",
       "      <td>0.0</td>\n",
       "      <td>0.0</td>\n",
       "      <td>0.0</td>\n",
       "      <td>0.0</td>\n",
       "      <td>0.0</td>\n",
       "      <td>0.0</td>\n",
       "    </tr>\n",
       "    <tr>\n",
       "      <th>19</th>\n",
       "      <td>0.0</td>\n",
       "      <td>0.0</td>\n",
       "      <td>0.0</td>\n",
       "      <td>0.0</td>\n",
       "      <td>0.0</td>\n",
       "      <td>0.0</td>\n",
       "      <td>0.0</td>\n",
       "      <td>0.0</td>\n",
       "      <td>0.0</td>\n",
       "      <td>0.0</td>\n",
       "      <td>...</td>\n",
       "      <td>0.0</td>\n",
       "      <td>0.0</td>\n",
       "      <td>0.0</td>\n",
       "      <td>0.0</td>\n",
       "      <td>0.0</td>\n",
       "      <td>0.0</td>\n",
       "      <td>0.0</td>\n",
       "      <td>0.0</td>\n",
       "      <td>0.0</td>\n",
       "      <td>0.0</td>\n",
       "    </tr>\n",
       "    <tr>\n",
       "      <th>...</th>\n",
       "      <td>...</td>\n",
       "      <td>...</td>\n",
       "      <td>...</td>\n",
       "      <td>...</td>\n",
       "      <td>...</td>\n",
       "      <td>...</td>\n",
       "      <td>...</td>\n",
       "      <td>...</td>\n",
       "      <td>...</td>\n",
       "      <td>...</td>\n",
       "      <td>...</td>\n",
       "      <td>...</td>\n",
       "      <td>...</td>\n",
       "      <td>...</td>\n",
       "      <td>...</td>\n",
       "      <td>...</td>\n",
       "      <td>...</td>\n",
       "      <td>...</td>\n",
       "      <td>...</td>\n",
       "      <td>...</td>\n",
       "      <td>...</td>\n",
       "    </tr>\n",
       "    <tr>\n",
       "      <th>278846</th>\n",
       "      <td>0.0</td>\n",
       "      <td>0.0</td>\n",
       "      <td>0.0</td>\n",
       "      <td>0.0</td>\n",
       "      <td>0.0</td>\n",
       "      <td>0.0</td>\n",
       "      <td>0.0</td>\n",
       "      <td>0.0</td>\n",
       "      <td>0.0</td>\n",
       "      <td>0.0</td>\n",
       "      <td>...</td>\n",
       "      <td>0.0</td>\n",
       "      <td>0.0</td>\n",
       "      <td>0.0</td>\n",
       "      <td>0.0</td>\n",
       "      <td>0.0</td>\n",
       "      <td>0.0</td>\n",
       "      <td>0.0</td>\n",
       "      <td>0.0</td>\n",
       "      <td>0.0</td>\n",
       "      <td>0.0</td>\n",
       "    </tr>\n",
       "    <tr>\n",
       "      <th>278849</th>\n",
       "      <td>0.0</td>\n",
       "      <td>0.0</td>\n",
       "      <td>0.0</td>\n",
       "      <td>0.0</td>\n",
       "      <td>0.0</td>\n",
       "      <td>0.0</td>\n",
       "      <td>0.0</td>\n",
       "      <td>0.0</td>\n",
       "      <td>0.0</td>\n",
       "      <td>0.0</td>\n",
       "      <td>...</td>\n",
       "      <td>0.0</td>\n",
       "      <td>0.0</td>\n",
       "      <td>0.0</td>\n",
       "      <td>0.0</td>\n",
       "      <td>0.0</td>\n",
       "      <td>0.0</td>\n",
       "      <td>0.0</td>\n",
       "      <td>0.0</td>\n",
       "      <td>0.0</td>\n",
       "      <td>0.0</td>\n",
       "    </tr>\n",
       "    <tr>\n",
       "      <th>278851</th>\n",
       "      <td>0.0</td>\n",
       "      <td>0.0</td>\n",
       "      <td>0.0</td>\n",
       "      <td>0.0</td>\n",
       "      <td>0.0</td>\n",
       "      <td>0.0</td>\n",
       "      <td>0.0</td>\n",
       "      <td>0.0</td>\n",
       "      <td>0.0</td>\n",
       "      <td>0.0</td>\n",
       "      <td>...</td>\n",
       "      <td>0.0</td>\n",
       "      <td>0.0</td>\n",
       "      <td>0.0</td>\n",
       "      <td>0.0</td>\n",
       "      <td>0.0</td>\n",
       "      <td>0.0</td>\n",
       "      <td>0.0</td>\n",
       "      <td>0.0</td>\n",
       "      <td>0.0</td>\n",
       "      <td>0.0</td>\n",
       "    </tr>\n",
       "    <tr>\n",
       "      <th>278852</th>\n",
       "      <td>0.0</td>\n",
       "      <td>0.0</td>\n",
       "      <td>0.0</td>\n",
       "      <td>0.0</td>\n",
       "      <td>0.0</td>\n",
       "      <td>0.0</td>\n",
       "      <td>0.0</td>\n",
       "      <td>0.0</td>\n",
       "      <td>0.0</td>\n",
       "      <td>0.0</td>\n",
       "      <td>...</td>\n",
       "      <td>0.0</td>\n",
       "      <td>0.0</td>\n",
       "      <td>0.0</td>\n",
       "      <td>0.0</td>\n",
       "      <td>0.0</td>\n",
       "      <td>0.0</td>\n",
       "      <td>0.0</td>\n",
       "      <td>0.0</td>\n",
       "      <td>0.0</td>\n",
       "      <td>0.0</td>\n",
       "    </tr>\n",
       "    <tr>\n",
       "      <th>278854</th>\n",
       "      <td>0.0</td>\n",
       "      <td>0.0</td>\n",
       "      <td>0.0</td>\n",
       "      <td>0.0</td>\n",
       "      <td>0.0</td>\n",
       "      <td>0.0</td>\n",
       "      <td>0.0</td>\n",
       "      <td>0.0</td>\n",
       "      <td>0.0</td>\n",
       "      <td>0.0</td>\n",
       "      <td>...</td>\n",
       "      <td>0.0</td>\n",
       "      <td>0.0</td>\n",
       "      <td>0.0</td>\n",
       "      <td>0.0</td>\n",
       "      <td>0.0</td>\n",
       "      <td>0.0</td>\n",
       "      <td>0.0</td>\n",
       "      <td>0.0</td>\n",
       "      <td>0.0</td>\n",
       "      <td>0.0</td>\n",
       "    </tr>\n",
       "  </tbody>\n",
       "</table>\n",
       "<p>48299 rows × 18185 columns</p>\n",
       "</div>"
      ]
     },
     "execution_count": 53,
     "metadata": {},
     "output_type": "execute_result"
    },
    {
     "name": "stdout",
     "output_type": "stream",
     "text": [
      "time: 18 s (started: 2024-05-09 22:28:40 +10:00)\n"
     ]
    }
   ],
   "execution_count": 53
  },
  {
   "metadata": {},
   "cell_type": "markdown",
   "source": "K-Nearest Neighbours model",
   "id": "7f6217292e4aa081"
  },
  {
   "metadata": {
    "ExecuteTime": {
     "end_time": "2024-05-09T12:28:58.072769Z",
     "start_time": "2024-05-09T12:28:58.068132Z"
    }
   },
   "cell_type": "code",
   "source": "rating",
   "id": "69a22398ef283c71",
   "outputs": [
    {
     "data": {
      "text/plain": [
       "        User-ID        ISBN  Book-Rating\n",
       "0        276744  038550120X            7\n",
       "1        276754  0684867621            8\n",
       "2        276755  0451166892            5\n",
       "3        276762  0380711524            5\n",
       "4        276772  0553572369            7\n",
       "...         ...         ...          ...\n",
       "204159   276688  0892966548           10\n",
       "204160   276688  1551669315            6\n",
       "204161   276704  0345386108            6\n",
       "204162   276704  0743211383            7\n",
       "204163   276709  0515107662           10\n",
       "\n",
       "[204164 rows x 3 columns]"
      ],
      "text/html": [
       "<div>\n",
       "<style scoped>\n",
       "    .dataframe tbody tr th:only-of-type {\n",
       "        vertical-align: middle;\n",
       "    }\n",
       "\n",
       "    .dataframe tbody tr th {\n",
       "        vertical-align: top;\n",
       "    }\n",
       "\n",
       "    .dataframe thead th {\n",
       "        text-align: right;\n",
       "    }\n",
       "</style>\n",
       "<table border=\"1\" class=\"dataframe\">\n",
       "  <thead>\n",
       "    <tr style=\"text-align: right;\">\n",
       "      <th></th>\n",
       "      <th>User-ID</th>\n",
       "      <th>ISBN</th>\n",
       "      <th>Book-Rating</th>\n",
       "    </tr>\n",
       "  </thead>\n",
       "  <tbody>\n",
       "    <tr>\n",
       "      <th>0</th>\n",
       "      <td>276744</td>\n",
       "      <td>038550120X</td>\n",
       "      <td>7</td>\n",
       "    </tr>\n",
       "    <tr>\n",
       "      <th>1</th>\n",
       "      <td>276754</td>\n",
       "      <td>0684867621</td>\n",
       "      <td>8</td>\n",
       "    </tr>\n",
       "    <tr>\n",
       "      <th>2</th>\n",
       "      <td>276755</td>\n",
       "      <td>0451166892</td>\n",
       "      <td>5</td>\n",
       "    </tr>\n",
       "    <tr>\n",
       "      <th>3</th>\n",
       "      <td>276762</td>\n",
       "      <td>0380711524</td>\n",
       "      <td>5</td>\n",
       "    </tr>\n",
       "    <tr>\n",
       "      <th>4</th>\n",
       "      <td>276772</td>\n",
       "      <td>0553572369</td>\n",
       "      <td>7</td>\n",
       "    </tr>\n",
       "    <tr>\n",
       "      <th>...</th>\n",
       "      <td>...</td>\n",
       "      <td>...</td>\n",
       "      <td>...</td>\n",
       "    </tr>\n",
       "    <tr>\n",
       "      <th>204159</th>\n",
       "      <td>276688</td>\n",
       "      <td>0892966548</td>\n",
       "      <td>10</td>\n",
       "    </tr>\n",
       "    <tr>\n",
       "      <th>204160</th>\n",
       "      <td>276688</td>\n",
       "      <td>1551669315</td>\n",
       "      <td>6</td>\n",
       "    </tr>\n",
       "    <tr>\n",
       "      <th>204161</th>\n",
       "      <td>276704</td>\n",
       "      <td>0345386108</td>\n",
       "      <td>6</td>\n",
       "    </tr>\n",
       "    <tr>\n",
       "      <th>204162</th>\n",
       "      <td>276704</td>\n",
       "      <td>0743211383</td>\n",
       "      <td>7</td>\n",
       "    </tr>\n",
       "    <tr>\n",
       "      <th>204163</th>\n",
       "      <td>276709</td>\n",
       "      <td>0515107662</td>\n",
       "      <td>10</td>\n",
       "    </tr>\n",
       "  </tbody>\n",
       "</table>\n",
       "<p>204164 rows × 3 columns</p>\n",
       "</div>"
      ]
     },
     "execution_count": 54,
     "metadata": {},
     "output_type": "execute_result"
    },
    {
     "name": "stdout",
     "output_type": "stream",
     "text": [
      "time: 3.07 ms (started: 2024-05-09 22:28:58 +10:00)\n"
     ]
    }
   ],
   "execution_count": 54
  },
  {
   "metadata": {
    "ExecuteTime": {
     "end_time": "2024-05-09T12:28:58.077957Z",
     "start_time": "2024-05-09T12:28:58.073592Z"
    }
   },
   "cell_type": "code",
   "source": "merged",
   "id": "3e2f305253d49f77",
   "outputs": [
    {
     "data": {
      "text/plain": [
       "        User-ID        ISBN  Book-Rating  \\\n",
       "0        276744  038550120X            7   \n",
       "1         11676  038550120X           10   \n",
       "2         16877  038550120X            9   \n",
       "3         17975  038550120X            6   \n",
       "4         20806  038550120X            6   \n",
       "...         ...         ...          ...   \n",
       "204159   265784  0886775809            7   \n",
       "204160   246196  0375700110            4   \n",
       "204161   257485  0375700110            6   \n",
       "204162   274666  0375700110            9   \n",
       "204163   276463  0375700110            7   \n",
       "\n",
       "                                               Book-Title  \\\n",
       "0                                         A Painted House   \n",
       "1                                         A Painted House   \n",
       "2                                         A Painted House   \n",
       "3                                         A Painted House   \n",
       "4                                         A Painted House   \n",
       "...                                                   ...   \n",
       "204159                The Law of Becoming (Jaran, Book 4)   \n",
       "204160  Half and Half: Writers on Growing Up Biracial ...   \n",
       "204161  Half and Half: Writers on Growing Up Biracial ...   \n",
       "204162  Half and Half: Writers on Growing Up Biracial ...   \n",
       "204163  Half and Half: Writers on Growing Up Biracial ...   \n",
       "\n",
       "                Book-Author  Year-Of-Publication  Book-Publisher  \n",
       "0              JOHN GRISHAM                 2001       Doubleday  \n",
       "1              JOHN GRISHAM                 2001       Doubleday  \n",
       "2              JOHN GRISHAM                 2001       Doubleday  \n",
       "3              JOHN GRISHAM                 2001       Doubleday  \n",
       "4              JOHN GRISHAM                 2001       Doubleday  \n",
       "...                     ...                  ...             ...  \n",
       "204159         Kate Elliott                 1994       Daw Books  \n",
       "204160  Claudine C. O'Hearn                 1998  Pantheon Books  \n",
       "204161  Claudine C. O'Hearn                 1998  Pantheon Books  \n",
       "204162  Claudine C. O'Hearn                 1998  Pantheon Books  \n",
       "204163  Claudine C. O'Hearn                 1998  Pantheon Books  \n",
       "\n",
       "[204164 rows x 7 columns]"
      ],
      "text/html": [
       "<div>\n",
       "<style scoped>\n",
       "    .dataframe tbody tr th:only-of-type {\n",
       "        vertical-align: middle;\n",
       "    }\n",
       "\n",
       "    .dataframe tbody tr th {\n",
       "        vertical-align: top;\n",
       "    }\n",
       "\n",
       "    .dataframe thead th {\n",
       "        text-align: right;\n",
       "    }\n",
       "</style>\n",
       "<table border=\"1\" class=\"dataframe\">\n",
       "  <thead>\n",
       "    <tr style=\"text-align: right;\">\n",
       "      <th></th>\n",
       "      <th>User-ID</th>\n",
       "      <th>ISBN</th>\n",
       "      <th>Book-Rating</th>\n",
       "      <th>Book-Title</th>\n",
       "      <th>Book-Author</th>\n",
       "      <th>Year-Of-Publication</th>\n",
       "      <th>Book-Publisher</th>\n",
       "    </tr>\n",
       "  </thead>\n",
       "  <tbody>\n",
       "    <tr>\n",
       "      <th>0</th>\n",
       "      <td>276744</td>\n",
       "      <td>038550120X</td>\n",
       "      <td>7</td>\n",
       "      <td>A Painted House</td>\n",
       "      <td>JOHN GRISHAM</td>\n",
       "      <td>2001</td>\n",
       "      <td>Doubleday</td>\n",
       "    </tr>\n",
       "    <tr>\n",
       "      <th>1</th>\n",
       "      <td>11676</td>\n",
       "      <td>038550120X</td>\n",
       "      <td>10</td>\n",
       "      <td>A Painted House</td>\n",
       "      <td>JOHN GRISHAM</td>\n",
       "      <td>2001</td>\n",
       "      <td>Doubleday</td>\n",
       "    </tr>\n",
       "    <tr>\n",
       "      <th>2</th>\n",
       "      <td>16877</td>\n",
       "      <td>038550120X</td>\n",
       "      <td>9</td>\n",
       "      <td>A Painted House</td>\n",
       "      <td>JOHN GRISHAM</td>\n",
       "      <td>2001</td>\n",
       "      <td>Doubleday</td>\n",
       "    </tr>\n",
       "    <tr>\n",
       "      <th>3</th>\n",
       "      <td>17975</td>\n",
       "      <td>038550120X</td>\n",
       "      <td>6</td>\n",
       "      <td>A Painted House</td>\n",
       "      <td>JOHN GRISHAM</td>\n",
       "      <td>2001</td>\n",
       "      <td>Doubleday</td>\n",
       "    </tr>\n",
       "    <tr>\n",
       "      <th>4</th>\n",
       "      <td>20806</td>\n",
       "      <td>038550120X</td>\n",
       "      <td>6</td>\n",
       "      <td>A Painted House</td>\n",
       "      <td>JOHN GRISHAM</td>\n",
       "      <td>2001</td>\n",
       "      <td>Doubleday</td>\n",
       "    </tr>\n",
       "    <tr>\n",
       "      <th>...</th>\n",
       "      <td>...</td>\n",
       "      <td>...</td>\n",
       "      <td>...</td>\n",
       "      <td>...</td>\n",
       "      <td>...</td>\n",
       "      <td>...</td>\n",
       "      <td>...</td>\n",
       "    </tr>\n",
       "    <tr>\n",
       "      <th>204159</th>\n",
       "      <td>265784</td>\n",
       "      <td>0886775809</td>\n",
       "      <td>7</td>\n",
       "      <td>The Law of Becoming (Jaran, Book 4)</td>\n",
       "      <td>Kate Elliott</td>\n",
       "      <td>1994</td>\n",
       "      <td>Daw Books</td>\n",
       "    </tr>\n",
       "    <tr>\n",
       "      <th>204160</th>\n",
       "      <td>246196</td>\n",
       "      <td>0375700110</td>\n",
       "      <td>4</td>\n",
       "      <td>Half and Half: Writers on Growing Up Biracial ...</td>\n",
       "      <td>Claudine C. O'Hearn</td>\n",
       "      <td>1998</td>\n",
       "      <td>Pantheon Books</td>\n",
       "    </tr>\n",
       "    <tr>\n",
       "      <th>204161</th>\n",
       "      <td>257485</td>\n",
       "      <td>0375700110</td>\n",
       "      <td>6</td>\n",
       "      <td>Half and Half: Writers on Growing Up Biracial ...</td>\n",
       "      <td>Claudine C. O'Hearn</td>\n",
       "      <td>1998</td>\n",
       "      <td>Pantheon Books</td>\n",
       "    </tr>\n",
       "    <tr>\n",
       "      <th>204162</th>\n",
       "      <td>274666</td>\n",
       "      <td>0375700110</td>\n",
       "      <td>9</td>\n",
       "      <td>Half and Half: Writers on Growing Up Biracial ...</td>\n",
       "      <td>Claudine C. O'Hearn</td>\n",
       "      <td>1998</td>\n",
       "      <td>Pantheon Books</td>\n",
       "    </tr>\n",
       "    <tr>\n",
       "      <th>204163</th>\n",
       "      <td>276463</td>\n",
       "      <td>0375700110</td>\n",
       "      <td>7</td>\n",
       "      <td>Half and Half: Writers on Growing Up Biracial ...</td>\n",
       "      <td>Claudine C. O'Hearn</td>\n",
       "      <td>1998</td>\n",
       "      <td>Pantheon Books</td>\n",
       "    </tr>\n",
       "  </tbody>\n",
       "</table>\n",
       "<p>204164 rows × 7 columns</p>\n",
       "</div>"
      ]
     },
     "execution_count": 55,
     "metadata": {},
     "output_type": "execute_result"
    },
    {
     "name": "stdout",
     "output_type": "stream",
     "text": [
      "time: 3.03 ms (started: 2024-05-09 22:28:58 +10:00)\n"
     ]
    }
   ],
   "execution_count": 55
  },
  {
   "metadata": {
    "ExecuteTime": {
     "end_time": "2024-05-09T12:28:58.083682Z",
     "start_time": "2024-05-09T12:28:58.078550Z"
    }
   },
   "cell_type": "code",
   "source": "user.describe()",
   "id": "b3965f33507d7bac",
   "outputs": [
    {
     "data": {
      "text/plain": [
       "             User-ID\n",
       "count   48115.000000\n",
       "mean   139551.696893\n",
       "std     80430.008962\n",
       "min         8.000000\n",
       "25%     69164.000000\n",
       "50%    138849.000000\n",
       "75%    209416.500000\n",
       "max    278854.000000"
      ],
      "text/html": [
       "<div>\n",
       "<style scoped>\n",
       "    .dataframe tbody tr th:only-of-type {\n",
       "        vertical-align: middle;\n",
       "    }\n",
       "\n",
       "    .dataframe tbody tr th {\n",
       "        vertical-align: top;\n",
       "    }\n",
       "\n",
       "    .dataframe thead th {\n",
       "        text-align: right;\n",
       "    }\n",
       "</style>\n",
       "<table border=\"1\" class=\"dataframe\">\n",
       "  <thead>\n",
       "    <tr style=\"text-align: right;\">\n",
       "      <th></th>\n",
       "      <th>User-ID</th>\n",
       "    </tr>\n",
       "  </thead>\n",
       "  <tbody>\n",
       "    <tr>\n",
       "      <th>count</th>\n",
       "      <td>48115.000000</td>\n",
       "    </tr>\n",
       "    <tr>\n",
       "      <th>mean</th>\n",
       "      <td>139551.696893</td>\n",
       "    </tr>\n",
       "    <tr>\n",
       "      <th>std</th>\n",
       "      <td>80430.008962</td>\n",
       "    </tr>\n",
       "    <tr>\n",
       "      <th>min</th>\n",
       "      <td>8.000000</td>\n",
       "    </tr>\n",
       "    <tr>\n",
       "      <th>25%</th>\n",
       "      <td>69164.000000</td>\n",
       "    </tr>\n",
       "    <tr>\n",
       "      <th>50%</th>\n",
       "      <td>138849.000000</td>\n",
       "    </tr>\n",
       "    <tr>\n",
       "      <th>75%</th>\n",
       "      <td>209416.500000</td>\n",
       "    </tr>\n",
       "    <tr>\n",
       "      <th>max</th>\n",
       "      <td>278854.000000</td>\n",
       "    </tr>\n",
       "  </tbody>\n",
       "</table>\n",
       "</div>"
      ]
     },
     "execution_count": 56,
     "metadata": {},
     "output_type": "execute_result"
    },
    {
     "name": "stdout",
     "output_type": "stream",
     "text": [
      "time: 3.94 ms (started: 2024-05-09 22:28:58 +10:00)\n"
     ]
    }
   ],
   "execution_count": 56
  },
  {
   "metadata": {},
   "cell_type": "markdown",
   "source": [
    "# Content-based Recomendation system using TF-IDF\n",
    "Referenced from: Chan's Jupiter (https://goodboychan.github.io/python/datacamp/natural_language_processing/2020/07/17/04-TF-IDF-and-similarity-scores.html#Building-tf-idf-document-vectors)"
   ],
   "id": "cda78b266ace6bfd"
  },
  {
   "metadata": {},
   "cell_type": "markdown",
   "source": "",
   "id": "c6b0f01a18e3360a"
  },
  {
   "metadata": {
    "ExecuteTime": {
     "end_time": "2024-05-09T12:13:14.404620Z",
     "start_time": "2024-05-09T12:13:14.402649Z"
    }
   },
   "cell_type": "code",
   "source": [
    "import numpy as np\n",
    "import pandas as pd "
   ],
   "id": "403c008d77729f8",
   "outputs": [],
   "execution_count": 56
  },
  {
   "metadata": {
    "ExecuteTime": {
     "end_time": "2024-05-09T12:27:52.513582Z",
     "start_time": "2024-05-09T12:27:51.858217Z"
    }
   },
   "cell_type": "code",
   "source": [
    "%load_ext autotime\n",
    "from sklearn.feature_extraction.text import TfidfVectorizer\n",
    "from sklearn.metrics.pairwise import cosine_similarity, linear_kernel\n",
    "vectorizer = TfidfVectorizer()\n",
    "# extract title\n",
    "merged['Book-Title-Processed'] = merged['Book-Title'].apply(preprocess_text)\n",
    "titles = merged['Book-Title-Processed']\n",
    "tfidf = vectorizer.fit_transform(titles)\n",
    "vectorizer.get_feature_names_out()\n",
    "similarity = cosine_similarity(tfidf, tfidf)\n",
    "print(similarity[0])\n",
    "\n"
   ],
   "id": "535c4f9b23bd8727",
   "outputs": [
    {
     "ename": "NameError",
     "evalue": "name 'merged' is not defined",
     "output_type": "error",
     "traceback": [
      "\u001B[0;31m---------------------------------------------------------------------------\u001B[0m",
      "\u001B[0;31mNameError\u001B[0m                                 Traceback (most recent call last)",
      "Cell \u001B[0;32mIn[1], line 6\u001B[0m\n\u001B[1;32m      4\u001B[0m vectorizer \u001B[38;5;241m=\u001B[39m TfidfVectorizer(analyzer\u001B[38;5;241m=\u001B[39m\u001B[38;5;124m'\u001B[39m\u001B[38;5;124mword\u001B[39m\u001B[38;5;124m'\u001B[39m, ngram_range\u001B[38;5;241m=\u001B[39m(\u001B[38;5;241m1\u001B[39m,\u001B[38;5;241m2\u001B[39m), stop_words\u001B[38;5;241m=\u001B[39m\u001B[38;5;124m'\u001B[39m\u001B[38;5;124menglish\u001B[39m\u001B[38;5;124m'\u001B[39m)\n\u001B[1;32m      5\u001B[0m \u001B[38;5;66;03m# extract title\u001B[39;00m\n\u001B[0;32m----> 6\u001B[0m merged[\u001B[38;5;124m'\u001B[39m\u001B[38;5;124mBook-Title-Processed\u001B[39m\u001B[38;5;124m'\u001B[39m] \u001B[38;5;241m=\u001B[39m merged[\u001B[38;5;124m'\u001B[39m\u001B[38;5;124mBook-Title\u001B[39m\u001B[38;5;124m'\u001B[39m]\u001B[38;5;241m.\u001B[39mapply(preprocess_text)\n\u001B[1;32m      7\u001B[0m titles \u001B[38;5;241m=\u001B[39m merged[\u001B[38;5;124m'\u001B[39m\u001B[38;5;124mBook-Title-Processed\u001B[39m\u001B[38;5;124m'\u001B[39m]\n\u001B[1;32m      8\u001B[0m tfidf \u001B[38;5;241m=\u001B[39m vectorizer\u001B[38;5;241m.\u001B[39mfit_transform(titles)\n",
      "\u001B[0;31mNameError\u001B[0m: name 'merged' is not defined"
     ]
    },
    {
     "name": "stdout",
     "output_type": "stream",
     "text": [
      "time: 648 ms (started: 2024-05-09 22:27:51 +10:00)\n"
     ]
    }
   ],
   "execution_count": 1
  },
  {
   "metadata": {
    "ExecuteTime": {
     "end_time": "2024-05-09T11:24:19.454088Z",
     "start_time": "2024-05-09T11:24:19.450811Z"
    }
   },
   "cell_type": "code",
   "source": [
    "def get_title_recommendation(title, cosine_sim, indices):\n",
    "    # Get index of the book title\n",
    "    try:\n",
    "        idx = indices[title]\n",
    "        \n",
    "        sim_score = list(enumerate(cosine_sim[idx]))\n",
    "        sim_score = sorted(sim_score, key=lambda x: x[0], reverse=True)\n",
    "        sim_score = sim_score[:10]\n",
    "        print(sim_score)\n",
    "        # titles_indices = [i[0] for i in sim_score]\n",
    "        # return book['Book-Title'].iloc[titles_indices]\n",
    "    except:\n",
    "        return None\n",
    "\n"
   ],
   "id": "265ff974f4fd0f8c",
   "outputs": [],
   "execution_count": 460
  },
  {
   "metadata": {
    "ExecuteTime": {
     "end_time": "2024-05-09T11:12:01.420594Z",
     "start_time": "2024-05-09T11:11:51.039233Z"
    }
   },
   "cell_type": "code",
   "source": [
    "indice = pd.Series(book.index, index=book['Book-Title']).drop_duplicates()\n",
    "\n",
    "users = pd.read_csv(\"BX-Ratings.csv\")\n",
    "test_users = pd.Series(users.sample(n=100, random_state=42)['User-ID'])\n",
    "\n",
    "merged['Book-Title-Processed'] = merged['Book-Title'].apply(preprocess_text)\n",
    "merged\n",
    "user = test_users.iloc[0]\n",
    "result = []\n",
    "for user in test_users:\n",
    "    top_book_title = merged.loc[merged['User-ID'] == user]\n",
    "    top_book_title = top_book_title.sort_values(by = 'Book-Rating', ascending=False)['Book-Title-Processed']\n",
    "    print(type(top_book_title))\n",
    "    # rec = {\n",
    "    #     \"User-ID\": user,\n",
    "    #     \"Result\": pd.Series(top_book_title.map(lambda title: get_title_recommendation(title, similarity, indice)))\n",
    "    # }\n",
    "    # result.append(pd.DataFrame.from_dict(rec))\n"
   ],
   "id": "75dbdddb32d33a9f",
   "outputs": [
    {
     "ename": "KeyboardInterrupt",
     "evalue": "",
     "output_type": "error",
     "traceback": [
      "\u001B[0;31m---------------------------------------------------------------------------\u001B[0m",
      "\u001B[0;31mKeyboardInterrupt\u001B[0m                         Traceback (most recent call last)",
      "Cell \u001B[0;32mIn[422], line 6\u001B[0m\n\u001B[1;32m      3\u001B[0m users \u001B[38;5;241m=\u001B[39m pd\u001B[38;5;241m.\u001B[39mread_csv(\u001B[38;5;124m\"\u001B[39m\u001B[38;5;124mBX-Ratings.csv\u001B[39m\u001B[38;5;124m\"\u001B[39m)\n\u001B[1;32m      4\u001B[0m test_users \u001B[38;5;241m=\u001B[39m pd\u001B[38;5;241m.\u001B[39mSeries(users\u001B[38;5;241m.\u001B[39msample(n\u001B[38;5;241m=\u001B[39m\u001B[38;5;241m100\u001B[39m, random_state\u001B[38;5;241m=\u001B[39m\u001B[38;5;241m42\u001B[39m)[\u001B[38;5;124m'\u001B[39m\u001B[38;5;124mUser-ID\u001B[39m\u001B[38;5;124m'\u001B[39m])\n\u001B[0;32m----> 6\u001B[0m merged[\u001B[38;5;124m'\u001B[39m\u001B[38;5;124mBook-Title-Processed\u001B[39m\u001B[38;5;124m'\u001B[39m] \u001B[38;5;241m=\u001B[39m merged[\u001B[38;5;124m'\u001B[39m\u001B[38;5;124mBook-Title\u001B[39m\u001B[38;5;124m'\u001B[39m]\u001B[38;5;241m.\u001B[39mapply(preprocess_text)\n\u001B[1;32m      7\u001B[0m merged\n\u001B[1;32m      8\u001B[0m user \u001B[38;5;241m=\u001B[39m test_users\u001B[38;5;241m.\u001B[39miloc[\u001B[38;5;241m0\u001B[39m]\n",
      "File \u001B[0;32m/opt/anaconda3/lib/python3.11/site-packages/pandas/core/series.py:4764\u001B[0m, in \u001B[0;36mSeries.apply\u001B[0;34m(self, func, convert_dtype, args, by_row, **kwargs)\u001B[0m\n\u001B[1;32m   4629\u001B[0m \u001B[38;5;28;01mdef\u001B[39;00m \u001B[38;5;21mapply\u001B[39m(\n\u001B[1;32m   4630\u001B[0m     \u001B[38;5;28mself\u001B[39m,\n\u001B[1;32m   4631\u001B[0m     func: AggFuncType,\n\u001B[0;32m   (...)\u001B[0m\n\u001B[1;32m   4636\u001B[0m     \u001B[38;5;241m*\u001B[39m\u001B[38;5;241m*\u001B[39mkwargs,\n\u001B[1;32m   4637\u001B[0m ) \u001B[38;5;241m-\u001B[39m\u001B[38;5;241m>\u001B[39m DataFrame \u001B[38;5;241m|\u001B[39m Series:\n\u001B[1;32m   4638\u001B[0m \u001B[38;5;250m    \u001B[39m\u001B[38;5;124;03m\"\"\"\u001B[39;00m\n\u001B[1;32m   4639\u001B[0m \u001B[38;5;124;03m    Invoke function on values of Series.\u001B[39;00m\n\u001B[1;32m   4640\u001B[0m \n\u001B[0;32m   (...)\u001B[0m\n\u001B[1;32m   4755\u001B[0m \u001B[38;5;124;03m    dtype: float64\u001B[39;00m\n\u001B[1;32m   4756\u001B[0m \u001B[38;5;124;03m    \"\"\"\u001B[39;00m\n\u001B[1;32m   4757\u001B[0m     \u001B[38;5;28;01mreturn\u001B[39;00m SeriesApply(\n\u001B[1;32m   4758\u001B[0m         \u001B[38;5;28mself\u001B[39m,\n\u001B[1;32m   4759\u001B[0m         func,\n\u001B[1;32m   4760\u001B[0m         convert_dtype\u001B[38;5;241m=\u001B[39mconvert_dtype,\n\u001B[1;32m   4761\u001B[0m         by_row\u001B[38;5;241m=\u001B[39mby_row,\n\u001B[1;32m   4762\u001B[0m         args\u001B[38;5;241m=\u001B[39margs,\n\u001B[1;32m   4763\u001B[0m         kwargs\u001B[38;5;241m=\u001B[39mkwargs,\n\u001B[0;32m-> 4764\u001B[0m     )\u001B[38;5;241m.\u001B[39mapply()\n",
      "File \u001B[0;32m/opt/anaconda3/lib/python3.11/site-packages/pandas/core/apply.py:1209\u001B[0m, in \u001B[0;36mSeriesApply.apply\u001B[0;34m(self)\u001B[0m\n\u001B[1;32m   1206\u001B[0m     \u001B[38;5;28;01mreturn\u001B[39;00m \u001B[38;5;28mself\u001B[39m\u001B[38;5;241m.\u001B[39mapply_compat()\n\u001B[1;32m   1208\u001B[0m \u001B[38;5;66;03m# self.func is Callable\u001B[39;00m\n\u001B[0;32m-> 1209\u001B[0m \u001B[38;5;28;01mreturn\u001B[39;00m \u001B[38;5;28mself\u001B[39m\u001B[38;5;241m.\u001B[39mapply_standard()\n",
      "File \u001B[0;32m/opt/anaconda3/lib/python3.11/site-packages/pandas/core/apply.py:1289\u001B[0m, in \u001B[0;36mSeriesApply.apply_standard\u001B[0;34m(self)\u001B[0m\n\u001B[1;32m   1283\u001B[0m \u001B[38;5;66;03m# row-wise access\u001B[39;00m\n\u001B[1;32m   1284\u001B[0m \u001B[38;5;66;03m# apply doesn't have a `na_action` keyword and for backward compat reasons\u001B[39;00m\n\u001B[1;32m   1285\u001B[0m \u001B[38;5;66;03m# we need to give `na_action=\"ignore\"` for categorical data.\u001B[39;00m\n\u001B[1;32m   1286\u001B[0m \u001B[38;5;66;03m# TODO: remove the `na_action=\"ignore\"` when that default has been changed in\u001B[39;00m\n\u001B[1;32m   1287\u001B[0m \u001B[38;5;66;03m#  Categorical (GH51645).\u001B[39;00m\n\u001B[1;32m   1288\u001B[0m action \u001B[38;5;241m=\u001B[39m \u001B[38;5;124m\"\u001B[39m\u001B[38;5;124mignore\u001B[39m\u001B[38;5;124m\"\u001B[39m \u001B[38;5;28;01mif\u001B[39;00m \u001B[38;5;28misinstance\u001B[39m(obj\u001B[38;5;241m.\u001B[39mdtype, CategoricalDtype) \u001B[38;5;28;01melse\u001B[39;00m \u001B[38;5;28;01mNone\u001B[39;00m\n\u001B[0;32m-> 1289\u001B[0m mapped \u001B[38;5;241m=\u001B[39m obj\u001B[38;5;241m.\u001B[39m_map_values(\n\u001B[1;32m   1290\u001B[0m     mapper\u001B[38;5;241m=\u001B[39mcurried, na_action\u001B[38;5;241m=\u001B[39maction, convert\u001B[38;5;241m=\u001B[39m\u001B[38;5;28mself\u001B[39m\u001B[38;5;241m.\u001B[39mconvert_dtype\n\u001B[1;32m   1291\u001B[0m )\n\u001B[1;32m   1293\u001B[0m \u001B[38;5;28;01mif\u001B[39;00m \u001B[38;5;28mlen\u001B[39m(mapped) \u001B[38;5;129;01mand\u001B[39;00m \u001B[38;5;28misinstance\u001B[39m(mapped[\u001B[38;5;241m0\u001B[39m], ABCSeries):\n\u001B[1;32m   1294\u001B[0m     \u001B[38;5;66;03m# GH#43986 Need to do list(mapped) in order to get treated as nested\u001B[39;00m\n\u001B[1;32m   1295\u001B[0m     \u001B[38;5;66;03m#  See also GH#25959 regarding EA support\u001B[39;00m\n\u001B[1;32m   1296\u001B[0m     \u001B[38;5;28;01mreturn\u001B[39;00m obj\u001B[38;5;241m.\u001B[39m_constructor_expanddim(\u001B[38;5;28mlist\u001B[39m(mapped), index\u001B[38;5;241m=\u001B[39mobj\u001B[38;5;241m.\u001B[39mindex)\n",
      "File \u001B[0;32m/opt/anaconda3/lib/python3.11/site-packages/pandas/core/base.py:921\u001B[0m, in \u001B[0;36mIndexOpsMixin._map_values\u001B[0;34m(self, mapper, na_action, convert)\u001B[0m\n\u001B[1;32m    918\u001B[0m \u001B[38;5;28;01mif\u001B[39;00m \u001B[38;5;28misinstance\u001B[39m(arr, ExtensionArray):\n\u001B[1;32m    919\u001B[0m     \u001B[38;5;28;01mreturn\u001B[39;00m arr\u001B[38;5;241m.\u001B[39mmap(mapper, na_action\u001B[38;5;241m=\u001B[39mna_action)\n\u001B[0;32m--> 921\u001B[0m \u001B[38;5;28;01mreturn\u001B[39;00m algorithms\u001B[38;5;241m.\u001B[39mmap_array(arr, mapper, na_action\u001B[38;5;241m=\u001B[39mna_action, convert\u001B[38;5;241m=\u001B[39mconvert)\n",
      "File \u001B[0;32m/opt/anaconda3/lib/python3.11/site-packages/pandas/core/algorithms.py:1814\u001B[0m, in \u001B[0;36mmap_array\u001B[0;34m(arr, mapper, na_action, convert)\u001B[0m\n\u001B[1;32m   1812\u001B[0m values \u001B[38;5;241m=\u001B[39m arr\u001B[38;5;241m.\u001B[39mastype(\u001B[38;5;28mobject\u001B[39m, copy\u001B[38;5;241m=\u001B[39m\u001B[38;5;28;01mFalse\u001B[39;00m)\n\u001B[1;32m   1813\u001B[0m \u001B[38;5;28;01mif\u001B[39;00m na_action \u001B[38;5;129;01mis\u001B[39;00m \u001B[38;5;28;01mNone\u001B[39;00m:\n\u001B[0;32m-> 1814\u001B[0m     \u001B[38;5;28;01mreturn\u001B[39;00m lib\u001B[38;5;241m.\u001B[39mmap_infer(values, mapper, convert\u001B[38;5;241m=\u001B[39mconvert)\n\u001B[1;32m   1815\u001B[0m \u001B[38;5;28;01melse\u001B[39;00m:\n\u001B[1;32m   1816\u001B[0m     \u001B[38;5;28;01mreturn\u001B[39;00m lib\u001B[38;5;241m.\u001B[39mmap_infer_mask(\n\u001B[1;32m   1817\u001B[0m         values, mapper, mask\u001B[38;5;241m=\u001B[39misna(values)\u001B[38;5;241m.\u001B[39mview(np\u001B[38;5;241m.\u001B[39muint8), convert\u001B[38;5;241m=\u001B[39mconvert\n\u001B[1;32m   1818\u001B[0m     )\n",
      "File \u001B[0;32mlib.pyx:2926\u001B[0m, in \u001B[0;36mpandas._libs.lib.map_infer\u001B[0;34m()\u001B[0m\n",
      "Cell \u001B[0;32mIn[376], line 21\u001B[0m, in \u001B[0;36mpreprocess_text\u001B[0;34m(text)\u001B[0m\n\u001B[1;32m     19\u001B[0m tokens \u001B[38;5;241m=\u001B[39m word_tokenize(letters_only)\n\u001B[1;32m     20\u001B[0m \u001B[38;5;66;03m# remove stopwords\u001B[39;00m\n\u001B[0;32m---> 21\u001B[0m stop_words \u001B[38;5;241m=\u001B[39m \u001B[38;5;28mset\u001B[39m(stopwords\u001B[38;5;241m.\u001B[39mwords(\u001B[38;5;124m'\u001B[39m\u001B[38;5;124menglish\u001B[39m\u001B[38;5;124m'\u001B[39m))\n\u001B[1;32m     22\u001B[0m \u001B[38;5;66;03m# Lemmatization\u001B[39;00m\n\u001B[1;32m     23\u001B[0m tokens \u001B[38;5;241m=\u001B[39m [lemmatizer\u001B[38;5;241m.\u001B[39mlemmatize(word) \u001B[38;5;28;01mfor\u001B[39;00m word \u001B[38;5;129;01min\u001B[39;00m tokens \u001B[38;5;28;01mif\u001B[39;00m word \u001B[38;5;129;01mnot\u001B[39;00m \u001B[38;5;129;01min\u001B[39;00m stop_words]\n",
      "File \u001B[0;32m/opt/anaconda3/lib/python3.11/site-packages/nltk/corpus/reader/wordlist.py:21\u001B[0m, in \u001B[0;36mWordListCorpusReader.words\u001B[0;34m(self, fileids, ignore_lines_startswith)\u001B[0m\n\u001B[1;32m     18\u001B[0m \u001B[38;5;28;01mdef\u001B[39;00m \u001B[38;5;21mwords\u001B[39m(\u001B[38;5;28mself\u001B[39m, fileids\u001B[38;5;241m=\u001B[39m\u001B[38;5;28;01mNone\u001B[39;00m, ignore_lines_startswith\u001B[38;5;241m=\u001B[39m\u001B[38;5;124m\"\u001B[39m\u001B[38;5;130;01m\\n\u001B[39;00m\u001B[38;5;124m\"\u001B[39m):\n\u001B[1;32m     19\u001B[0m     \u001B[38;5;28;01mreturn\u001B[39;00m [\n\u001B[1;32m     20\u001B[0m         line\n\u001B[0;32m---> 21\u001B[0m         \u001B[38;5;28;01mfor\u001B[39;00m line \u001B[38;5;129;01min\u001B[39;00m line_tokenize(\u001B[38;5;28mself\u001B[39m\u001B[38;5;241m.\u001B[39mraw(fileids))\n\u001B[1;32m     22\u001B[0m         \u001B[38;5;28;01mif\u001B[39;00m \u001B[38;5;129;01mnot\u001B[39;00m line\u001B[38;5;241m.\u001B[39mstartswith(ignore_lines_startswith)\n\u001B[1;32m     23\u001B[0m     ]\n",
      "File \u001B[0;32m/opt/anaconda3/lib/python3.11/site-packages/nltk/corpus/reader/api.py:218\u001B[0m, in \u001B[0;36mCorpusReader.raw\u001B[0;34m(self, fileids)\u001B[0m\n\u001B[1;32m    216\u001B[0m contents \u001B[38;5;241m=\u001B[39m []\n\u001B[1;32m    217\u001B[0m \u001B[38;5;28;01mfor\u001B[39;00m f \u001B[38;5;129;01min\u001B[39;00m fileids:\n\u001B[0;32m--> 218\u001B[0m     \u001B[38;5;28;01mwith\u001B[39;00m \u001B[38;5;28mself\u001B[39m\u001B[38;5;241m.\u001B[39mopen(f) \u001B[38;5;28;01mas\u001B[39;00m fp:\n\u001B[1;32m    219\u001B[0m         contents\u001B[38;5;241m.\u001B[39mappend(fp\u001B[38;5;241m.\u001B[39mread())\n\u001B[1;32m    220\u001B[0m \u001B[38;5;28;01mreturn\u001B[39;00m concat(contents)\n",
      "File \u001B[0;32m/opt/anaconda3/lib/python3.11/site-packages/nltk/corpus/reader/api.py:231\u001B[0m, in \u001B[0;36mCorpusReader.open\u001B[0;34m(self, file)\u001B[0m\n\u001B[1;32m    223\u001B[0m \u001B[38;5;250m\u001B[39m\u001B[38;5;124;03m\"\"\"\u001B[39;00m\n\u001B[1;32m    224\u001B[0m \u001B[38;5;124;03mReturn an open stream that can be used to read the given file.\u001B[39;00m\n\u001B[1;32m    225\u001B[0m \u001B[38;5;124;03mIf the file's encoding is not None, then the stream will\u001B[39;00m\n\u001B[0;32m   (...)\u001B[0m\n\u001B[1;32m    228\u001B[0m \u001B[38;5;124;03m:param file: The file identifier of the file to read.\u001B[39;00m\n\u001B[1;32m    229\u001B[0m \u001B[38;5;124;03m\"\"\"\u001B[39;00m\n\u001B[1;32m    230\u001B[0m encoding \u001B[38;5;241m=\u001B[39m \u001B[38;5;28mself\u001B[39m\u001B[38;5;241m.\u001B[39mencoding(file)\n\u001B[0;32m--> 231\u001B[0m stream \u001B[38;5;241m=\u001B[39m \u001B[38;5;28mself\u001B[39m\u001B[38;5;241m.\u001B[39m_root\u001B[38;5;241m.\u001B[39mjoin(file)\u001B[38;5;241m.\u001B[39mopen(encoding)\n\u001B[1;32m    232\u001B[0m \u001B[38;5;28;01mreturn\u001B[39;00m stream\n",
      "File \u001B[0;32m/opt/anaconda3/lib/python3.11/site-packages/nltk/data.py:324\u001B[0m, in \u001B[0;36mFileSystemPathPointer.open\u001B[0;34m(self, encoding)\u001B[0m\n\u001B[1;32m    323\u001B[0m \u001B[38;5;28;01mdef\u001B[39;00m \u001B[38;5;21mopen\u001B[39m(\u001B[38;5;28mself\u001B[39m, encoding\u001B[38;5;241m=\u001B[39m\u001B[38;5;28;01mNone\u001B[39;00m):\n\u001B[0;32m--> 324\u001B[0m     stream \u001B[38;5;241m=\u001B[39m \u001B[38;5;28mopen\u001B[39m(\u001B[38;5;28mself\u001B[39m\u001B[38;5;241m.\u001B[39m_path, \u001B[38;5;124m\"\u001B[39m\u001B[38;5;124mrb\u001B[39m\u001B[38;5;124m\"\u001B[39m)\n\u001B[1;32m    325\u001B[0m     \u001B[38;5;28;01mif\u001B[39;00m encoding \u001B[38;5;129;01mis\u001B[39;00m \u001B[38;5;129;01mnot\u001B[39;00m \u001B[38;5;28;01mNone\u001B[39;00m:\n\u001B[1;32m    326\u001B[0m         stream \u001B[38;5;241m=\u001B[39m SeekableUnicodeStreamReader(stream, encoding)\n",
      "\u001B[0;31mKeyboardInterrupt\u001B[0m: "
     ]
    }
   ],
   "execution_count": 422
  },
  {
   "metadata": {
    "ExecuteTime": {
     "end_time": "2024-05-09T11:24:25.417620Z",
     "start_time": "2024-05-09T11:24:25.407628Z"
    }
   },
   "cell_type": "code",
   "source": [
    "user = test_users.iloc[0]\n",
    "top_book_title = merged.loc[merged['User-ID'] == user]\n",
    "top_book_title = top_book_title.sort_values(by = 'Book-Rating', ascending=False)['Book-Title-Processed']\n",
    "result = pd.Series()\n",
    "title = top_book_title.iloc[0]\n",
    "# print(title)\n",
    "# for title in top_book_title:\n",
    "res = get_title_recommendation(title, similarity, indice)\n",
    "    \n",
    "result"
   ],
   "id": "8a6681d25bb390f7",
   "outputs": [
    {
     "name": "stdout",
     "output_type": "stream",
     "text": [
      "[(18184, 0.0), (18183, 0.0), (18182, 0.0), (18181, 0.0), (18180, 0.0), (18179, 0.0), (18178, 0.0), (18177, 0.0), (18176, 0.0), (18175, 0.0)]\n"
     ]
    },
    {
     "data": {
      "text/plain": [
       "Series([], dtype: object)"
      ]
     },
     "execution_count": 461,
     "metadata": {},
     "output_type": "execute_result"
    }
   ],
   "execution_count": 461
  },
  {
   "metadata": {},
   "cell_type": "code",
   "outputs": [],
   "execution_count": null,
   "source": "()",
   "id": "286914255821b814"
  }
 ],
 "metadata": {
  "kernelspec": {
   "display_name": "Python 3 (ipykernel)",
   "language": "python",
   "name": "python3"
  },
  "language_info": {
   "codemirror_mode": {
    "name": "ipython",
    "version": 3
   },
   "file_extension": ".py",
   "mimetype": "text/x-python",
   "name": "python",
   "nbconvert_exporter": "python",
   "pygments_lexer": "ipython3",
   "version": "3.11.4"
  }
 },
 "nbformat": 4,
 "nbformat_minor": 5
}
