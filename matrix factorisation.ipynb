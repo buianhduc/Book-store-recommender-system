{
 "cells": [
  {
   "cell_type": "code",
   "execution_count": 1,
   "id": "9aafe154",
   "metadata": {
    "ExecuteTime": {
     "end_time": "2024-05-09T04:05:28.686701Z",
     "start_time": "2024-05-09T04:05:26.267497Z"
    }
   },
   "outputs": [],
   "source": [
    "import pandas as pd\n",
    "import regex as re\n",
    "import numpy as np\n",
    "book = pd.read_csv(\"BX-Books.csv\")\n",
    "rating = pd.read_csv(\"BX-Ratings.csv\")\n",
    "user = pd.read_csv(\"BX-Users.csv\")"
   ]
  },
  {
   "cell_type": "code",
   "execution_count": 2,
   "id": "4d23a853",
   "metadata": {
    "ExecuteTime": {
     "end_time": "2024-05-09T04:05:28.694064Z",
     "start_time": "2024-05-09T04:05:28.687480Z"
    }
   },
   "outputs": [
    {
     "data": {
      "text/html": [
       "<div>\n",
       "<style scoped>\n",
       "    .dataframe tbody tr th:only-of-type {\n",
       "        vertical-align: middle;\n",
       "    }\n",
       "\n",
       "    .dataframe tbody tr th {\n",
       "        vertical-align: top;\n",
       "    }\n",
       "\n",
       "    .dataframe thead th {\n",
       "        text-align: right;\n",
       "    }\n",
       "</style>\n",
       "<table border=\"1\" class=\"dataframe\">\n",
       "  <thead>\n",
       "    <tr style=\"text-align: right;\">\n",
       "      <th></th>\n",
       "      <th>ISBN</th>\n",
       "      <th>Book-Title</th>\n",
       "      <th>Book-Author</th>\n",
       "      <th>Year-Of-Publication</th>\n",
       "      <th>Book-Publisher</th>\n",
       "    </tr>\n",
       "  </thead>\n",
       "  <tbody>\n",
       "    <tr>\n",
       "      <th>0</th>\n",
       "      <td>0002005018</td>\n",
       "      <td>Clara Callan</td>\n",
       "      <td>Richard Bruce Wright</td>\n",
       "      <td>2001</td>\n",
       "      <td>HarperFlamingo Canada</td>\n",
       "    </tr>\n",
       "    <tr>\n",
       "      <th>1</th>\n",
       "      <td>0374157065</td>\n",
       "      <td>Flu: The Story of the Great Influenza Pandemic...</td>\n",
       "      <td>Gina Bari Kolata</td>\n",
       "      <td>1999</td>\n",
       "      <td>Farrar Straus Giroux</td>\n",
       "    </tr>\n",
       "    <tr>\n",
       "      <th>2</th>\n",
       "      <td>0399135782</td>\n",
       "      <td>The Kitchen God's Wife</td>\n",
       "      <td>Amy Tan</td>\n",
       "      <td>1991</td>\n",
       "      <td>Putnam Pub Group</td>\n",
       "    </tr>\n",
       "    <tr>\n",
       "      <th>3</th>\n",
       "      <td>0440234743</td>\n",
       "      <td>The Testament</td>\n",
       "      <td>John Grisham</td>\n",
       "      <td>1999</td>\n",
       "      <td>Dell</td>\n",
       "    </tr>\n",
       "    <tr>\n",
       "      <th>4</th>\n",
       "      <td>0452264464</td>\n",
       "      <td>Beloved (Plume Contemporary Fiction)</td>\n",
       "      <td>Toni Morrison</td>\n",
       "      <td>1994</td>\n",
       "      <td>Plume</td>\n",
       "    </tr>\n",
       "    <tr>\n",
       "      <th>...</th>\n",
       "      <td>...</td>\n",
       "      <td>...</td>\n",
       "      <td>...</td>\n",
       "      <td>...</td>\n",
       "      <td>...</td>\n",
       "    </tr>\n",
       "    <tr>\n",
       "      <th>18180</th>\n",
       "      <td>0375411615</td>\n",
       "      <td>Love, Etc.</td>\n",
       "      <td>Julian Barnes</td>\n",
       "      <td>2001</td>\n",
       "      <td>Alfred A. Knopf</td>\n",
       "    </tr>\n",
       "    <tr>\n",
       "      <th>18181</th>\n",
       "      <td>0836227751</td>\n",
       "      <td>The Wit And Whimsy Of Mary Engelbreit</td>\n",
       "      <td>Mary Engelbreit</td>\n",
       "      <td>1997</td>\n",
       "      <td>Andrews McMeel Publishing</td>\n",
       "    </tr>\n",
       "    <tr>\n",
       "      <th>18182</th>\n",
       "      <td>8433966634</td>\n",
       "      <td>Los Detectives Salvajes</td>\n",
       "      <td>Roberto Bolano</td>\n",
       "      <td>2003</td>\n",
       "      <td>Anagrama</td>\n",
       "    </tr>\n",
       "    <tr>\n",
       "      <th>18183</th>\n",
       "      <td>0330353349</td>\n",
       "      <td>The Ice House (TV Tie-In Edition)</td>\n",
       "      <td>Minette Walters</td>\n",
       "      <td>1997</td>\n",
       "      <td>McClelland &amp; Stewart</td>\n",
       "    </tr>\n",
       "    <tr>\n",
       "      <th>18184</th>\n",
       "      <td>0394757645</td>\n",
       "      <td>Trouble Is My Business (Vintage Crime/Black Li...</td>\n",
       "      <td>Raymond Chandler</td>\n",
       "      <td>1992</td>\n",
       "      <td>Vintage Books USA</td>\n",
       "    </tr>\n",
       "  </tbody>\n",
       "</table>\n",
       "<p>18185 rows × 5 columns</p>\n",
       "</div>"
      ],
      "text/plain": [
       "             ISBN                                         Book-Title  \\\n",
       "0      0002005018                                       Clara Callan   \n",
       "1      0374157065  Flu: The Story of the Great Influenza Pandemic...   \n",
       "2      0399135782                             The Kitchen God's Wife   \n",
       "3      0440234743                                      The Testament   \n",
       "4      0452264464               Beloved (Plume Contemporary Fiction)   \n",
       "...           ...                                                ...   \n",
       "18180  0375411615                                         Love, Etc.   \n",
       "18181  0836227751              The Wit And Whimsy Of Mary Engelbreit   \n",
       "18182  8433966634                            Los Detectives Salvajes   \n",
       "18183  0330353349                  The Ice House (TV Tie-In Edition)   \n",
       "18184  0394757645  Trouble Is My Business (Vintage Crime/Black Li...   \n",
       "\n",
       "                Book-Author  Year-Of-Publication             Book-Publisher  \n",
       "0      Richard Bruce Wright                 2001      HarperFlamingo Canada  \n",
       "1          Gina Bari Kolata                 1999       Farrar Straus Giroux  \n",
       "2                   Amy Tan                 1991           Putnam Pub Group  \n",
       "3              John Grisham                 1999                       Dell  \n",
       "4             Toni Morrison                 1994                      Plume  \n",
       "...                     ...                  ...                        ...  \n",
       "18180         Julian Barnes                 2001            Alfred A. Knopf  \n",
       "18181       Mary Engelbreit                 1997  Andrews McMeel Publishing  \n",
       "18182        Roberto Bolano                 2003                   Anagrama  \n",
       "18183       Minette Walters                 1997       McClelland & Stewart  \n",
       "18184      Raymond Chandler                 1992          Vintage Books USA  \n",
       "\n",
       "[18185 rows x 5 columns]"
      ]
     },
     "execution_count": 2,
     "metadata": {},
     "output_type": "execute_result"
    }
   ],
   "source": [
    "book"
   ]
  },
  {
   "cell_type": "code",
   "execution_count": 3,
   "id": "0d706a2e",
   "metadata": {
    "ExecuteTime": {
     "end_time": "2024-05-09T04:05:28.702591Z",
     "start_time": "2024-05-09T04:05:28.694758Z"
    }
   },
   "outputs": [
    {
     "name": "stdout",
     "output_type": "stream",
     "text": [
      "<class 'pandas.core.frame.DataFrame'>\n",
      "RangeIndex: 48299 entries, 0 to 48298\n",
      "Data columns (total 5 columns):\n",
      " #   Column        Non-Null Count  Dtype \n",
      "---  ------        --------------  ----- \n",
      " 0   User-ID       48299 non-null  int64 \n",
      " 1   User-City     48238 non-null  object\n",
      " 2   User-State    48299 non-null  object\n",
      " 3   User-Country  47630 non-null  object\n",
      " 4   User-Age      29347 non-null  object\n",
      "dtypes: int64(1), object(4)\n",
      "memory usage: 1.8+ MB\n"
     ]
    }
   ],
   "source": [
    "user.info()"
   ]
  },
  {
   "cell_type": "code",
   "execution_count": 4,
   "id": "51706128",
   "metadata": {
    "ExecuteTime": {
     "end_time": "2024-05-09T04:05:28.926313Z",
     "start_time": "2024-05-09T04:05:28.703864Z"
    }
   },
   "outputs": [],
   "source": [
    "# remove trailing double quote\n",
    "user[\"User-Age\"] = user.apply(\n",
    "    lambda row: re.sub(r'\\\"$', \"\", row[\"User-Age\"]) if not pd.isna(row[\"User-Age\"]) else row[\"User-Age\"],\n",
    "    axis=1\n",
    ")\n",
    "# impute user age\n",
    "user[\"User-Age\"].fillna(user[\"User-Age\"].median(), inplace=True)\n",
    "user.astype({\n",
    "    \"User-Age\": \"int32\",\n",
    "})\n",
    "user[\"User-Age\"] = user[\"User-Age\"].astype(int)"
   ]
  },
  {
   "cell_type": "code",
   "execution_count": 5,
   "id": "329455a4",
   "metadata": {
    "ExecuteTime": {
     "end_time": "2024-05-09T04:05:29.037687Z",
     "start_time": "2024-05-09T04:05:28.926988Z"
    }
   },
   "outputs": [],
   "source": [
    "# remove trailing double quote\n",
    "user[\"User-Country\"] = (user['User-Country']\n",
    "                         .apply(lambda country: re.sub(r'\\\"$', \"\", country) if not pd.isna (country) else country))\n"
   ]
  },
  {
   "cell_type": "code",
   "execution_count": 6,
   "id": "650b2ca9",
   "metadata": {
    "ExecuteTime": {
     "end_time": "2024-05-09T04:05:32.890115Z",
     "start_time": "2024-05-09T04:05:29.038390Z"
    }
   },
   "outputs": [
    {
     "name": "stdout",
     "output_type": "stream",
     "text": [
      "Requirement already satisfied: pycountry in /opt/anaconda3/lib/python3.11/site-packages (23.12.11)\n",
      "Not found   Alderney\n",
      "SubdivisionHierarchy(code='MX-MEX', country_code='MX', name='México', parent_code=None, type='State')\n",
      "SubdivisionHierarchy(code='GT-GU', country_code='GT', name='Guatemala', parent_code=None, type='Department')\n",
      "SubdivisionHierarchy(code='GB-ENG', country_code='GB', name='England', parent_code=None, type='Country')\n",
      "Not found   N/A\n",
      "Not found   Turkey\n",
      "Not found   US OF A\n",
      "Not found   Tdzimi\n",
      "SubdivisionHierarchy(code='BE-WLX', country_code='BE', name='Luxembourg', parent='WAL', parent_code='BE-WAL', type='Province')\n",
      "SubdivisionHierarchy(code='LU-LU', country_code='LU', name='Luxembourg', parent_code=None, type='Canton')\n",
      "Not found   España\n",
      "SubdivisionHierarchy(code='BD-13', country_code='BD', name='Dhaka', parent='C', parent_code='BD-C', type='District')\n",
      "SubdivisionHierarchy(code='BD-15', country_code='BD', name='Faridpur', parent='C', parent_code='BD-C', type='District')\n",
      "SubdivisionHierarchy(code='BD-17', country_code='BD', name='Gopalganj', parent='C', parent_code='BD-C', type='District')\n",
      "SubdivisionHierarchy(code='BD-18', country_code='BD', name='Gazipur', parent='C', parent_code='BD-C', type='District')\n",
      "SubdivisionHierarchy(code='BD-26', country_code='BD', name='Kishoreganj', parent='C', parent_code='BD-C', type='District')\n",
      "SubdivisionHierarchy(code='BD-33', country_code='BD', name='Manikganj', parent='C', parent_code='BD-C', type='District')\n",
      "SubdivisionHierarchy(code='BD-35', country_code='BD', name='Munshiganj', parent='C', parent_code='BD-C', type='District')\n",
      "SubdivisionHierarchy(code='BD-36', country_code='BD', name='Madaripur', parent='C', parent_code='BD-C', type='District')\n",
      "SubdivisionHierarchy(code='BD-40', country_code='BD', name='Narayanganj', parent='C', parent_code='BD-C', type='District')\n",
      "SubdivisionHierarchy(code='BD-42', country_code='BD', name='Narsingdi', parent='C', parent_code='BD-C', type='District')\n",
      "SubdivisionHierarchy(code='BD-53', country_code='BD', name='Rajbari', parent='C', parent_code='BD-C', type='District')\n",
      "SubdivisionHierarchy(code='BD-62', country_code='BD', name='Shariatpur', parent='C', parent_code='BD-C', type='District')\n",
      "SubdivisionHierarchy(code='BD-63', country_code='BD', name='Tangail', parent='C', parent_code='BD-C', type='District')\n",
      "SubdivisionHierarchy(code='FJ-09', country_code='FJ', name='Naitasiri', parent='C', parent_code='FJ-C', type='Province')\n",
      "SubdivisionHierarchy(code='FJ-10', country_code='FJ', name='Namosi', parent='C', parent_code='FJ-C', type='Province')\n",
      "SubdivisionHierarchy(code='FJ-12', country_code='FJ', name='Rewa', parent='C', parent_code='FJ-C', type='Province')\n",
      "SubdivisionHierarchy(code='FJ-13', country_code='FJ', name='Serua', parent='C', parent_code='FJ-C', type='Province')\n",
      "SubdivisionHierarchy(code='FJ-14', country_code='FJ', name='Tailevu', parent='C', parent_code='FJ-C', type='Province')\n",
      "SubdivisionHierarchy(code='GQ-CS', country_code='GQ', name='Centro Sud', parent='C', parent_code='GQ-C', type='Province')\n",
      "SubdivisionHierarchy(code='GQ-DJ', country_code='GQ', name='Djibloho', parent='C', parent_code='GQ-C', type='Province')\n",
      "SubdivisionHierarchy(code='GQ-KN', country_code='GQ', name='Kié-Ntem', parent='C', parent_code='GQ-C', type='Province')\n",
      "SubdivisionHierarchy(code='GQ-LI', country_code='GQ', name='Litoral', parent='C', parent_code='GQ-C', type='Province')\n",
      "SubdivisionHierarchy(code='GQ-WN', country_code='GQ', name='Wele-Nzas', parent='C', parent_code='GQ-C', type='Province')\n",
      "SubdivisionHierarchy(code='IE-G', country_code='IE', name='Galway', parent='C', parent_code='IE-C', type='County')\n",
      "SubdivisionHierarchy(code='IE-LM', country_code='IE', name='Leitrim', parent='C', parent_code='IE-C', type='County')\n",
      "SubdivisionHierarchy(code='IE-MO', country_code='IE', name='Mayo', parent='C', parent_code='IE-C', type='County')\n",
      "SubdivisionHierarchy(code='IE-RN', country_code='IE', name='Roscommon', parent='C', parent_code='IE-C', type='County')\n",
      "SubdivisionHierarchy(code='IE-SO', country_code='IE', name='Sligo', parent='C', parent_code='IE-C', type='County')\n",
      "SubdivisionHierarchy(code='MW-DE', country_code='MW', name='Dedza', parent='C', parent_code='MW-C', type='District')\n",
      "SubdivisionHierarchy(code='MW-DO', country_code='MW', name='Dowa', parent='C', parent_code='MW-C', type='District')\n",
      "SubdivisionHierarchy(code='MW-KS', country_code='MW', name='Kasungu', parent='C', parent_code='MW-C', type='District')\n",
      "SubdivisionHierarchy(code='MW-LI', country_code='MW', name='Lilongwe', parent='C', parent_code='MW-C', type='District')\n",
      "SubdivisionHierarchy(code='MW-MC', country_code='MW', name='Mchinji', parent='C', parent_code='MW-C', type='District')\n",
      "SubdivisionHierarchy(code='MW-NI', country_code='MW', name='Ntchisi', parent='C', parent_code='MW-C', type='District')\n",
      "SubdivisionHierarchy(code='MW-NK', country_code='MW', name='Nkhotakota', parent='C', parent_code='MW-C', type='District')\n",
      "SubdivisionHierarchy(code='MW-NU', country_code='MW', name='Ntcheu', parent='C', parent_code='MW-C', type='District')\n",
      "SubdivisionHierarchy(code='MW-SA', country_code='MW', name='Salima', parent='C', parent_code='MW-C', type='District')\n",
      "SubdivisionHierarchy(code='UG-101', country_code='UG', name='Kalangala', parent='C', parent_code='UG-C', type='District')\n",
      "SubdivisionHierarchy(code='UG-102', country_code='UG', name='Kampala', parent='C', parent_code='UG-C', type='City')\n",
      "SubdivisionHierarchy(code='UG-103', country_code='UG', name='Kiboga', parent='C', parent_code='UG-C', type='District')\n",
      "SubdivisionHierarchy(code='UG-104', country_code='UG', name='Luwero', parent='C', parent_code='UG-C', type='District')\n",
      "SubdivisionHierarchy(code='UG-105', country_code='UG', name='Masaka', parent='C', parent_code='UG-C', type='District')\n",
      "SubdivisionHierarchy(code='UG-106', country_code='UG', name='Mpigi', parent='C', parent_code='UG-C', type='District')\n",
      "SubdivisionHierarchy(code='UG-107', country_code='UG', name='Mubende', parent='C', parent_code='UG-C', type='District')\n",
      "SubdivisionHierarchy(code='UG-108', country_code='UG', name='Mukono', parent='C', parent_code='UG-C', type='District')\n",
      "SubdivisionHierarchy(code='UG-109', country_code='UG', name='Nakasongola', parent='C', parent_code='UG-C', type='District')\n",
      "SubdivisionHierarchy(code='UG-110', country_code='UG', name='Rakai', parent='C', parent_code='UG-C', type='District')\n",
      "SubdivisionHierarchy(code='UG-111', country_code='UG', name='Sembabule', parent='C', parent_code='UG-C', type='District')\n",
      "SubdivisionHierarchy(code='UG-112', country_code='UG', name='Kayunga', parent='C', parent_code='UG-C', type='District')\n",
      "SubdivisionHierarchy(code='UG-113', country_code='UG', name='Wakiso', parent='C', parent_code='UG-C', type='District')\n",
      "SubdivisionHierarchy(code='UG-114', country_code='UG', name='Lyantonde', parent='C', parent_code='UG-C', type='District')\n",
      "SubdivisionHierarchy(code='UG-115', country_code='UG', name='Mityana', parent='C', parent_code='UG-C', type='District')\n",
      "SubdivisionHierarchy(code='UG-116', country_code='UG', name='Nakaseke', parent='C', parent_code='UG-C', type='District')\n",
      "SubdivisionHierarchy(code='UG-117', country_code='UG', name='Buikwe', parent='C', parent_code='UG-C', type='District')\n",
      "SubdivisionHierarchy(code='UG-118', country_code='UG', name='Bukomansibi', parent='C', parent_code='UG-C', type='District')\n",
      "SubdivisionHierarchy(code='UG-119', country_code='UG', name='Butambala', parent='C', parent_code='UG-C', type='District')\n",
      "SubdivisionHierarchy(code='UG-120', country_code='UG', name='Buvuma', parent='C', parent_code='UG-C', type='District')\n",
      "SubdivisionHierarchy(code='UG-121', country_code='UG', name='Gomba', parent='C', parent_code='UG-C', type='District')\n",
      "SubdivisionHierarchy(code='UG-122', country_code='UG', name='Kalungu', parent='C', parent_code='UG-C', type='District')\n",
      "SubdivisionHierarchy(code='UG-123', country_code='UG', name='Kyankwanzi', parent='C', parent_code='UG-C', type='District')\n",
      "SubdivisionHierarchy(code='UG-124', country_code='UG', name='Lwengo', parent='C', parent_code='UG-C', type='District')\n",
      "SubdivisionHierarchy(code='UG-125', country_code='UG', name='Kyotera', parent='C', parent_code='UG-C', type='District')\n",
      "SubdivisionHierarchy(code='UG-126', country_code='UG', name='Kasanda', parent='C', parent_code='UG-C', type='District')\n",
      "SubdivisionHierarchy(code='IT-FE', country_code='IT', name='Ferrara', parent='45', parent_code='IT-45', type='Province')\n",
      "Not found   Lkjlj\n",
      "Not found   N/A - On The Road\n",
      "SubdivisionHierarchy(code='UA-05', country_code='UA', name='Vinnytska oblast', parent_code=None, type='Region')\n",
      "SubdivisionHierarchy(code='UA-07', country_code='UA', name='Volynska oblast', parent_code=None, type='Region')\n",
      "SubdivisionHierarchy(code='UA-09', country_code='UA', name='Luhanska oblast', parent_code=None, type='Region')\n",
      "SubdivisionHierarchy(code='UA-12', country_code='UA', name='Dnipropetrovska oblast', parent_code=None, type='Region')\n",
      "SubdivisionHierarchy(code='UA-14', country_code='UA', name='Donetska oblast', parent_code=None, type='Region')\n",
      "SubdivisionHierarchy(code='UA-18', country_code='UA', name='Zhytomyrska oblast', parent_code=None, type='Region')\n",
      "SubdivisionHierarchy(code='UA-21', country_code='UA', name='Zakarpatska oblast', parent_code=None, type='Region')\n",
      "SubdivisionHierarchy(code='UA-23', country_code='UA', name='Zaporizka oblast', parent_code=None, type='Region')\n",
      "SubdivisionHierarchy(code='UA-26', country_code='UA', name='Ivano-Frankivska oblast', parent_code=None, type='Region')\n",
      "SubdivisionHierarchy(code='UA-30', country_code='UA', name='Kyiv', parent_code=None, type='City')\n",
      "SubdivisionHierarchy(code='UA-32', country_code='UA', name='Kyivska oblast', parent_code=None, type='Region')\n",
      "SubdivisionHierarchy(code='UA-35', country_code='UA', name='Kirovohradska oblast', parent_code=None, type='Region')\n",
      "SubdivisionHierarchy(code='UA-40', country_code='UA', name='Sevastopol', parent_code=None, type='City')\n",
      "SubdivisionHierarchy(code='UA-43', country_code='UA', name='Avtonomna Respublika Krym', parent_code=None, type='Republic')\n",
      "SubdivisionHierarchy(code='UA-46', country_code='UA', name='Lvivska oblast', parent_code=None, type='Region')\n",
      "SubdivisionHierarchy(code='UA-48', country_code='UA', name='Mykolaivska oblast', parent_code=None, type='Region')\n",
      "SubdivisionHierarchy(code='UA-51', country_code='UA', name='Odeska oblast', parent_code=None, type='Region')\n",
      "SubdivisionHierarchy(code='UA-53', country_code='UA', name='Poltavska oblast', parent_code=None, type='Region')\n",
      "SubdivisionHierarchy(code='UA-56', country_code='UA', name='Rivnenska oblast', parent_code=None, type='Region')\n",
      "SubdivisionHierarchy(code='UA-59', country_code='UA', name='Sumska oblast', parent_code=None, type='Region')\n",
      "SubdivisionHierarchy(code='UA-61', country_code='UA', name='Ternopilska oblast', parent_code=None, type='Region')\n",
      "SubdivisionHierarchy(code='UA-63', country_code='UA', name='Kharkivska oblast', parent_code=None, type='Region')\n",
      "SubdivisionHierarchy(code='UA-65', country_code='UA', name='Khersonska oblast', parent_code=None, type='Region')\n",
      "SubdivisionHierarchy(code='UA-68', country_code='UA', name='Khmelnytska oblast', parent_code=None, type='Region')\n",
      "SubdivisionHierarchy(code='UA-71', country_code='UA', name='Cherkaska oblast', parent_code=None, type='Region')\n",
      "SubdivisionHierarchy(code='UA-74', country_code='UA', name='Chernihivska oblast', parent_code=None, type='Region')\n",
      "SubdivisionHierarchy(code='UA-77', country_code='UA', name='Chernivetska oblast', parent_code=None, type='Region')\n",
      "SubdivisionHierarchy(code='ES-PV', country_code='ES', name='Euskal Herria', parent_code=None, type='Autonomous community')\n",
      "Not found   Yugoslavia\n",
      "SubdivisionHierarchy(code='NL-AW', country_code='NL', name='Aruba', parent_code=None, type='Country')\n",
      "Not found   Richmond Country\n",
      "Not found   Framingham\n",
      "SubdivisionHierarchy(code='BZ-BZ', country_code='BZ', name='Belize', parent_code=None, type='District')\n",
      "Not found   United Kindgonm\n",
      "Not found   Universe\n",
      "Not found   ST HELENA\n",
      "SubdivisionHierarchy(code='GB-SCT', country_code='GB', name='Scotland', parent_code=None, type='Country')\n",
      "Not found   Aroostook\n",
      "Not found   Burma\n",
      "Not found   Van Wert\n",
      "Not found   US>\n",
      "Not found   FAR AWAY\n",
      "Not found   K1C7B1\n",
      "Not found   Rutherford\n",
      "SubdivisionHierarchy(code='GB-CMD', country_code='GB', name='Camden', parent='GB-ENG', parent_code='GB-GB-ENG', type='London borough')\n",
      "Not found   USA>\n",
      "Not found   UAE\n",
      "Not found   Petrolwar Nation\n",
      "SubdivisionHierarchy(code='US-AK', country_code='US', name='Alaska', parent_code=None, type='State')\n",
      "SubdivisionHierarchy(code='US-AL', country_code='US', name='Alabama', parent_code=None, type='State')\n",
      "SubdivisionHierarchy(code='US-AR', country_code='US', name='Arkansas', parent_code=None, type='State')\n",
      "SubdivisionHierarchy(code='US-AS', country_code='US', name='American Samoa', parent_code=None, type='Outlying area')\n",
      "SubdivisionHierarchy(code='US-AZ', country_code='US', name='Arizona', parent_code=None, type='State')\n",
      "SubdivisionHierarchy(code='US-CA', country_code='US', name='California', parent_code=None, type='State')\n",
      "SubdivisionHierarchy(code='US-CO', country_code='US', name='Colorado', parent_code=None, type='State')\n",
      "SubdivisionHierarchy(code='US-CT', country_code='US', name='Connecticut', parent_code=None, type='State')\n",
      "SubdivisionHierarchy(code='US-DC', country_code='US', name='District of Columbia', parent_code=None, type='District')\n",
      "SubdivisionHierarchy(code='US-DE', country_code='US', name='Delaware', parent_code=None, type='State')\n",
      "SubdivisionHierarchy(code='US-FL', country_code='US', name='Florida', parent_code=None, type='State')\n",
      "SubdivisionHierarchy(code='US-GA', country_code='US', name='Georgia', parent_code=None, type='State')\n",
      "SubdivisionHierarchy(code='US-GU', country_code='US', name='Guam', parent_code=None, type='Outlying area')\n",
      "SubdivisionHierarchy(code='US-HI', country_code='US', name='Hawaii', parent_code=None, type='State')\n",
      "SubdivisionHierarchy(code='US-IA', country_code='US', name='Iowa', parent_code=None, type='State')\n",
      "SubdivisionHierarchy(code='US-ID', country_code='US', name='Idaho', parent_code=None, type='State')\n",
      "SubdivisionHierarchy(code='US-IL', country_code='US', name='Illinois', parent_code=None, type='State')\n",
      "SubdivisionHierarchy(code='US-IN', country_code='US', name='Indiana', parent_code=None, type='State')\n",
      "SubdivisionHierarchy(code='US-KS', country_code='US', name='Kansas', parent_code=None, type='State')\n",
      "SubdivisionHierarchy(code='US-KY', country_code='US', name='Kentucky', parent_code=None, type='State')\n",
      "SubdivisionHierarchy(code='US-LA', country_code='US', name='Louisiana', parent_code=None, type='State')\n",
      "SubdivisionHierarchy(code='US-MA', country_code='US', name='Massachusetts', parent_code=None, type='State')\n",
      "SubdivisionHierarchy(code='US-MD', country_code='US', name='Maryland', parent_code=None, type='State')\n",
      "SubdivisionHierarchy(code='US-ME', country_code='US', name='Maine', parent_code=None, type='State')\n",
      "SubdivisionHierarchy(code='US-MI', country_code='US', name='Michigan', parent_code=None, type='State')\n",
      "SubdivisionHierarchy(code='US-MN', country_code='US', name='Minnesota', parent_code=None, type='State')\n",
      "SubdivisionHierarchy(code='US-MO', country_code='US', name='Missouri', parent_code=None, type='State')\n",
      "SubdivisionHierarchy(code='US-MP', country_code='US', name='Northern Mariana Islands', parent_code=None, type='Outlying area')\n",
      "SubdivisionHierarchy(code='US-MS', country_code='US', name='Mississippi', parent_code=None, type='State')\n",
      "SubdivisionHierarchy(code='US-MT', country_code='US', name='Montana', parent_code=None, type='State')\n",
      "SubdivisionHierarchy(code='US-NC', country_code='US', name='North Carolina', parent_code=None, type='State')\n",
      "SubdivisionHierarchy(code='US-ND', country_code='US', name='North Dakota', parent_code=None, type='State')\n",
      "SubdivisionHierarchy(code='US-NE', country_code='US', name='Nebraska', parent_code=None, type='State')\n",
      "SubdivisionHierarchy(code='US-NH', country_code='US', name='New Hampshire', parent_code=None, type='State')\n",
      "SubdivisionHierarchy(code='US-NJ', country_code='US', name='New Jersey', parent_code=None, type='State')\n",
      "SubdivisionHierarchy(code='US-NM', country_code='US', name='New Mexico', parent_code=None, type='State')\n",
      "SubdivisionHierarchy(code='US-NV', country_code='US', name='Nevada', parent_code=None, type='State')\n",
      "SubdivisionHierarchy(code='US-NY', country_code='US', name='New York', parent_code=None, type='State')\n",
      "SubdivisionHierarchy(code='US-OH', country_code='US', name='Ohio', parent_code=None, type='State')\n",
      "SubdivisionHierarchy(code='US-OK', country_code='US', name='Oklahoma', parent_code=None, type='State')\n",
      "SubdivisionHierarchy(code='US-OR', country_code='US', name='Oregon', parent_code=None, type='State')\n",
      "SubdivisionHierarchy(code='US-PA', country_code='US', name='Pennsylvania', parent_code=None, type='State')\n",
      "SubdivisionHierarchy(code='US-PR', country_code='US', name='Puerto Rico', parent_code=None, type='Outlying area')\n",
      "SubdivisionHierarchy(code='US-RI', country_code='US', name='Rhode Island', parent_code=None, type='State')\n",
      "SubdivisionHierarchy(code='US-SC', country_code='US', name='South Carolina', parent_code=None, type='State')\n",
      "SubdivisionHierarchy(code='US-SD', country_code='US', name='South Dakota', parent_code=None, type='State')\n",
      "SubdivisionHierarchy(code='US-TN', country_code='US', name='Tennessee', parent_code=None, type='State')\n",
      "SubdivisionHierarchy(code='US-TX', country_code='US', name='Texas', parent_code=None, type='State')\n",
      "SubdivisionHierarchy(code='US-UM', country_code='US', name='United States Minor Outlying Islands', parent_code=None, type='Outlying area')\n",
      "SubdivisionHierarchy(code='US-UT', country_code='US', name='Utah', parent_code=None, type='State')\n",
      "SubdivisionHierarchy(code='US-VA', country_code='US', name='Virginia', parent_code=None, type='State')\n",
      "SubdivisionHierarchy(code='US-VI', country_code='US', name='Virgin Islands, U.S.', parent_code=None, type='Outlying area')\n",
      "SubdivisionHierarchy(code='US-VT', country_code='US', name='Vermont', parent_code=None, type='State')\n",
      "SubdivisionHierarchy(code='US-WA', country_code='US', name='Washington', parent_code=None, type='State')\n",
      "SubdivisionHierarchy(code='US-WI', country_code='US', name='Wisconsin', parent_code=None, type='State')\n",
      "SubdivisionHierarchy(code='US-WV', country_code='US', name='West Virginia', parent_code=None, type='State')\n",
      "SubdivisionHierarchy(code='US-WY', country_code='US', name='Wyoming', parent_code=None, type='State')\n",
      "Not found   Shelby\n",
      "Not found   Catalonia\n",
      "Not found   Caribbean Sea\n",
      "Not found   Cananda\n",
      "Not found   Pender\n",
      "SubdivisionHierarchy(code='PA-8', country_code='PA', name='Panamá', parent_code=None, type='Province')\n",
      "Not found   La France\n",
      "Not found   Phillipines\n",
      "SubdivisionHierarchy(code='US-PR', country_code='US', name='Puerto Rico', parent_code=None, type='Outlying area')\n",
      "SubdivisionHierarchy(code='NG-NI', country_code='NG', name='Niger', parent_code=None, type='State')\n",
      "Not found   Los Estados Unidos De Norte America\n",
      "Not found   Orange Co\n",
      "Not found   Unknown\n",
      "SubdivisionHierarchy(code='NZ-AUK', country_code='NZ', name='Auckland', parent_code=None, type='Region')\n",
      "SubdivisionHierarchy(code='NZ-BOP', country_code='NZ', name='Bay of Plenty', parent_code=None, type='Region')\n",
      "SubdivisionHierarchy(code='NZ-CAN', country_code='NZ', name='Canterbury', parent_code=None, type='Region')\n",
      "SubdivisionHierarchy(code='NZ-CIT', country_code='NZ', name='Chatham Islands Territory', parent_code=None, type='Special island authority')\n",
      "SubdivisionHierarchy(code='NZ-GIS', country_code='NZ', name='Gisborne', parent_code=None, type='Region')\n",
      "SubdivisionHierarchy(code='NZ-HKB', country_code='NZ', name=\"Hawke's Bay\", parent_code=None, type='Region')\n",
      "SubdivisionHierarchy(code='NZ-MBH', country_code='NZ', name='Marlborough', parent_code=None, type='Region')\n",
      "SubdivisionHierarchy(code='NZ-MWT', country_code='NZ', name='Manawatu-Wanganui', parent_code=None, type='Region')\n",
      "SubdivisionHierarchy(code='NZ-NSN', country_code='NZ', name='Nelson', parent_code=None, type='Region')\n",
      "SubdivisionHierarchy(code='NZ-NTL', country_code='NZ', name='Northland', parent_code=None, type='Region')\n",
      "SubdivisionHierarchy(code='NZ-OTA', country_code='NZ', name='Otago', parent_code=None, type='Region')\n",
      "SubdivisionHierarchy(code='NZ-STL', country_code='NZ', name='Southland', parent_code=None, type='Region')\n",
      "SubdivisionHierarchy(code='NZ-TAS', country_code='NZ', name='Tasman', parent_code=None, type='Region')\n",
      "SubdivisionHierarchy(code='NZ-TKI', country_code='NZ', name='Taranaki', parent_code=None, type='Region')\n",
      "SubdivisionHierarchy(code='NZ-WGN', country_code='NZ', name='Wellington', parent_code=None, type='Region')\n",
      "SubdivisionHierarchy(code='NZ-WKO', country_code='NZ', name='Waikato', parent_code=None, type='Region')\n",
      "SubdivisionHierarchy(code='NZ-WTC', country_code='NZ', name='West Coast', parent_code=None, type='Region')\n",
      "Not found   L`Italia\n",
      "Not found   Kern\n",
      "Not found   STTHOMASI\n",
      "Not found   Everywhere And Anywhere\n",
      "Not found   United Staes\n",
      "Not found   Deutschland\n"
     ]
    }
   ],
   "source": [
    "!pip install pycountry\n",
    "import pycountry as pc\n",
    "import pprint\n",
    "matchCountryMap = {}\n",
    "naCountries = {}\n",
    "countries = pd.Series(user[\"User-Country\"].unique())\n",
    "naCount = 0\n",
    "possibleNANames = [\"n/a\", \"na\"]\n",
    "notFoundCountries = []\n",
    "for country in countries:\n",
    "    if not pd.isna(country):\n",
    "        if not country.lower() in possibleNANames:\n",
    "            countryName = str(country)\n",
    "            countryName = countryName.title()\n",
    "            try:\n",
    "                if \".\" in countryName:\n",
    "                    countryName = countryName.replace(\".\",\"\").upper()\n",
    "                matchCountryMap[country] = pc.countries.lookup(countryName)\n",
    "            except LookupError as e:\n",
    "                naCount += 1\n",
    "                try:\n",
    "                    matchCountryMap[country] = pc.countries.search_fuzzy(countryName)[0]\n",
    "                except LookupError as _:\n",
    "                    notFoundCountries.append(countryName)\n",
    "                    print(\"Not found \", countryName)\n",
    "        else:\n",
    "            matchCountryMap[country] = pd.NA\n",
    "\n",
    "manualMatchCountryMap = {\n",
    "    'Alderney': pc.countries.lookup(\"guernsey\"),\n",
    "    'Turkey': pc.countries.lookup(\"TUR\"),\n",
    "    'US OF A': pc.countries.lookup(\"USA\"),\n",
    "    'Tdzimi': pd.NA,\n",
    "    'España': pc.countries.lookup(\"ESP\"),\n",
    "    'Lkjlj': pd.NA,\n",
    "    'N/A - On The Road': pd.NA,\n",
    "    'Yugoslavia': pd.NA,\n",
    "    'Richmond Country': pd.NA,\n",
    "    'Framingham' : pc.countries.lookup(\"USA\"),\n",
    "    'United Kindgonm': pc.countries.lookup(\"GB\"),\n",
    "    'Universe': pd.NA,\n",
    "    'ST HELENA': pc.countries.lookup(\"SH\"),\n",
    "    'Aroostook': pc.countries.lookup(\"US\"),\n",
    "    'Burma': pc.countries.lookup(\"MM\"),\n",
    "    'Van Wert': pc.countries.lookup(\"USA\"),\n",
    "    'Far Away': pd.NA,\n",
    "    'K1C7B1': pd.NA,\n",
    "    'Rutherford': pd.NA,\n",
    "    'UAE': pc.countries.lookup(\"ARE\"),\n",
    "    'Petrolwar Nation': pd.NA,\n",
    "    'Shelby': pd.NA,\n",
    "    'Catalonia': pc.countries.lookup(\"ESP\"),\n",
    "    'Caribbean Sea': pd.NA,\n",
    "    'Cananda': pc.countries.lookup(\"CA\"),\n",
    "    'Pender': pd.NA,\n",
    "    'La France': pc.countries.lookup(\"FR\"),\n",
    "    'Phillipines': pc.countries.lookup(\"PHL\"),\n",
    "    'Los Estados Unidos De Norte America': pc.countries.lookup(\"USA\"),\n",
    "    'Orange Co': pc.countries.lookup(\"USA\"),\n",
    "    'Unknown': pd.NA,\n",
    "    'L`Italia': pc.countries.lookup(\"IT\"),\n",
    "    'Kern': pd.NA,\n",
    "    'STTHOMASI': pd.NA,\n",
    "    'Everywhere And Anywhere': pd.NA,\n",
    "    'United Staes': pc.countries.lookup(\"USA\"),\n",
    "    'Deutschland': pc.countries.lookup(\"DE\"),\n",
    "}\n"
   ]
  },
  {
   "cell_type": "code",
   "execution_count": 7,
   "id": "18667822",
   "metadata": {
    "ExecuteTime": {
     "end_time": "2024-05-09T04:05:32.921597Z",
     "start_time": "2024-05-09T04:05:32.890780Z"
    }
   },
   "outputs": [
    {
     "data": {
      "text/plain": [
       "0               Canada\n",
       "1        United States\n",
       "2        United States\n",
       "3        United States\n",
       "4               others\n",
       "             ...      \n",
       "48294           Canada\n",
       "48295           Canada\n",
       "48296    United States\n",
       "48297        Australia\n",
       "48298    United States\n",
       "Name: User-Country, Length: 48299, dtype: object"
      ]
     },
     "execution_count": 7,
     "metadata": {},
     "output_type": "execute_result"
    }
   ],
   "source": [
    "def matchCountry(name):\n",
    "    if not pd.isna(name):\n",
    "        country = 0\n",
    "        if name in matchCountryMap:\n",
    "            country = matchCountryMap.get(name)\n",
    "        else:\n",
    "            country = manualMatchCountryMap.get(name)\n",
    "        if country is pd.NA or country is None: return \"others\"\n",
    "        return country.name\n",
    "    return \"others\"\n",
    "# \n",
    "user[\"User-Country\"] = user[\"User-Country\"].apply(\n",
    "    lambda name: matchCountry(name)\n",
    ")\n",
    "user[\"User-Country\"]"
   ]
  },
  {
   "cell_type": "code",
   "execution_count": 8,
   "id": "d340191a",
   "metadata": {
    "ExecuteTime": {
     "end_time": "2024-05-09T04:05:32.926065Z",
     "start_time": "2024-05-09T04:05:32.922465Z"
    }
   },
   "outputs": [],
   "source": [
    "user.drop([\"User-City\", \"User-State\"], axis = 1, inplace=True)"
   ]
  },
  {
   "cell_type": "code",
   "execution_count": 9,
   "id": "f2adc5a9",
   "metadata": {
    "ExecuteTime": {
     "end_time": "2024-05-09T04:05:32.931070Z",
     "start_time": "2024-05-09T04:05:32.926791Z"
    }
   },
   "outputs": [],
   "source": [
    "# Remove Age outlier\n",
    "outliers = user[(user[\"User-Age\"] < 5) | (user[\"User-Age\"] >= 100)]\n",
    "user.drop(outliers.index, inplace=True)"
   ]
  },
  {
   "cell_type": "code",
   "execution_count": 10,
   "id": "939aa250",
   "metadata": {
    "ExecuteTime": {
     "end_time": "2024-05-09T04:05:32.936366Z",
     "start_time": "2024-05-09T04:05:32.932829Z"
    }
   },
   "outputs": [
    {
     "data": {
      "text/html": [
       "<div>\n",
       "<style scoped>\n",
       "    .dataframe tbody tr th:only-of-type {\n",
       "        vertical-align: middle;\n",
       "    }\n",
       "\n",
       "    .dataframe tbody tr th {\n",
       "        vertical-align: top;\n",
       "    }\n",
       "\n",
       "    .dataframe thead th {\n",
       "        text-align: right;\n",
       "    }\n",
       "</style>\n",
       "<table border=\"1\" class=\"dataframe\">\n",
       "  <thead>\n",
       "    <tr style=\"text-align: right;\">\n",
       "      <th></th>\n",
       "      <th>User-ID</th>\n",
       "      <th>User-Country</th>\n",
       "      <th>User-Age</th>\n",
       "    </tr>\n",
       "  </thead>\n",
       "  <tbody>\n",
       "    <tr>\n",
       "      <th>0</th>\n",
       "      <td>8</td>\n",
       "      <td>Canada</td>\n",
       "      <td>34</td>\n",
       "    </tr>\n",
       "    <tr>\n",
       "      <th>1</th>\n",
       "      <td>9</td>\n",
       "      <td>United States</td>\n",
       "      <td>34</td>\n",
       "    </tr>\n",
       "    <tr>\n",
       "      <th>2</th>\n",
       "      <td>16</td>\n",
       "      <td>United States</td>\n",
       "      <td>34</td>\n",
       "    </tr>\n",
       "    <tr>\n",
       "      <th>3</th>\n",
       "      <td>17</td>\n",
       "      <td>United States</td>\n",
       "      <td>34</td>\n",
       "    </tr>\n",
       "    <tr>\n",
       "      <th>4</th>\n",
       "      <td>19</td>\n",
       "      <td>others</td>\n",
       "      <td>14</td>\n",
       "    </tr>\n",
       "    <tr>\n",
       "      <th>...</th>\n",
       "      <td>...</td>\n",
       "      <td>...</td>\n",
       "      <td>...</td>\n",
       "    </tr>\n",
       "    <tr>\n",
       "      <th>48294</th>\n",
       "      <td>278846</td>\n",
       "      <td>Canada</td>\n",
       "      <td>23</td>\n",
       "    </tr>\n",
       "    <tr>\n",
       "      <th>48295</th>\n",
       "      <td>278849</td>\n",
       "      <td>Canada</td>\n",
       "      <td>23</td>\n",
       "    </tr>\n",
       "    <tr>\n",
       "      <th>48296</th>\n",
       "      <td>278851</td>\n",
       "      <td>United States</td>\n",
       "      <td>33</td>\n",
       "    </tr>\n",
       "    <tr>\n",
       "      <th>48297</th>\n",
       "      <td>278852</td>\n",
       "      <td>Australia</td>\n",
       "      <td>32</td>\n",
       "    </tr>\n",
       "    <tr>\n",
       "      <th>48298</th>\n",
       "      <td>278854</td>\n",
       "      <td>United States</td>\n",
       "      <td>34</td>\n",
       "    </tr>\n",
       "  </tbody>\n",
       "</table>\n",
       "<p>48115 rows × 3 columns</p>\n",
       "</div>"
      ],
      "text/plain": [
       "       User-ID   User-Country  User-Age\n",
       "0            8         Canada        34\n",
       "1            9  United States        34\n",
       "2           16  United States        34\n",
       "3           17  United States        34\n",
       "4           19         others        14\n",
       "...        ...            ...       ...\n",
       "48294   278846         Canada        23\n",
       "48295   278849         Canada        23\n",
       "48296   278851  United States        33\n",
       "48297   278852      Australia        32\n",
       "48298   278854  United States        34\n",
       "\n",
       "[48115 rows x 3 columns]"
      ]
     },
     "execution_count": 10,
     "metadata": {},
     "output_type": "execute_result"
    }
   ],
   "source": [
    "user"
   ]
  },
  {
   "cell_type": "code",
   "execution_count": 11,
   "id": "78cff234",
   "metadata": {
    "ExecuteTime": {
     "end_time": "2024-05-09T04:05:32.943462Z",
     "start_time": "2024-05-09T04:05:32.937047Z"
    }
   },
   "outputs": [
    {
     "data": {
      "text/html": [
       "<div>\n",
       "<style scoped>\n",
       "    .dataframe tbody tr th:only-of-type {\n",
       "        vertical-align: middle;\n",
       "    }\n",
       "\n",
       "    .dataframe tbody tr th {\n",
       "        vertical-align: top;\n",
       "    }\n",
       "\n",
       "    .dataframe thead th {\n",
       "        text-align: right;\n",
       "    }\n",
       "</style>\n",
       "<table border=\"1\" class=\"dataframe\">\n",
       "  <thead>\n",
       "    <tr style=\"text-align: right;\">\n",
       "      <th></th>\n",
       "      <th>User-ID</th>\n",
       "      <th>User-Age</th>\n",
       "    </tr>\n",
       "  </thead>\n",
       "  <tbody>\n",
       "    <tr>\n",
       "      <th>count</th>\n",
       "      <td>48115.000000</td>\n",
       "      <td>48115.000000</td>\n",
       "    </tr>\n",
       "    <tr>\n",
       "      <th>mean</th>\n",
       "      <td>139551.696893</td>\n",
       "      <td>35.310423</td>\n",
       "    </tr>\n",
       "    <tr>\n",
       "      <th>std</th>\n",
       "      <td>80430.008962</td>\n",
       "      <td>10.676056</td>\n",
       "    </tr>\n",
       "    <tr>\n",
       "      <th>min</th>\n",
       "      <td>8.000000</td>\n",
       "      <td>5.000000</td>\n",
       "    </tr>\n",
       "    <tr>\n",
       "      <th>25%</th>\n",
       "      <td>69164.000000</td>\n",
       "      <td>31.000000</td>\n",
       "    </tr>\n",
       "    <tr>\n",
       "      <th>50%</th>\n",
       "      <td>138849.000000</td>\n",
       "      <td>34.000000</td>\n",
       "    </tr>\n",
       "    <tr>\n",
       "      <th>75%</th>\n",
       "      <td>209416.500000</td>\n",
       "      <td>37.000000</td>\n",
       "    </tr>\n",
       "    <tr>\n",
       "      <th>max</th>\n",
       "      <td>278854.000000</td>\n",
       "      <td>99.000000</td>\n",
       "    </tr>\n",
       "  </tbody>\n",
       "</table>\n",
       "</div>"
      ],
      "text/plain": [
       "             User-ID      User-Age\n",
       "count   48115.000000  48115.000000\n",
       "mean   139551.696893     35.310423\n",
       "std     80430.008962     10.676056\n",
       "min         8.000000      5.000000\n",
       "25%     69164.000000     31.000000\n",
       "50%    138849.000000     34.000000\n",
       "75%    209416.500000     37.000000\n",
       "max    278854.000000     99.000000"
      ]
     },
     "execution_count": 11,
     "metadata": {},
     "output_type": "execute_result"
    }
   ],
   "source": [
    "user.describe()"
   ]
  },
  {
   "cell_type": "code",
   "execution_count": 12,
   "id": "b35df30d",
   "metadata": {
    "ExecuteTime": {
     "end_time": "2024-05-09T04:05:32.980311Z",
     "start_time": "2024-05-09T04:05:32.944029Z"
    }
   },
   "outputs": [],
   "source": [
    "user.to_csv(\"user.csv\")"
   ]
  },
  {
   "cell_type": "code",
   "execution_count": 13,
   "id": "3c04bbaf",
   "metadata": {
    "ExecuteTime": {
     "end_time": "2024-05-09T04:05:32.985470Z",
     "start_time": "2024-05-09T04:05:32.981068Z"
    }
   },
   "outputs": [
    {
     "data": {
      "text/plain": [
       "User-Country\n",
       "United States     34358\n",
       "Canada             4595\n",
       "Germany            1852\n",
       "United Kingdom     1778\n",
       "Australia           974\n",
       "                  ...  \n",
       "Guatemala             1\n",
       "Cuba                  1\n",
       "Albania               1\n",
       "Bahrain               1\n",
       "Ghana                 1\n",
       "Name: count, Length: 125, dtype: int64"
      ]
     },
     "execution_count": 13,
     "metadata": {},
     "output_type": "execute_result"
    }
   ],
   "source": [
    "user[\"User-Country\"].value_counts()"
   ]
  },
  {
   "cell_type": "code",
   "execution_count": 14,
   "id": "e7dd5deb",
   "metadata": {
    "ExecuteTime": {
     "end_time": "2024-05-09T04:05:32.990529Z",
     "start_time": "2024-05-09T04:05:32.986053Z"
    }
   },
   "outputs": [
    {
     "data": {
      "text/html": [
       "<div>\n",
       "<style scoped>\n",
       "    .dataframe tbody tr th:only-of-type {\n",
       "        vertical-align: middle;\n",
       "    }\n",
       "\n",
       "    .dataframe tbody tr th {\n",
       "        vertical-align: top;\n",
       "    }\n",
       "\n",
       "    .dataframe thead th {\n",
       "        text-align: right;\n",
       "    }\n",
       "</style>\n",
       "<table border=\"1\" class=\"dataframe\">\n",
       "  <thead>\n",
       "    <tr style=\"text-align: right;\">\n",
       "      <th></th>\n",
       "      <th>User-ID</th>\n",
       "      <th>ISBN</th>\n",
       "      <th>Book-Rating</th>\n",
       "    </tr>\n",
       "  </thead>\n",
       "  <tbody>\n",
       "    <tr>\n",
       "      <th>0</th>\n",
       "      <td>276744</td>\n",
       "      <td>038550120X</td>\n",
       "      <td>7</td>\n",
       "    </tr>\n",
       "    <tr>\n",
       "      <th>1</th>\n",
       "      <td>276754</td>\n",
       "      <td>0684867621</td>\n",
       "      <td>8</td>\n",
       "    </tr>\n",
       "    <tr>\n",
       "      <th>2</th>\n",
       "      <td>276755</td>\n",
       "      <td>0451166892</td>\n",
       "      <td>5</td>\n",
       "    </tr>\n",
       "    <tr>\n",
       "      <th>3</th>\n",
       "      <td>276762</td>\n",
       "      <td>0380711524</td>\n",
       "      <td>5</td>\n",
       "    </tr>\n",
       "    <tr>\n",
       "      <th>4</th>\n",
       "      <td>276772</td>\n",
       "      <td>0553572369</td>\n",
       "      <td>7</td>\n",
       "    </tr>\n",
       "    <tr>\n",
       "      <th>...</th>\n",
       "      <td>...</td>\n",
       "      <td>...</td>\n",
       "      <td>...</td>\n",
       "    </tr>\n",
       "    <tr>\n",
       "      <th>204159</th>\n",
       "      <td>276688</td>\n",
       "      <td>0892966548</td>\n",
       "      <td>10</td>\n",
       "    </tr>\n",
       "    <tr>\n",
       "      <th>204160</th>\n",
       "      <td>276688</td>\n",
       "      <td>1551669315</td>\n",
       "      <td>6</td>\n",
       "    </tr>\n",
       "    <tr>\n",
       "      <th>204161</th>\n",
       "      <td>276704</td>\n",
       "      <td>0345386108</td>\n",
       "      <td>6</td>\n",
       "    </tr>\n",
       "    <tr>\n",
       "      <th>204162</th>\n",
       "      <td>276704</td>\n",
       "      <td>0743211383</td>\n",
       "      <td>7</td>\n",
       "    </tr>\n",
       "    <tr>\n",
       "      <th>204163</th>\n",
       "      <td>276709</td>\n",
       "      <td>0515107662</td>\n",
       "      <td>10</td>\n",
       "    </tr>\n",
       "  </tbody>\n",
       "</table>\n",
       "<p>204164 rows × 3 columns</p>\n",
       "</div>"
      ],
      "text/plain": [
       "        User-ID        ISBN  Book-Rating\n",
       "0        276744  038550120X            7\n",
       "1        276754  0684867621            8\n",
       "2        276755  0451166892            5\n",
       "3        276762  0380711524            5\n",
       "4        276772  0553572369            7\n",
       "...         ...         ...          ...\n",
       "204159   276688  0892966548           10\n",
       "204160   276688  1551669315            6\n",
       "204161   276704  0345386108            6\n",
       "204162   276704  0743211383            7\n",
       "204163   276709  0515107662           10\n",
       "\n",
       "[204164 rows x 3 columns]"
      ]
     },
     "execution_count": 14,
     "metadata": {},
     "output_type": "execute_result"
    }
   ],
   "source": [
    "rating"
   ]
  },
  {
   "cell_type": "code",
   "execution_count": 15,
   "id": "a8665bb7",
   "metadata": {
    "ExecuteTime": {
     "end_time": "2024-05-09T04:05:33.016298Z",
     "start_time": "2024-05-09T04:05:32.991091Z"
    }
   },
   "outputs": [],
   "source": [
    "# average book rating can resolve new user issue\n",
    "average_ratings = rating.groupby('ISBN')['Book-Rating'].mean().reset_index()\n",
    "# Merge average_ratings with book_df\n",
    "book = pd.merge(book, round(average_ratings), on='ISBN', how='left')"
   ]
  },
  {
   "cell_type": "code",
   "execution_count": 16,
   "id": "b5026eb6",
   "metadata": {
    "ExecuteTime": {
     "end_time": "2024-05-09T04:05:33.018795Z",
     "start_time": "2024-05-09T04:05:33.016894Z"
    }
   },
   "outputs": [],
   "source": [
    "# Return top popular and highest rating books to new user\n",
    "def topBook(numBook):\n",
    "    rating_counts = rating[\"ISBN\"].value_counts().rename(\"Rating-Count\")\n",
    "    book_updated = pd.merge(book, rating_counts, left_on=\"ISBN\", right_index=True, how=\"left\")\n",
    "    book_updated.sort_values(by=[\"Rating-Count\"], ascending=False, inplace=True)\n",
    "    topPopular = book_updated.head(numBook)\n",
    "    return topPopular"
   ]
  },
  {
   "cell_type": "code",
   "execution_count": 17,
   "id": "0f5623b2",
   "metadata": {
    "ExecuteTime": {
     "end_time": "2024-05-09T04:05:33.036860Z",
     "start_time": "2024-05-09T04:05:33.019278Z"
    }
   },
   "outputs": [
    {
     "data": {
      "text/html": [
       "<div>\n",
       "<style scoped>\n",
       "    .dataframe tbody tr th:only-of-type {\n",
       "        vertical-align: middle;\n",
       "    }\n",
       "\n",
       "    .dataframe tbody tr th {\n",
       "        vertical-align: top;\n",
       "    }\n",
       "\n",
       "    .dataframe thead th {\n",
       "        text-align: right;\n",
       "    }\n",
       "</style>\n",
       "<table border=\"1\" class=\"dataframe\">\n",
       "  <thead>\n",
       "    <tr style=\"text-align: right;\">\n",
       "      <th></th>\n",
       "      <th>ISBN</th>\n",
       "      <th>Book-Title</th>\n",
       "      <th>Book-Author</th>\n",
       "      <th>Year-Of-Publication</th>\n",
       "      <th>Book-Publisher</th>\n",
       "      <th>Book-Rating</th>\n",
       "      <th>Rating-Count</th>\n",
       "    </tr>\n",
       "  </thead>\n",
       "  <tbody>\n",
       "    <tr>\n",
       "      <th>223</th>\n",
       "      <td>0316666343</td>\n",
       "      <td>The Lovely Bones: A Novel</td>\n",
       "      <td>Alice Sebold</td>\n",
       "      <td>2002</td>\n",
       "      <td>Little, Brown</td>\n",
       "      <td>8.0</td>\n",
       "      <td>675</td>\n",
       "    </tr>\n",
       "    <tr>\n",
       "      <th>7</th>\n",
       "      <td>0971880107</td>\n",
       "      <td>Wild Animus</td>\n",
       "      <td>Rich Shapero</td>\n",
       "      <td>2004</td>\n",
       "      <td>Too Far</td>\n",
       "      <td>4.0</td>\n",
       "      <td>575</td>\n",
       "    </tr>\n",
       "    <tr>\n",
       "      <th>401</th>\n",
       "      <td>0385504209</td>\n",
       "      <td>The Da Vinci Code</td>\n",
       "      <td>Dan Brown</td>\n",
       "      <td>2003</td>\n",
       "      <td>Doubleday</td>\n",
       "      <td>8.0</td>\n",
       "      <td>479</td>\n",
       "    </tr>\n",
       "    <tr>\n",
       "      <th>276</th>\n",
       "      <td>0312195516</td>\n",
       "      <td>The Red Tent (Bestselling Backlist)</td>\n",
       "      <td>Anita Diamant</td>\n",
       "      <td>1998</td>\n",
       "      <td>Picador USA</td>\n",
       "      <td>8.0</td>\n",
       "      <td>362</td>\n",
       "    </tr>\n",
       "    <tr>\n",
       "      <th>589</th>\n",
       "      <td>0060928336</td>\n",
       "      <td>Divine Secrets of the Ya-Ya Sisterhood: A Novel</td>\n",
       "      <td>Rebecca Wells</td>\n",
       "      <td>1997</td>\n",
       "      <td>Perennial</td>\n",
       "      <td>8.0</td>\n",
       "      <td>312</td>\n",
       "    </tr>\n",
       "    <tr>\n",
       "      <th>1136</th>\n",
       "      <td>059035342X</td>\n",
       "      <td>Harry Potter and the Sorcerer's Stone (Harry P...</td>\n",
       "      <td>J. K. Rowling</td>\n",
       "      <td>1999</td>\n",
       "      <td>Arthur A. Levine Books</td>\n",
       "      <td>9.0</td>\n",
       "      <td>308</td>\n",
       "    </tr>\n",
       "    <tr>\n",
       "      <th>198</th>\n",
       "      <td>0142001740</td>\n",
       "      <td>The Secret Life of Bees</td>\n",
       "      <td>Sue Monk Kidd</td>\n",
       "      <td>2003</td>\n",
       "      <td>Penguin Books</td>\n",
       "      <td>8.0</td>\n",
       "      <td>302</td>\n",
       "    </tr>\n",
       "    <tr>\n",
       "      <th>381</th>\n",
       "      <td>0446672211</td>\n",
       "      <td>Where the Heart Is (Oprah's Book Club (Paperba...</td>\n",
       "      <td>Billie Letts</td>\n",
       "      <td>1998</td>\n",
       "      <td>Warner Books</td>\n",
       "      <td>8.0</td>\n",
       "      <td>281</td>\n",
       "    </tr>\n",
       "    <tr>\n",
       "      <th>172</th>\n",
       "      <td>044023722X</td>\n",
       "      <td>A Painted House</td>\n",
       "      <td>John Grisham</td>\n",
       "      <td>2001</td>\n",
       "      <td>Dell Publishing Company</td>\n",
       "      <td>7.0</td>\n",
       "      <td>274</td>\n",
       "    </tr>\n",
       "    <tr>\n",
       "      <th>127</th>\n",
       "      <td>0452282152</td>\n",
       "      <td>Girl with a Pearl Earring</td>\n",
       "      <td>Tracy Chevalier</td>\n",
       "      <td>2001</td>\n",
       "      <td>Plume Books</td>\n",
       "      <td>8.0</td>\n",
       "      <td>268</td>\n",
       "    </tr>\n",
       "  </tbody>\n",
       "</table>\n",
       "</div>"
      ],
      "text/plain": [
       "            ISBN                                         Book-Title  \\\n",
       "223   0316666343                          The Lovely Bones: A Novel   \n",
       "7     0971880107                                        Wild Animus   \n",
       "401   0385504209                                  The Da Vinci Code   \n",
       "276   0312195516                The Red Tent (Bestselling Backlist)   \n",
       "589   0060928336    Divine Secrets of the Ya-Ya Sisterhood: A Novel   \n",
       "1136  059035342X  Harry Potter and the Sorcerer's Stone (Harry P...   \n",
       "198   0142001740                            The Secret Life of Bees   \n",
       "381   0446672211  Where the Heart Is (Oprah's Book Club (Paperba...   \n",
       "172   044023722X                                    A Painted House   \n",
       "127   0452282152                          Girl with a Pearl Earring   \n",
       "\n",
       "          Book-Author  Year-Of-Publication           Book-Publisher  \\\n",
       "223      Alice Sebold                 2002            Little, Brown   \n",
       "7        Rich Shapero                 2004                  Too Far   \n",
       "401         Dan Brown                 2003                Doubleday   \n",
       "276     Anita Diamant                 1998              Picador USA   \n",
       "589     Rebecca Wells                 1997                Perennial   \n",
       "1136    J. K. Rowling                 1999   Arthur A. Levine Books   \n",
       "198     Sue Monk Kidd                 2003            Penguin Books   \n",
       "381      Billie Letts                 1998             Warner Books   \n",
       "172      John Grisham                 2001  Dell Publishing Company   \n",
       "127   Tracy Chevalier                 2001              Plume Books   \n",
       "\n",
       "      Book-Rating  Rating-Count  \n",
       "223           8.0           675  \n",
       "7             4.0           575  \n",
       "401           8.0           479  \n",
       "276           8.0           362  \n",
       "589           8.0           312  \n",
       "1136          9.0           308  \n",
       "198           8.0           302  \n",
       "381           8.0           281  \n",
       "172           7.0           274  \n",
       "127           8.0           268  "
      ]
     },
     "execution_count": 17,
     "metadata": {},
     "output_type": "execute_result"
    }
   ],
   "source": [
    "topBook(10)"
   ]
  },
  {
   "cell_type": "code",
   "execution_count": 18,
   "id": "dbc1e6e9",
   "metadata": {
    "ExecuteTime": {
     "end_time": "2024-05-09T04:05:33.039232Z",
     "start_time": "2024-05-09T04:05:33.037469Z"
    }
   },
   "outputs": [],
   "source": [
    "def discretize_age_group(age):\n",
    "    if age <= 16:\n",
    "        return \"Child\"\n",
    "    elif 17 <= age <= 30:  \n",
    "        return \"Young Adult\"\n",
    "    elif 31 <= age <= 45:  \n",
    "        return \"Middle-Aged Adult\"\n",
    "    else:\n",
    "        return \"Old-aged Adult\""
   ]
  },
  {
   "cell_type": "code",
   "execution_count": 19,
   "id": "eedb8624",
   "metadata": {
    "ExecuteTime": {
     "end_time": "2024-05-09T04:05:33.047758Z",
     "start_time": "2024-05-09T04:05:33.039708Z"
    }
   },
   "outputs": [],
   "source": [
    "user[\"User-Age\"] = user[\"User-Age\"].apply(lambda age : discretize_age_group(age))"
   ]
  },
  {
   "cell_type": "code",
   "execution_count": 20,
   "id": "96a31ba4",
   "metadata": {
    "ExecuteTime": {
     "end_time": "2024-05-09T04:05:33.051125Z",
     "start_time": "2024-05-09T04:05:33.048474Z"
    }
   },
   "outputs": [],
   "source": [
    "age_group_counts = user[\"User-Age\"].value_counts()"
   ]
  },
  {
   "cell_type": "code",
   "execution_count": 21,
   "id": "7c4552b1",
   "metadata": {
    "ExecuteTime": {
     "end_time": "2024-05-09T04:05:33.634396Z",
     "start_time": "2024-05-09T04:05:33.051744Z"
    }
   },
   "outputs": [
    {
     "data": {
      "image/png": "[encoded data removed]",
      "text/plain": [
       "<Figure size 1000x600 with 1 Axes>"
      ]
     },
     "metadata": {},
     "output_type": "display_data"
    }
   ],
   "source": [
    "import matplotlib.pyplot as plt\n",
    "\n",
    "# number of users from each age group\n",
    "plt.figure(figsize=(10, 6))\n",
    "age_group_counts.plot(kind='bar', color='skyblue')\n",
    "plt.xlabel('Age Group')\n",
    "plt.ylabel('Number of Users')\n",
    "plt.title('Number of Users in Each Age Group')\n",
    "plt.xticks(rotation=45)\n",
    "plt.grid(axis='y', linestyle='--', alpha=0.7) \n",
    "plt.show()"
   ]
  },
  {
   "cell_type": "code",
   "execution_count": 22,
   "id": "68c3e740",
   "metadata": {
    "ExecuteTime": {
     "end_time": "2024-05-09T04:05:33.772052Z",
     "start_time": "2024-05-09T04:05:33.636208Z"
    }
   },
   "outputs": [
    {
     "data": {
      "text/plain": [
       "Text(0.5, 1.0, 'User Countries (Excluding Smaller Countries)')"
      ]
     },
     "execution_count": 22,
     "metadata": {},
     "output_type": "execute_result"
    },
    {
     "data": {
      "image/png": "[encoded data removed]",
      "text/plain": [
       "<Figure size 1700x1000 with 1 Axes>"
      ]
     },
     "metadata": {},
     "output_type": "display_data"
    }
   ],
   "source": [
    "#pip install squarify\n",
    "import squarify\n",
    "country_counts = user['User-Country'].value_counts()\n",
    "large_countries = country_counts[country_counts >= 50]\n",
    "\n",
    "# Create a squarify treemap\n",
    "plt.figure(figsize=(17, 10))\n",
    "squarify.plot(sizes=large_countries, label=large_countries.index, alpha=0.7)\n",
    "plt.axis('off')\n",
    "plt.title('User Countries (Excluding Smaller Countries)')"
   ]
  },
  {
   "cell_type": "code",
   "execution_count": 23,
   "id": "ae533ea1",
   "metadata": {
    "ExecuteTime": {
     "end_time": "2024-05-09T04:05:33.778575Z",
     "start_time": "2024-05-09T04:05:33.772762Z"
    }
   },
   "outputs": [
    {
     "data": {
      "text/html": [
       "<div>\n",
       "<style scoped>\n",
       "    .dataframe tbody tr th:only-of-type {\n",
       "        vertical-align: middle;\n",
       "    }\n",
       "\n",
       "    .dataframe tbody tr th {\n",
       "        vertical-align: top;\n",
       "    }\n",
       "\n",
       "    .dataframe thead th {\n",
       "        text-align: right;\n",
       "    }\n",
       "</style>\n",
       "<table border=\"1\" class=\"dataframe\">\n",
       "  <thead>\n",
       "    <tr style=\"text-align: right;\">\n",
       "      <th></th>\n",
       "      <th>ISBN</th>\n",
       "      <th>Book-Title</th>\n",
       "      <th>Book-Author</th>\n",
       "      <th>Year-Of-Publication</th>\n",
       "      <th>Book-Publisher</th>\n",
       "      <th>Book-Rating</th>\n",
       "    </tr>\n",
       "  </thead>\n",
       "  <tbody>\n",
       "    <tr>\n",
       "      <th>0</th>\n",
       "      <td>0002005018</td>\n",
       "      <td>Clara Callan</td>\n",
       "      <td>Richard Bruce Wright</td>\n",
       "      <td>2001</td>\n",
       "      <td>HarperFlamingo Canada</td>\n",
       "      <td>8.0</td>\n",
       "    </tr>\n",
       "    <tr>\n",
       "      <th>1</th>\n",
       "      <td>0374157065</td>\n",
       "      <td>Flu: The Story of the Great Influenza Pandemic...</td>\n",
       "      <td>Gina Bari Kolata</td>\n",
       "      <td>1999</td>\n",
       "      <td>Farrar Straus Giroux</td>\n",
       "      <td>8.0</td>\n",
       "    </tr>\n",
       "    <tr>\n",
       "      <th>2</th>\n",
       "      <td>0399135782</td>\n",
       "      <td>The Kitchen God's Wife</td>\n",
       "      <td>Amy Tan</td>\n",
       "      <td>1991</td>\n",
       "      <td>Putnam Pub Group</td>\n",
       "      <td>8.0</td>\n",
       "    </tr>\n",
       "    <tr>\n",
       "      <th>3</th>\n",
       "      <td>0440234743</td>\n",
       "      <td>The Testament</td>\n",
       "      <td>John Grisham</td>\n",
       "      <td>1999</td>\n",
       "      <td>Dell</td>\n",
       "      <td>8.0</td>\n",
       "    </tr>\n",
       "    <tr>\n",
       "      <th>4</th>\n",
       "      <td>0452264464</td>\n",
       "      <td>Beloved (Plume Contemporary Fiction)</td>\n",
       "      <td>Toni Morrison</td>\n",
       "      <td>1994</td>\n",
       "      <td>Plume</td>\n",
       "      <td>8.0</td>\n",
       "    </tr>\n",
       "    <tr>\n",
       "      <th>...</th>\n",
       "      <td>...</td>\n",
       "      <td>...</td>\n",
       "      <td>...</td>\n",
       "      <td>...</td>\n",
       "      <td>...</td>\n",
       "      <td>...</td>\n",
       "    </tr>\n",
       "    <tr>\n",
       "      <th>18180</th>\n",
       "      <td>0375411615</td>\n",
       "      <td>Love, Etc.</td>\n",
       "      <td>Julian Barnes</td>\n",
       "      <td>2001</td>\n",
       "      <td>Alfred A. Knopf</td>\n",
       "      <td>6.0</td>\n",
       "    </tr>\n",
       "    <tr>\n",
       "      <th>18181</th>\n",
       "      <td>0836227751</td>\n",
       "      <td>The Wit And Whimsy Of Mary Engelbreit</td>\n",
       "      <td>Mary Engelbreit</td>\n",
       "      <td>1997</td>\n",
       "      <td>Andrews McMeel Publishing</td>\n",
       "      <td>9.0</td>\n",
       "    </tr>\n",
       "    <tr>\n",
       "      <th>18182</th>\n",
       "      <td>8433966634</td>\n",
       "      <td>Los Detectives Salvajes</td>\n",
       "      <td>Roberto Bolano</td>\n",
       "      <td>2003</td>\n",
       "      <td>Anagrama</td>\n",
       "      <td>8.0</td>\n",
       "    </tr>\n",
       "    <tr>\n",
       "      <th>18183</th>\n",
       "      <td>0330353349</td>\n",
       "      <td>The Ice House (TV Tie-In Edition)</td>\n",
       "      <td>Minette Walters</td>\n",
       "      <td>1997</td>\n",
       "      <td>McClelland &amp; Stewart</td>\n",
       "      <td>7.0</td>\n",
       "    </tr>\n",
       "    <tr>\n",
       "      <th>18184</th>\n",
       "      <td>0394757645</td>\n",
       "      <td>Trouble Is My Business (Vintage Crime/Black Li...</td>\n",
       "      <td>Raymond Chandler</td>\n",
       "      <td>1992</td>\n",
       "      <td>Vintage Books USA</td>\n",
       "      <td>8.0</td>\n",
       "    </tr>\n",
       "  </tbody>\n",
       "</table>\n",
       "<p>18185 rows × 6 columns</p>\n",
       "</div>"
      ],
      "text/plain": [
       "             ISBN                                         Book-Title  \\\n",
       "0      0002005018                                       Clara Callan   \n",
       "1      0374157065  Flu: The Story of the Great Influenza Pandemic...   \n",
       "2      0399135782                             The Kitchen God's Wife   \n",
       "3      0440234743                                      The Testament   \n",
       "4      0452264464               Beloved (Plume Contemporary Fiction)   \n",
       "...           ...                                                ...   \n",
       "18180  0375411615                                         Love, Etc.   \n",
       "18181  0836227751              The Wit And Whimsy Of Mary Engelbreit   \n",
       "18182  8433966634                            Los Detectives Salvajes   \n",
       "18183  0330353349                  The Ice House (TV Tie-In Edition)   \n",
       "18184  0394757645  Trouble Is My Business (Vintage Crime/Black Li...   \n",
       "\n",
       "                Book-Author  Year-Of-Publication             Book-Publisher  \\\n",
       "0      Richard Bruce Wright                 2001      HarperFlamingo Canada   \n",
       "1          Gina Bari Kolata                 1999       Farrar Straus Giroux   \n",
       "2                   Amy Tan                 1991           Putnam Pub Group   \n",
       "3              John Grisham                 1999                       Dell   \n",
       "4             Toni Morrison                 1994                      Plume   \n",
       "...                     ...                  ...                        ...   \n",
       "18180         Julian Barnes                 2001            Alfred A. Knopf   \n",
       "18181       Mary Engelbreit                 1997  Andrews McMeel Publishing   \n",
       "18182        Roberto Bolano                 2003                   Anagrama   \n",
       "18183       Minette Walters                 1997       McClelland & Stewart   \n",
       "18184      Raymond Chandler                 1992          Vintage Books USA   \n",
       "\n",
       "       Book-Rating  \n",
       "0              8.0  \n",
       "1              8.0  \n",
       "2              8.0  \n",
       "3              8.0  \n",
       "4              8.0  \n",
       "...            ...  \n",
       "18180          6.0  \n",
       "18181          9.0  \n",
       "18182          8.0  \n",
       "18183          7.0  \n",
       "18184          8.0  \n",
       "\n",
       "[18185 rows x 6 columns]"
      ]
     },
     "execution_count": 23,
     "metadata": {},
     "output_type": "execute_result"
    }
   ],
   "source": [
    "book"
   ]
  },
  {
   "cell_type": "code",
   "execution_count": 24,
   "id": "146eabef",
   "metadata": {
    "ExecuteTime": {
     "end_time": "2024-05-09T04:05:33.793270Z",
     "start_time": "2024-05-09T04:05:33.779310Z"
    }
   },
   "outputs": [],
   "source": [
    "rating_counts = rating[\"ISBN\"].value_counts().rename(\"Rating-Count\")\n",
    "book = pd.merge(book, rating_counts, left_on=\"ISBN\", right_index=True, how=\"left\")"
   ]
  },
  {
   "cell_type": "code",
   "execution_count": 25,
   "id": "8c5fd66b",
   "metadata": {
    "ExecuteTime": {
     "end_time": "2024-05-09T04:05:33.870285Z",
     "start_time": "2024-05-09T04:05:33.794382Z"
    }
   },
   "outputs": [
    {
     "data": {
      "text/plain": [
       "Text(0.5, 1.0, 'Average Rating of Books for Top 10 most popular Authors')"
      ]
     },
     "execution_count": 25,
     "metadata": {},
     "output_type": "execute_result"
    },
    {
     "data": {
      "image/png": "[encoded data removed]",
      "text/plain": [
       "<Figure size 1000x600 with 1 Axes>"
      ]
     },
     "metadata": {},
     "output_type": "display_data"
    }
   ],
   "source": [
    "author_stats = book.groupby('Book-Author').agg({'Book-Rating': 'mean', 'Rating-Count': 'sum'}).reset_index()\n",
    "author_stats.sort_values(by=['Rating-Count', 'Book-Rating'], ascending=[False, False], inplace=True)\n",
    "top_10_authors = author_stats.head(10)\n",
    "\n",
    "plt.figure(figsize=(10, 6))\n",
    "plt.barh(top_10_authors[\"Book-Author\"], top_10_authors[\"Book-Rating\"], color='skyblue')\n",
    "plt.xlabel(\"Average Rating\") \n",
    "plt.ylabel(\"Author\")  \n",
    "plt.title(\"Average Rating of Books for Top 10 most popular Authors\")"
   ]
  },
  {
   "cell_type": "code",
   "execution_count": 26,
   "id": "783c04fe",
   "metadata": {
    "ExecuteTime": {
     "end_time": "2024-05-09T04:05:33.950598Z",
     "start_time": "2024-05-09T04:05:33.871118Z"
    }
   },
   "outputs": [
    {
     "data": {
      "text/plain": [
       "Text(0.5, 1.0, 'Rating count of Books for Top 10 Authors')"
      ]
     },
     "execution_count": 26,
     "metadata": {},
     "output_type": "execute_result"
    },
    {
     "data": {
      "image/png": "[encoded data removed]",
      "text/plain": [
       "<Figure size 1000x600 with 1 Axes>"
      ]
     },
     "metadata": {},
     "output_type": "display_data"
    }
   ],
   "source": [
    "plt.figure(figsize=(10, 6))\n",
    "plt.barh(top_10_authors[\"Book-Author\"], top_10_authors[\"Rating-Count\"], color='skyblue')\n",
    "plt.xlabel(\"Rating Count\") \n",
    "plt.ylabel(\"Author\")  \n",
    "plt.title(\"Rating count of Books for Top 10 Authors\")"
   ]
  },
  {
   "cell_type": "code",
   "execution_count": 27,
   "id": "8e892ff1",
   "metadata": {
    "ExecuteTime": {
     "end_time": "2024-05-09T04:05:34.018456Z",
     "start_time": "2024-05-09T04:05:33.951897Z"
    }
   },
   "outputs": [
    {
     "data": {
      "text/plain": [
       "Text(0.5, 1.0, 'Count of Each Book Rating')"
      ]
     },
     "execution_count": 27,
     "metadata": {},
     "output_type": "execute_result"
    },
    {
     "data": {
      "image/png": "[encoded data removed]",
      "text/plain": [
       "<Figure size 640x480 with 1 Axes>"
      ]
     },
     "metadata": {},
     "output_type": "display_data"
    }
   ],
   "source": [
    "import matplotlib.pyplot as plt\n",
    "rating_counts = rating[\"Book-Rating\"].value_counts()\n",
    "rating_counts = rating_counts.sort_index()\n",
    "plt.barh(rating_counts.index, rating_counts)\n",
    "\n",
    "plt.yticks(range(0,11))\n",
    "plt.xlabel('Count')\n",
    "plt.ylabel('Book Rating')\n",
    "plt.title('Count of Each Book Rating')"
   ]
  },
  {
   "cell_type": "code",
   "execution_count": 28,
   "id": "f27c7b00",
   "metadata": {
    "ExecuteTime": {
     "end_time": "2024-05-09T04:05:34.028512Z",
     "start_time": "2024-05-09T04:05:34.023948Z"
    }
   },
   "outputs": [
    {
     "data": {
      "text/html": [
       "<div>\n",
       "<style scoped>\n",
       "    .dataframe tbody tr th:only-of-type {\n",
       "        vertical-align: middle;\n",
       "    }\n",
       "\n",
       "    .dataframe tbody tr th {\n",
       "        vertical-align: top;\n",
       "    }\n",
       "\n",
       "    .dataframe thead th {\n",
       "        text-align: right;\n",
       "    }\n",
       "</style>\n",
       "<table border=\"1\" class=\"dataframe\">\n",
       "  <thead>\n",
       "    <tr style=\"text-align: right;\">\n",
       "      <th></th>\n",
       "      <th>User-ID</th>\n",
       "      <th>ISBN</th>\n",
       "      <th>Book-Rating</th>\n",
       "    </tr>\n",
       "  </thead>\n",
       "  <tbody>\n",
       "    <tr>\n",
       "      <th>0</th>\n",
       "      <td>276744</td>\n",
       "      <td>038550120X</td>\n",
       "      <td>7</td>\n",
       "    </tr>\n",
       "    <tr>\n",
       "      <th>1</th>\n",
       "      <td>276754</td>\n",
       "      <td>0684867621</td>\n",
       "      <td>8</td>\n",
       "    </tr>\n",
       "    <tr>\n",
       "      <th>2</th>\n",
       "      <td>276755</td>\n",
       "      <td>0451166892</td>\n",
       "      <td>5</td>\n",
       "    </tr>\n",
       "    <tr>\n",
       "      <th>3</th>\n",
       "      <td>276762</td>\n",
       "      <td>0380711524</td>\n",
       "      <td>5</td>\n",
       "    </tr>\n",
       "    <tr>\n",
       "      <th>4</th>\n",
       "      <td>276772</td>\n",
       "      <td>0553572369</td>\n",
       "      <td>7</td>\n",
       "    </tr>\n",
       "    <tr>\n",
       "      <th>...</th>\n",
       "      <td>...</td>\n",
       "      <td>...</td>\n",
       "      <td>...</td>\n",
       "    </tr>\n",
       "    <tr>\n",
       "      <th>204159</th>\n",
       "      <td>276688</td>\n",
       "      <td>0892966548</td>\n",
       "      <td>10</td>\n",
       "    </tr>\n",
       "    <tr>\n",
       "      <th>204160</th>\n",
       "      <td>276688</td>\n",
       "      <td>1551669315</td>\n",
       "      <td>6</td>\n",
       "    </tr>\n",
       "    <tr>\n",
       "      <th>204161</th>\n",
       "      <td>276704</td>\n",
       "      <td>0345386108</td>\n",
       "      <td>6</td>\n",
       "    </tr>\n",
       "    <tr>\n",
       "      <th>204162</th>\n",
       "      <td>276704</td>\n",
       "      <td>0743211383</td>\n",
       "      <td>7</td>\n",
       "    </tr>\n",
       "    <tr>\n",
       "      <th>204163</th>\n",
       "      <td>276709</td>\n",
       "      <td>0515107662</td>\n",
       "      <td>10</td>\n",
       "    </tr>\n",
       "  </tbody>\n",
       "</table>\n",
       "<p>204164 rows × 3 columns</p>\n",
       "</div>"
      ],
      "text/plain": [
       "        User-ID        ISBN  Book-Rating\n",
       "0        276744  038550120X            7\n",
       "1        276754  0684867621            8\n",
       "2        276755  0451166892            5\n",
       "3        276762  0380711524            5\n",
       "4        276772  0553572369            7\n",
       "...         ...         ...          ...\n",
       "204159   276688  0892966548           10\n",
       "204160   276688  1551669315            6\n",
       "204161   276704  0345386108            6\n",
       "204162   276704  0743211383            7\n",
       "204163   276709  0515107662           10\n",
       "\n",
       "[204164 rows x 3 columns]"
      ]
     },
     "execution_count": 28,
     "metadata": {},
     "output_type": "execute_result"
    }
   ],
   "source": [
    "rating"
   ]
  },
  {
   "cell_type": "code",
   "execution_count": 29,
   "id": "73d29fbb",
   "metadata": {
    "ExecuteTime": {
     "end_time": "2024-05-09T04:05:38.546487Z",
     "start_time": "2024-05-09T04:05:34.029840Z"
    }
   },
   "outputs": [
    {
     "name": "stderr",
     "output_type": "stream",
     "text": [
      "[nltk_data] Downloading package stopwords to\n",
      "[nltk_data]     /Users/ducbui/nltk_data...\n",
      "[nltk_data]   Package stopwords is already up-to-date!\n",
      "[nltk_data] Downloading package punkt to /Users/ducbui/nltk_data...\n",
      "[nltk_data]   Package punkt is already up-to-date!\n",
      "[nltk_data] Downloading package wordnet to /Users/ducbui/nltk_data...\n",
      "[nltk_data]   Package wordnet is already up-to-date!\n"
     ]
    }
   ],
   "source": [
    "import nltk\n",
    "from nltk.corpus import stopwords\n",
    "from nltk.tokenize import word_tokenize\n",
    "from nltk.stem import WordNetLemmatizer\n",
    "import re\n",
    "\n",
    "nltk.download('stopwords')\n",
    "nltk.download('punkt')\n",
    "nltk.download('wordnet')\n",
    "\n",
    "lemmatizer = WordNetLemmatizer()\n",
    "\n",
    "def preprocess_text(text):\n",
    "    # casefolding\n",
    "    text = str(text).lower()\n",
    "    # remove all non-alphabetic character\n",
    "    letters_only = re.sub(r'[^a-zA-Z]', ' ', text)\n",
    "    # tokenization\n",
    "    tokens = word_tokenize(letters_only)\n",
    "    # remove stopwords\n",
    "    stop_words = set(stopwords.words('english'))\n",
    "    # Lemmatization\n",
    "    tokens = [lemmatizer.lemmatize(word) for word in tokens if word not in stop_words]\n",
    "    text = ' '.join(tokens)\n",
    "    return text\n",
    "\n",
    "# Assuming \"books\" is a DataFrame and \"Book-Title\" is one of its columns\n",
    "book[\"Book-Title\"] = book[\"Book-Title\"].apply(preprocess_text)"
   ]
  },
  {
   "cell_type": "code",
   "execution_count": 30,
   "id": "2cdae33d",
   "metadata": {
    "ExecuteTime": {
     "end_time": "2024-05-09T04:05:39.708216Z",
     "start_time": "2024-05-09T04:05:38.547177Z"
    }
   },
   "outputs": [],
   "source": [
    "book[\"Book-Author\"] = book[\"Book-Author\"].apply(preprocess_text)"
   ]
  },
  {
   "cell_type": "code",
   "execution_count": 31,
   "id": "e5c1cdc2",
   "metadata": {
    "ExecuteTime": {
     "end_time": "2024-05-09T04:05:39.715161Z",
     "start_time": "2024-05-09T04:05:39.709102Z"
    }
   },
   "outputs": [],
   "source": [
    "def filter_ratings_by_user(users_df, ratings_df):\n",
    "    user_ids = users_df[\"User-ID\"]\n",
    "    filtered_ratings_df = ratings_df[ratings_df['User-ID'].isin(user_ids)]\n",
    "    return filtered_ratings_df\n",
    "rating = filter_ratings_by_user(user, rating)"
   ]
  },
  {
   "cell_type": "code",
   "execution_count": 32,
   "id": "d26f479f",
   "metadata": {
    "ExecuteTime": {
     "end_time": "2024-05-09T04:05:39.719743Z",
     "start_time": "2024-05-09T04:05:39.715937Z"
    }
   },
   "outputs": [
    {
     "data": {
      "text/html": [
       "<div>\n",
       "<style scoped>\n",
       "    .dataframe tbody tr th:only-of-type {\n",
       "        vertical-align: middle;\n",
       "    }\n",
       "\n",
       "    .dataframe tbody tr th {\n",
       "        vertical-align: top;\n",
       "    }\n",
       "\n",
       "    .dataframe thead th {\n",
       "        text-align: right;\n",
       "    }\n",
       "</style>\n",
       "<table border=\"1\" class=\"dataframe\">\n",
       "  <thead>\n",
       "    <tr style=\"text-align: right;\">\n",
       "      <th></th>\n",
       "      <th>User-ID</th>\n",
       "      <th>ISBN</th>\n",
       "      <th>Book-Rating</th>\n",
       "    </tr>\n",
       "  </thead>\n",
       "  <tbody>\n",
       "    <tr>\n",
       "      <th>0</th>\n",
       "      <td>276744</td>\n",
       "      <td>038550120X</td>\n",
       "      <td>7</td>\n",
       "    </tr>\n",
       "    <tr>\n",
       "      <th>1</th>\n",
       "      <td>276754</td>\n",
       "      <td>0684867621</td>\n",
       "      <td>8</td>\n",
       "    </tr>\n",
       "    <tr>\n",
       "      <th>2</th>\n",
       "      <td>276755</td>\n",
       "      <td>0451166892</td>\n",
       "      <td>5</td>\n",
       "    </tr>\n",
       "    <tr>\n",
       "      <th>3</th>\n",
       "      <td>276762</td>\n",
       "      <td>0380711524</td>\n",
       "      <td>5</td>\n",
       "    </tr>\n",
       "    <tr>\n",
       "      <th>4</th>\n",
       "      <td>276772</td>\n",
       "      <td>0553572369</td>\n",
       "      <td>7</td>\n",
       "    </tr>\n",
       "    <tr>\n",
       "      <th>...</th>\n",
       "      <td>...</td>\n",
       "      <td>...</td>\n",
       "      <td>...</td>\n",
       "    </tr>\n",
       "    <tr>\n",
       "      <th>204159</th>\n",
       "      <td>276688</td>\n",
       "      <td>0892966548</td>\n",
       "      <td>10</td>\n",
       "    </tr>\n",
       "    <tr>\n",
       "      <th>204160</th>\n",
       "      <td>276688</td>\n",
       "      <td>1551669315</td>\n",
       "      <td>6</td>\n",
       "    </tr>\n",
       "    <tr>\n",
       "      <th>204161</th>\n",
       "      <td>276704</td>\n",
       "      <td>0345386108</td>\n",
       "      <td>6</td>\n",
       "    </tr>\n",
       "    <tr>\n",
       "      <th>204162</th>\n",
       "      <td>276704</td>\n",
       "      <td>0743211383</td>\n",
       "      <td>7</td>\n",
       "    </tr>\n",
       "    <tr>\n",
       "      <th>204163</th>\n",
       "      <td>276709</td>\n",
       "      <td>0515107662</td>\n",
       "      <td>10</td>\n",
       "    </tr>\n",
       "  </tbody>\n",
       "</table>\n",
       "<p>203319 rows × 3 columns</p>\n",
       "</div>"
      ],
      "text/plain": [
       "        User-ID        ISBN  Book-Rating\n",
       "0        276744  038550120X            7\n",
       "1        276754  0684867621            8\n",
       "2        276755  0451166892            5\n",
       "3        276762  0380711524            5\n",
       "4        276772  0553572369            7\n",
       "...         ...         ...          ...\n",
       "204159   276688  0892966548           10\n",
       "204160   276688  1551669315            6\n",
       "204161   276704  0345386108            6\n",
       "204162   276704  0743211383            7\n",
       "204163   276709  0515107662           10\n",
       "\n",
       "[203319 rows x 3 columns]"
      ]
     },
     "execution_count": 32,
     "metadata": {},
     "output_type": "execute_result"
    }
   ],
   "source": [
    "rating"
   ]
  },
  {
   "cell_type": "code",
   "execution_count": 48,
   "id": "c4fb34a5",
   "metadata": {
    "ExecuteTime": {
     "end_time": "2024-05-09T04:05:39.796258Z",
     "start_time": "2024-05-09T04:05:39.720257Z"
    }
   },
   "outputs": [
    {
     "name": "stderr",
     "output_type": "stream",
     "text": [
      "/var/folders/hd/w17hkvkj0qvg0bg97xgk48440000gn/T/ipykernel_71884/4128853176.py:3: SettingWithCopyWarning: \n",
      "A value is trying to be set on a copy of a slice from a DataFrame.\n",
      "Try using .loc[row_indexer,col_indexer] = value instead\n",
      "\n",
      "See the caveats in the documentation: https://pandas.pydata.org/pandas-docs/stable/user_guide/indexing.html#returning-a-view-versus-a-copy\n",
      "  rating['book_id'] = rating['ISBN'].map(isbn_to_index)\n",
      "/var/folders/hd/w17hkvkj0qvg0bg97xgk48440000gn/T/ipykernel_71884/4128853176.py:4: SettingWithCopyWarning: \n",
      "A value is trying to be set on a copy of a slice from a DataFrame.\n",
      "Try using .loc[row_indexer,col_indexer] = value instead\n",
      "\n",
      "See the caveats in the documentation: https://pandas.pydata.org/pandas-docs/stable/user_guide/indexing.html#returning-a-view-versus-a-copy\n",
      "  rating['user_id'] = rating['User-ID'].map(userId_to_index)\n"
     ]
    }
   ],
   "source": [
    "isbn_to_index = {isbn: idx for idx, isbn in enumerate(rating['ISBN'].unique())}\n",
    "userId_to_index = {userId: idx for idx, userId in enumerate(rating['User-ID'].unique())}\n",
    "rating['book_id'] = rating['ISBN'].map(isbn_to_index)\n",
    "rating['user_id'] = rating['User-ID'].map(userId_to_index)"
   ]
  },
  {
   "cell_type": "code",
   "execution_count": 58,
   "id": "ccbc5108",
   "metadata": {
    "ExecuteTime": {
     "end_time": "2024-05-09T04:05:39.800966Z",
     "start_time": "2024-05-09T04:05:39.797766Z"
    }
   },
   "outputs": [
    {
     "ename": "ImportError",
     "evalue": "cannot import name 'build_full_trainset' from 'surprise' (/opt/anaconda3/lib/python3.11/site-packages/surprise/__init__.py)",
     "output_type": "error",
     "traceback": [
      "\u001b[0;31m---------------------------------------------------------------------------\u001b[0m",
      "\u001b[0;31mImportError\u001b[0m                               Traceback (most recent call last)",
      "Cell \u001b[0;32mIn[58], line 6\u001b[0m\n\u001b[1;32m      4\u001b[0m \u001b[38;5;28;01mfrom\u001b[39;00m \u001b[38;5;21;01msurprise\u001b[39;00m \u001b[38;5;28;01mimport\u001b[39;00m Dataset\n\u001b[1;32m      5\u001b[0m \u001b[38;5;28;01mfrom\u001b[39;00m \u001b[38;5;21;01msurprise\u001b[39;00m \u001b[38;5;28;01mimport\u001b[39;00m Reader\n\u001b[0;32m----> 6\u001b[0m \u001b[38;5;28;01mfrom\u001b[39;00m \u001b[38;5;21;01msurprise\u001b[39;00m \u001b[38;5;28;01mimport\u001b[39;00m build_full_trainset\n\u001b[1;32m      7\u001b[0m \u001b[38;5;28;01mfrom\u001b[39;00m \u001b[38;5;21;01msurprise\u001b[39;00m\u001b[38;5;21;01m.\u001b[39;00m\u001b[38;5;21;01mmodel_selection\u001b[39;00m \u001b[38;5;28;01mimport\u001b[39;00m cross_validate\n",
      "\u001b[0;31mImportError\u001b[0m: cannot import name 'build_full_trainset' from 'surprise' (/opt/anaconda3/lib/python3.11/site-packages/surprise/__init__.py)"
     ]
    }
   ],
   "source": [
    "from surprise.model_selection import train_test_split\n",
    "from surprise import SVD\n",
    "from surprise import accuracy\n",
    "from surprise import Dataset\n",
    "from surprise import Reader\n",
    "# from surprise import build_full_trainset\n",
    "from surprise.model_selection import cross_validate"
   ]
  },
  {
   "cell_type": "code",
   "execution_count": null,
   "id": "f31e7bae",
   "metadata": {},
   "outputs": [],
   "source": []
  },
  {
   "cell_type": "code",
   "execution_count": 62,
   "id": "3d9d1bb3",
   "metadata": {},
   "outputs": [
    {
     "data": {
      "text/html": [
       "<div>\n",
       "<style scoped>\n",
       "    .dataframe tbody tr th:only-of-type {\n",
       "        vertical-align: middle;\n",
       "    }\n",
       "\n",
       "    .dataframe tbody tr th {\n",
       "        vertical-align: top;\n",
       "    }\n",
       "\n",
       "    .dataframe thead th {\n",
       "        text-align: right;\n",
       "    }\n",
       "</style>\n",
       "<table border=\"1\" class=\"dataframe\">\n",
       "  <thead>\n",
       "    <tr style=\"text-align: right;\">\n",
       "      <th></th>\n",
       "      <th>User-ID</th>\n",
       "      <th>ISBN</th>\n",
       "      <th>Book-Rating</th>\n",
       "      <th>book_id</th>\n",
       "      <th>user_id</th>\n",
       "    </tr>\n",
       "  </thead>\n",
       "  <tbody>\n",
       "    <tr>\n",
       "      <th>0</th>\n",
       "      <td>276762</td>\n",
       "      <td>3453092007</td>\n",
       "      <td>8</td>\n",
       "      <td>NaN</td>\n",
       "      <td>3.0</td>\n",
       "    </tr>\n",
       "    <tr>\n",
       "      <th>1</th>\n",
       "      <td>276774</td>\n",
       "      <td>3442136644</td>\n",
       "      <td>9</td>\n",
       "      <td>NaN</td>\n",
       "      <td>NaN</td>\n",
       "    </tr>\n",
       "    <tr>\n",
       "      <th>2</th>\n",
       "      <td>276786</td>\n",
       "      <td>8478442588</td>\n",
       "      <td>6</td>\n",
       "      <td>NaN</td>\n",
       "      <td>NaN</td>\n",
       "    </tr>\n",
       "    <tr>\n",
       "      <th>3</th>\n",
       "      <td>276798</td>\n",
       "      <td>0006379702</td>\n",
       "      <td>5</td>\n",
       "      <td>NaN</td>\n",
       "      <td>7.0</td>\n",
       "    </tr>\n",
       "    <tr>\n",
       "      <th>4</th>\n",
       "      <td>276813</td>\n",
       "      <td>8423996565</td>\n",
       "      <td>8</td>\n",
       "      <td>NaN</td>\n",
       "      <td>10.0</td>\n",
       "    </tr>\n",
       "    <tr>\n",
       "      <th>...</th>\n",
       "      <td>...</td>\n",
       "      <td>...</td>\n",
       "      <td>...</td>\n",
       "      <td>...</td>\n",
       "      <td>...</td>\n",
       "    </tr>\n",
       "    <tr>\n",
       "      <th>26767</th>\n",
       "      <td>276680</td>\n",
       "      <td>0449911217</td>\n",
       "      <td>9</td>\n",
       "      <td>NaN</td>\n",
       "      <td>48108.0</td>\n",
       "    </tr>\n",
       "    <tr>\n",
       "      <th>26768</th>\n",
       "      <td>276680</td>\n",
       "      <td>0679419853</td>\n",
       "      <td>9</td>\n",
       "      <td>NaN</td>\n",
       "      <td>48108.0</td>\n",
       "    </tr>\n",
       "    <tr>\n",
       "      <th>26769</th>\n",
       "      <td>276680</td>\n",
       "      <td>068486892X</td>\n",
       "      <td>6</td>\n",
       "      <td>NaN</td>\n",
       "      <td>48108.0</td>\n",
       "    </tr>\n",
       "    <tr>\n",
       "      <th>26770</th>\n",
       "      <td>276680</td>\n",
       "      <td>1888173564</td>\n",
       "      <td>8</td>\n",
       "      <td>NaN</td>\n",
       "      <td>48108.0</td>\n",
       "    </tr>\n",
       "    <tr>\n",
       "      <th>26771</th>\n",
       "      <td>276704</td>\n",
       "      <td>1563526298</td>\n",
       "      <td>9</td>\n",
       "      <td>NaN</td>\n",
       "      <td>48113.0</td>\n",
       "    </tr>\n",
       "  </tbody>\n",
       "</table>\n",
       "<p>26772 rows × 5 columns</p>\n",
       "</div>"
      ],
      "text/plain": [
       "       User-ID        ISBN  Book-Rating  book_id  user_id\n",
       "0       276762  3453092007            8      NaN      3.0\n",
       "1       276774  3442136644            9      NaN      NaN\n",
       "2       276786  8478442588            6      NaN      NaN\n",
       "3       276798  0006379702            5      NaN      7.0\n",
       "4       276813  8423996565            8      NaN     10.0\n",
       "...        ...         ...          ...      ...      ...\n",
       "26767   276680  0449911217            9      NaN  48108.0\n",
       "26768   276680  0679419853            9      NaN  48108.0\n",
       "26769   276680  068486892X            6      NaN  48108.0\n",
       "26770   276680  1888173564            8      NaN  48108.0\n",
       "26771   276704  1563526298            9      NaN  48113.0\n",
       "\n",
       "[26772 rows x 5 columns]"
      ]
     },
     "execution_count": 62,
     "metadata": {},
     "output_type": "execute_result"
    }
   ],
   "source": [
    "new_rating = pd.read_csv(\"BX-NewBooksRatings.csv\")\n",
    "new_user = pd.read_csv(\"BX-NewBooksUsers.csv\")\n",
    "new_book = pd.read_csv(\"BX-NewBooks.csv\")\n",
    "\n",
    "new_rating['book_id'] = new_rating['ISBN'].map(isbn_to_index)\n",
    "new_rating['user_id'] = new_rating['User-ID'].map(userId_to_index)\n",
    "new_rating"
   ]
  },
  {
   "cell_type": "code",
   "execution_count": 63,
   "id": "e721a3ee",
   "metadata": {
    "ExecuteTime": {
     "end_time": "2024-05-09T04:05:50.685566Z",
     "start_time": "2024-05-09T04:05:39.802578Z"
    }
   },
   "outputs": [
    {
     "name": "stdout",
     "output_type": "stream",
     "text": [
      "Evaluating RMSE, MAE of algorithm SVD on 5 split(s).\n",
      "\n",
      "                  Fold 1  Fold 2  Fold 3  Fold 4  Fold 5  Mean    Std     \n",
      "RMSE (testset)    1.6122  1.6113  1.6141  1.6197  1.6165  1.6148  0.0030  \n",
      "MAE (testset)     1.2434  1.2436  1.2477  1.2524  1.2511  1.2476  0.0037  \n",
      "Fit time          1.61    1.53    1.59    1.53    1.57    1.57    0.03    \n",
      "Test time         0.09    0.09    0.09    0.10    0.09    0.09    0.00    \n",
      "RMSE: 1.6173\n",
      "MAE:  1.2490\n"
     ]
    },
    {
     "data": {
      "text/plain": [
       "1.2489738118653062"
      ]
     },
     "execution_count": 63,
     "metadata": {},
     "output_type": "execute_result"
    }
   ],
   "source": [
    "rating_df = rating[[\"book_id\", \"user_id\", \"Book-Rating\"]]\n",
    "new_rating_df = new_rating[[\"book_id\", \"user_id\", \"Book-Rating\"]]\n",
    "reader = Reader(rating_scale=(1, 10))\n",
    "data = Dataset.load_from_df(rating_df, reader)\n",
    "test_data = Dataset.load_from_df(new_rating_df, reader)\n",
    "\n",
    "algo = SVD() \n",
    "cross_validate(algo, data, measures=['RMSE', 'MAE'], cv=5, verbose=True)\n",
    "\n",
    "trainset, testset = train_test_split(data, test_size=0.2, random_state=42)\n",
    "# trainset, testset = data.build_full_trainset(), test_data.build_full_trainset()\n",
    "algo.fit(trainset)\n",
    "predictions = algo.test(testset)\n",
    "accuracy.rmse(predictions)\n",
    "accuracy.mae(predictions)"
   ]
  },
  {
   "cell_type": "code",
   "execution_count": 36,
   "id": "73648486",
   "metadata": {
    "ExecuteTime": {
     "end_time": "2024-05-09T04:05:50.701403Z",
     "start_time": "2024-05-09T04:05:50.686207Z"
    }
   },
   "outputs": [
    {
     "name": "stderr",
     "output_type": "stream",
     "text": [
      "/var/folders/hd/w17hkvkj0qvg0bg97xgk48440000gn/T/ipykernel_71884/719173201.py:2: SettingWithCopyWarning: \n",
      "A value is trying to be set on a copy of a slice from a DataFrame.\n",
      "Try using .loc[row_indexer,col_indexer] = value instead\n",
      "\n",
      "See the caveats in the documentation: https://pandas.pydata.org/pandas-docs/stable/user_guide/indexing.html#returning-a-view-versus-a-copy\n",
      "  rating['Book-Title'] = rating['ISBN'].map(isbn_to_title)\n"
     ]
    }
   ],
   "source": [
    "isbn_to_title = dict(zip(book['ISBN'], book['Book-Title']))\n",
    "rating['Book-Title'] = rating['ISBN'].map(isbn_to_title)"
   ]
  },
  {
   "cell_type": "code",
   "execution_count": 39,
   "id": "d72cc576",
   "metadata": {
    "ExecuteTime": {
     "end_time": "2024-05-09T04:05:50.704785Z",
     "start_time": "2024-05-09T04:05:50.702087Z"
    }
   },
   "outputs": [],
   "source": [
    "def recommend_book(user_id, k=10):\n",
    "    recommendations = []\n",
    "    all_books = rating['book_id'].unique()\n",
    "    for book_id in all_books:\n",
    "        if rating[(rating['user_id'] == user_id) & (rating['book_id'] == book_id)].empty:\n",
    "            prediction = algo.predict(user_id, book_id)\n",
    "            recommendations.append((book_id, prediction.est))\n",
    "    recommendations.sort(key=lambda x: x[1], reverse=True)\n",
    "    top_k_recommendations = recommendations[:k]\n",
    "    \n",
    "    titles = []\n",
    "    scores = []\n",
    "    for book_info in top_k_recommendations:\n",
    "        book_id = book_info[0]\n",
    "        score = book_info[1]\n",
    "        title = rating.loc[rating[\"book_id\"] == book_id][\"Book-Title\"].iloc[0]\n",
    "        titles.append(title)\n",
    "        scores.append(score)\n",
    "    \n",
    "    df = pd.DataFrame({'Title': titles, 'Score': scores})\n",
    "    return df\n"
   ]
  },
  {
   "cell_type": "code",
   "execution_count": 41,
   "id": "cfc448fa",
   "metadata": {
    "ExecuteTime": {
     "end_time": "2024-05-09T04:05:53.818265Z",
     "start_time": "2024-05-09T04:05:50.705465Z"
    }
   },
   "outputs": [
    {
     "data": {
      "text/html": [
       "<div>\n",
       "<style scoped>\n",
       "    .dataframe tbody tr th:only-of-type {\n",
       "        vertical-align: middle;\n",
       "    }\n",
       "\n",
       "    .dataframe tbody tr th {\n",
       "        vertical-align: top;\n",
       "    }\n",
       "\n",
       "    .dataframe thead th {\n",
       "        text-align: right;\n",
       "    }\n",
       "</style>\n",
       "<table border=\"1\" class=\"dataframe\">\n",
       "  <thead>\n",
       "    <tr style=\"text-align: right;\">\n",
       "      <th></th>\n",
       "      <th>Title</th>\n",
       "      <th>Score</th>\n",
       "    </tr>\n",
       "  </thead>\n",
       "  <tbody>\n",
       "    <tr>\n",
       "      <th>0</th>\n",
       "      <td>good earth</td>\n",
       "      <td>10.000000</td>\n",
       "    </tr>\n",
       "    <tr>\n",
       "      <th>1</th>\n",
       "      <td>riddley walker</td>\n",
       "      <td>10.000000</td>\n",
       "    </tr>\n",
       "    <tr>\n",
       "      <th>2</th>\n",
       "      <td>border hostage</td>\n",
       "      <td>10.000000</td>\n",
       "    </tr>\n",
       "    <tr>\n",
       "      <th>3</th>\n",
       "      <td>ageless body timeless mind quantum alternative...</td>\n",
       "      <td>10.000000</td>\n",
       "    </tr>\n",
       "    <tr>\n",
       "      <th>4</th>\n",
       "      <td>unexpected light travel afghanistan bestsellin...</td>\n",
       "      <td>9.806079</td>\n",
       "    </tr>\n",
       "  </tbody>\n",
       "</table>\n",
       "</div>"
      ],
      "text/plain": [
       "                                               Title      Score\n",
       "0                                         good earth  10.000000\n",
       "1                                     riddley walker  10.000000\n",
       "2                                     border hostage  10.000000\n",
       "3  ageless body timeless mind quantum alternative...  10.000000\n",
       "4  unexpected light travel afghanistan bestsellin...   9.806079"
      ]
     },
     "execution_count": 41,
     "metadata": {},
     "output_type": "execute_result"
    }
   ],
   "source": [
    "recommend_book(user_id=132, k=5)"
   ]
  },
  {
   "cell_type": "code",
   "execution_count": 70,
   "id": "485570bc",
   "metadata": {
    "ExecuteTime": {
     "end_time": "2024-05-09T04:08:43.394339Z",
     "start_time": "2024-05-09T04:07:42.386556Z"
    }
   },
   "outputs": [
    {
     "name": "stdout",
     "output_type": "stream",
     "text": [
      "Computing the msd similarity matrix...\n",
      "Done computing similarity matrix.\n",
      "Computing the msd similarity matrix...\n",
      "Done computing similarity matrix.\n",
      "Computing the msd similarity matrix...\n",
      "Done computing similarity matrix.\n",
      "Computing the msd similarity matrix...\n",
      "Done computing similarity matrix.\n",
      "Computing the msd similarity matrix...\n",
      "Done computing similarity matrix.\n",
      "Computing the msd similarity matrix...\n",
      "Done computing similarity matrix.\n",
      "Computing the msd similarity matrix...\n",
      "Done computing similarity matrix.\n",
      "Computing the msd similarity matrix...\n",
      "Done computing similarity matrix.\n",
      "Computing the msd similarity matrix...\n",
      "Done computing similarity matrix.\n",
      "Computing the msd similarity matrix...\n",
      "Done computing similarity matrix.\n"
     ]
    }
   ],
   "source": [
    "from surprise import KNNWithMeans\n",
    "from surprise import KNNWithZScore\n",
    "from surprise import SVD\n",
    "from surprise import NMF, BaselineOnly\n",
    "import pandas as pd\n",
    "benchmark = []\n",
    "rating_df = rating[[\"book_id\", \"user_id\", \"Book-Rating\"]]\n",
    "reader = Reader(rating_scale=(1, 10))\n",
    "data = Dataset.load_from_df(rating_df, reader)\n",
    "# Iterate over all algorithms\n",
    "for algorithm in [SVD(), KNNWithMeans(), KNNWithZScore(), NMF()]:\n",
    "    # Perform cross validation\n",
    "    results = cross_validate(algorithm, data, measures=['RMSE'], cv=5, verbose=False)\n",
    "    \n",
    "    # Get results & append algorithm name\n",
    "    tmp = pd.DataFrame.from_dict(results).mean(axis=0)\n",
    "    tmp = pd.concat([tmp,pd.Series([str(algorithm).split(' ')[0].split('.')[-1]], index=['Algorithm'])])\n",
    "    benchmark.append(tmp)"
   ]
  },
  {
   "cell_type": "code",
   "execution_count": 71,
   "id": "11d1970e",
   "metadata": {
    "ExecuteTime": {
     "end_time": "2024-05-09T04:09:23.900861Z",
     "start_time": "2024-05-09T04:09:23.891562Z"
    }
   },
   "outputs": [],
   "source": [
    "surprise_results = pd.DataFrame(benchmark).set_index('Algorithm').sort_values('test_rmse')"
   ]
  },
  {
   "cell_type": "code",
   "execution_count": 72,
   "id": "9979adc6",
   "metadata": {
    "ExecuteTime": {
     "end_time": "2024-05-09T04:09:24.339829Z",
     "start_time": "2024-05-09T04:09:24.334421Z"
    }
   },
   "outputs": [
    {
     "data": {
      "text/html": [
       "<div>\n",
       "<style scoped>\n",
       "    .dataframe tbody tr th:only-of-type {\n",
       "        vertical-align: middle;\n",
       "    }\n",
       "\n",
       "    .dataframe tbody tr th {\n",
       "        vertical-align: top;\n",
       "    }\n",
       "\n",
       "    .dataframe thead th {\n",
       "        text-align: right;\n",
       "    }\n",
       "</style>\n",
       "<table border=\"1\" class=\"dataframe\">\n",
       "  <thead>\n",
       "    <tr style=\"text-align: right;\">\n",
       "      <th></th>\n",
       "      <th>test_rmse</th>\n",
       "      <th>fit_time</th>\n",
       "      <th>test_time</th>\n",
       "    </tr>\n",
       "    <tr>\n",
       "      <th>Algorithm</th>\n",
       "      <th></th>\n",
       "      <th></th>\n",
       "      <th></th>\n",
       "    </tr>\n",
       "  </thead>\n",
       "  <tbody>\n",
       "    <tr>\n",
       "      <th>SVD</th>\n",
       "      <td>1.614880</td>\n",
       "      <td>1.629364</td>\n",
       "      <td>0.131079</td>\n",
       "    </tr>\n",
       "    <tr>\n",
       "      <th>KNNWithMeans</th>\n",
       "      <td>1.794819</td>\n",
       "      <td>4.046509</td>\n",
       "      <td>1.331131</td>\n",
       "    </tr>\n",
       "    <tr>\n",
       "      <th>KNNWithZScore</th>\n",
       "      <td>1.800592</td>\n",
       "      <td>4.311492</td>\n",
       "      <td>1.325727</td>\n",
       "    </tr>\n",
       "    <tr>\n",
       "      <th>NMF</th>\n",
       "      <td>2.526160</td>\n",
       "      <td>3.987020</td>\n",
       "      <td>0.129513</td>\n",
       "    </tr>\n",
       "  </tbody>\n",
       "</table>\n",
       "</div>"
      ],
      "text/plain": [
       "               test_rmse  fit_time  test_time\n",
       "Algorithm                                    \n",
       "SVD             1.614880  1.629364   0.131079\n",
       "KNNWithMeans    1.794819  4.046509   1.331131\n",
       "KNNWithZScore   1.800592  4.311492   1.325727\n",
       "NMF             2.526160  3.987020   0.129513"
      ]
     },
     "execution_count": 72,
     "metadata": {},
     "output_type": "execute_result"
    }
   ],
   "source": [
    "surprise_results"
   ]
  },
  {
   "cell_type": "code",
   "execution_count": 45,
   "id": "66dcc10e",
   "metadata": {},
   "outputs": [],
   "source": [
    "new_rating = pd.read_csv(\"BX-NewBooksRatings.csv\")\n",
    "new_user = pd.read_csv(\"BX-NewBooksUsers.csv\")\n",
    "new_book = pd.read_csv(\"BX-NewBooks.csv\")"
   ]
  },
  {
   "cell_type": "code",
   "execution_count": 46,
   "id": "c05901b3",
   "metadata": {},
   "outputs": [
    {
     "data": {
      "text/html": [
       "<div>\n",
       "<style scoped>\n",
       "    .dataframe tbody tr th:only-of-type {\n",
       "        vertical-align: middle;\n",
       "    }\n",
       "\n",
       "    .dataframe tbody tr th {\n",
       "        vertical-align: top;\n",
       "    }\n",
       "\n",
       "    .dataframe thead th {\n",
       "        text-align: right;\n",
       "    }\n",
       "</style>\n",
       "<table border=\"1\" class=\"dataframe\">\n",
       "  <thead>\n",
       "    <tr style=\"text-align: right;\">\n",
       "      <th></th>\n",
       "      <th>User-ID</th>\n",
       "      <th>ISBN</th>\n",
       "      <th>Book-Rating</th>\n",
       "    </tr>\n",
       "  </thead>\n",
       "  <tbody>\n",
       "    <tr>\n",
       "      <th>0</th>\n",
       "      <td>276762</td>\n",
       "      <td>3453092007</td>\n",
       "      <td>8</td>\n",
       "    </tr>\n",
       "    <tr>\n",
       "      <th>1</th>\n",
       "      <td>276774</td>\n",
       "      <td>3442136644</td>\n",
       "      <td>9</td>\n",
       "    </tr>\n",
       "    <tr>\n",
       "      <th>2</th>\n",
       "      <td>276786</td>\n",
       "      <td>8478442588</td>\n",
       "      <td>6</td>\n",
       "    </tr>\n",
       "    <tr>\n",
       "      <th>3</th>\n",
       "      <td>276798</td>\n",
       "      <td>0006379702</td>\n",
       "      <td>5</td>\n",
       "    </tr>\n",
       "    <tr>\n",
       "      <th>4</th>\n",
       "      <td>276813</td>\n",
       "      <td>8423996565</td>\n",
       "      <td>8</td>\n",
       "    </tr>\n",
       "    <tr>\n",
       "      <th>...</th>\n",
       "      <td>...</td>\n",
       "      <td>...</td>\n",
       "      <td>...</td>\n",
       "    </tr>\n",
       "    <tr>\n",
       "      <th>26767</th>\n",
       "      <td>276680</td>\n",
       "      <td>0449911217</td>\n",
       "      <td>9</td>\n",
       "    </tr>\n",
       "    <tr>\n",
       "      <th>26768</th>\n",
       "      <td>276680</td>\n",
       "      <td>0679419853</td>\n",
       "      <td>9</td>\n",
       "    </tr>\n",
       "    <tr>\n",
       "      <th>26769</th>\n",
       "      <td>276680</td>\n",
       "      <td>068486892X</td>\n",
       "      <td>6</td>\n",
       "    </tr>\n",
       "    <tr>\n",
       "      <th>26770</th>\n",
       "      <td>276680</td>\n",
       "      <td>1888173564</td>\n",
       "      <td>8</td>\n",
       "    </tr>\n",
       "    <tr>\n",
       "      <th>26771</th>\n",
       "      <td>276704</td>\n",
       "      <td>1563526298</td>\n",
       "      <td>9</td>\n",
       "    </tr>\n",
       "  </tbody>\n",
       "</table>\n",
       "<p>26772 rows × 3 columns</p>\n",
       "</div>"
      ],
      "text/plain": [
       "       User-ID        ISBN  Book-Rating\n",
       "0       276762  3453092007            8\n",
       "1       276774  3442136644            9\n",
       "2       276786  8478442588            6\n",
       "3       276798  0006379702            5\n",
       "4       276813  8423996565            8\n",
       "...        ...         ...          ...\n",
       "26767   276680  0449911217            9\n",
       "26768   276680  0679419853            9\n",
       "26769   276680  068486892X            6\n",
       "26770   276680  1888173564            8\n",
       "26771   276704  1563526298            9\n",
       "\n",
       "[26772 rows x 3 columns]"
      ]
     },
     "execution_count": 46,
     "metadata": {},
     "output_type": "execute_result"
    }
   ],
   "source": [
    "new_rating"
   ]
  },
  {
   "cell_type": "code",
   "execution_count": 43,
   "id": "4470528e",
   "metadata": {},
   "outputs": [
    {
     "ename": "NameError",
     "evalue": "name 'new_rating' is not defined",
     "output_type": "error",
     "traceback": [
      "\u001b[0;31m---------------------------------------------------------------------------\u001b[0m",
      "\u001b[0;31mNameError\u001b[0m                                 Traceback (most recent call last)",
      "Cell \u001b[0;32mIn[43], line 1\u001b[0m\n\u001b[0;32m----> 1\u001b[0m isbn_to_index \u001b[38;5;241m=\u001b[39m {isbn: idx \u001b[38;5;28;01mfor\u001b[39;00m idx, isbn \u001b[38;5;129;01min\u001b[39;00m \u001b[38;5;28menumerate\u001b[39m(new_rating[\u001b[38;5;124m'\u001b[39m\u001b[38;5;124mISBN\u001b[39m\u001b[38;5;124m'\u001b[39m]\u001b[38;5;241m.\u001b[39munique())}\n\u001b[1;32m      2\u001b[0m userId_to_index \u001b[38;5;241m=\u001b[39m {userId: idx \u001b[38;5;28;01mfor\u001b[39;00m idx, userId \u001b[38;5;129;01min\u001b[39;00m \u001b[38;5;28menumerate\u001b[39m(new_rating[\u001b[38;5;124m'\u001b[39m\u001b[38;5;124mUser-ID\u001b[39m\u001b[38;5;124m'\u001b[39m]\u001b[38;5;241m.\u001b[39munique())}\n\u001b[1;32m      3\u001b[0m new_rating[\u001b[38;5;124m'\u001b[39m\u001b[38;5;124mbook_id\u001b[39m\u001b[38;5;124m'\u001b[39m] \u001b[38;5;241m=\u001b[39m new_rating[\u001b[38;5;124m'\u001b[39m\u001b[38;5;124mISBN\u001b[39m\u001b[38;5;124m'\u001b[39m]\u001b[38;5;241m.\u001b[39mmap(isbn_to_index)\n",
      "\u001b[0;31mNameError\u001b[0m: name 'new_rating' is not defined"
     ]
    }
   ],
   "source": [
    "isbn_to_index = {isbn: idx for idx, isbn in enumerate(new_rating['ISBN'].unique())}\n",
    "userId_to_index = {userId: idx for idx, userId in enumerate(new_rating['User-ID'].unique())}\n",
    "new_rating['book_id'] = new_rating['ISBN'].map(isbn_to_index)\n",
    "new_rating['user_id'] = new_rating['User-ID'].map(userId_to_index)"
   ]
  },
  {
   "cell_type": "code",
   "execution_count": 55,
   "id": "fe5565f5",
   "metadata": {},
   "outputs": [],
   "source": [
    "hits = 0\n",
    "for predict in predictions:\n",
    "    _UserID = rating.loc[rating['user_id'] == predict.uid]['User-ID']\n",
    "    print(_UserID)\n",
    "    "
   ]
  }
 ],
 "metadata": {
  "kernelspec": {
   "display_name": "Python 3 (ipykernel)",
   "language": "python",
   "name": "python3"
  },
  "language_info": {
   "codemirror_mode": {
    "name": "ipython",
    "version": 3
   },
   "file_extension": ".py",
   "mimetype": "text/x-python",
   "name": "python",
   "nbconvert_exporter": "python",
   "pygments_lexer": "ipython3",
   "version": "3.11.7"
  }
 },
 "nbformat": 4,
 "nbformat_minor": 5
}
