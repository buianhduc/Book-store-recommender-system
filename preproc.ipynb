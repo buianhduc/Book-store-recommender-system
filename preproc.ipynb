{
 "cells": [
  {
   "cell_type": "code",
   "id": "6835a529-2205-4b22-b508-6117b07f6231",
   "metadata": {
    "ExecuteTime": {
     "end_time": "2024-04-27T06:16:32.058043Z",
     "start_time": "2024-04-27T06:16:32.018502Z"
    }
   },
   "source": [
    "import pandas as pd\n",
    "books = pd.read_csv(\"BX-Books.csv\", encoding=\"ISO-8859-15\")\n"
   ],
   "outputs": [
    {
     "data": {
      "text/plain": [
       "ISBN                                                 3492045642\n",
       "Book-Title             QuerschÃÂ?ÃÂÃÂŒsse - Downsize This!\n",
       "Book-Author                                       Michael Moore\n",
       "Year-Of-Publication                                        2003\n",
       "Book-Publisher                                            Piper\n",
       "Name: 99, dtype: object"
      ]
     },
     "execution_count": 45,
     "metadata": {},
     "output_type": "execute_result"
    }
   ],
   "execution_count": 45
  },
  {
   "cell_type": "code",
   "id": "75829301-5306-480f-93d2-1acd9e4efaae",
   "metadata": {
    "ExecuteTime": {
     "end_time": "2024-04-28T12:34:11.146108Z",
     "start_time": "2024-04-28T12:34:11.067562Z"
    }
   },
   "source": [
    "def isValidISBN(isbn) -> bool:\n",
    "    digits = str(isbn)\n",
    "    # print(digits)\n",
    "    if len(digits) == 10:\n",
    "        sumCheck = 0\n",
    "        for index, digit in enumerate(digits):\n",
    "            sumCheck += (10 if digit.lower() == 'x' else int(digit)) * (10-index)\n",
    "        return sumCheck % 11 == 0\n",
    "    return False\n",
    "books[\"ValidISBN\"] = books.apply(lambda row: isValidISBN(row[\"ISBN\"]),axis=1)\n"
   ],
   "outputs": [
    {
     "data": {
      "text/plain": [
       "ValidISBN\n",
       "True    18185\n",
       "Name: count, dtype: int64"
      ]
     },
     "execution_count": 52,
     "metadata": {},
     "output_type": "execute_result"
    }
   ],
   "execution_count": 52
  },
  {
   "cell_type": "code",
   "id": "b3656774-791d-4acc-9e3a-8263f61391ff",
   "metadata": {
    "ExecuteTime": {
     "end_time": "2024-04-28T13:09:23.059359Z",
     "start_time": "2024-04-28T13:09:22.690964Z"
    }
   },
   "source": [
    "import regex as re\n",
    "users = pd.read_csv(\"BX-Users.csv\")\n",
    "users[\"User-Age\"] = users.apply(\n",
    "    lambda row: re.sub(r'\\\"$', \"\", row[\"User-Age\"]) if not pd.isna(row[\"User-Age\"]) else row[\"User-Age\"],\n",
    "    axis=1\n",
    ")\n",
    "\n",
    "users[\"User-Age\"].fillna(users[\"User-Age\"].median(), inplace=True)\n",
    "users.astype({\n",
    "    \"User-Age\": \"int32\",\n",
    "\n",
    "})\n",
    "\n",
    "users[\"User-Country\"] = (users['User-Country']\n",
    "                         .apply(lambda country: re.sub(r'\\\"$', \"\", country) if not pd.isna (country) else country))\n",
    "\n",
    "users[\"User-Country\"].replace()"
   ],
   "outputs": [
    {
     "data": {
      "text/plain": [
       "0            canada\n",
       "1               usa\n",
       "2               usa\n",
       "3               usa\n",
       "4               NaN\n",
       "            ...    \n",
       "48294        canada\n",
       "48295        canada\n",
       "48296           usa\n",
       "48297     australia\n",
       "48298           usa\n",
       "Name: User-Country, Length: 48299, dtype: object"
      ]
     },
     "execution_count": 67,
     "metadata": {},
     "output_type": "execute_result"
    }
   ],
   "execution_count": 67
  },
  {
   "metadata": {
    "ExecuteTime": {
     "end_time": "2024-04-28T13:11:53.946742Z",
     "start_time": "2024-04-28T13:11:52.748267Z"
    }
   },
   "cell_type": "code",
   "source": [
    "import pycountry as pc\n",
    "import pprint\n",
    "matchCountryMap = {}\n",
    "countries = pd.Series(users[\"User-Country\"].unique())\n",
    "countries = countries.dropna()\n",
    "for country in countries:\n",
    "        try:\n",
    "            countryName = country.replace(\".\", '').replace('\"', '')\n",
    "            matchCountryMap[country] = pc.countries.search_fuzzy(countryName)\n",
    "        except LookupError as e:\n",
    "            # print(country)\n",
    "            continue\n",
    "\n",
    "        "
   ],
   "id": "5572ac72f24ebf0",
   "outputs": [
    {
     "name": "stdout",
     "output_type": "stream",
     "text": [
      "SubdivisionHierarchy(code='MX-MEX', country_code='MX', name='México', parent_code=None, type='State')\n",
      "SubdivisionHierarchy(code='GT-GU', country_code='GT', name='Guatemala', parent_code=None, type='Department')\n",
      "SubdivisionHierarchy(code='GB-ENG', country_code='GB', name='England', parent_code=None, type='Country')\n",
      "SubdivisionHierarchy(code='BE-WLX', country_code='BE', name='Luxembourg', parent='WAL', parent_code='BE-WAL', type='Province')\n",
      "SubdivisionHierarchy(code='LU-LU', country_code='LU', name='Luxembourg', parent_code=None, type='Canton')\n",
      "SubdivisionHierarchy(code='BD-13', country_code='BD', name='Dhaka', parent='C', parent_code='BD-C', type='District')\n",
      "SubdivisionHierarchy(code='BD-15', country_code='BD', name='Faridpur', parent='C', parent_code='BD-C', type='District')\n",
      "SubdivisionHierarchy(code='BD-17', country_code='BD', name='Gopalganj', parent='C', parent_code='BD-C', type='District')\n",
      "SubdivisionHierarchy(code='BD-18', country_code='BD', name='Gazipur', parent='C', parent_code='BD-C', type='District')\n",
      "SubdivisionHierarchy(code='BD-26', country_code='BD', name='Kishoreganj', parent='C', parent_code='BD-C', type='District')\n",
      "SubdivisionHierarchy(code='BD-33', country_code='BD', name='Manikganj', parent='C', parent_code='BD-C', type='District')\n",
      "SubdivisionHierarchy(code='BD-35', country_code='BD', name='Munshiganj', parent='C', parent_code='BD-C', type='District')\n",
      "SubdivisionHierarchy(code='BD-36', country_code='BD', name='Madaripur', parent='C', parent_code='BD-C', type='District')\n",
      "SubdivisionHierarchy(code='BD-40', country_code='BD', name='Narayanganj', parent='C', parent_code='BD-C', type='District')\n",
      "SubdivisionHierarchy(code='BD-42', country_code='BD', name='Narsingdi', parent='C', parent_code='BD-C', type='District')\n",
      "SubdivisionHierarchy(code='BD-53', country_code='BD', name='Rajbari', parent='C', parent_code='BD-C', type='District')\n",
      "SubdivisionHierarchy(code='BD-62', country_code='BD', name='Shariatpur', parent='C', parent_code='BD-C', type='District')\n",
      "SubdivisionHierarchy(code='BD-63', country_code='BD', name='Tangail', parent='C', parent_code='BD-C', type='District')\n",
      "SubdivisionHierarchy(code='FJ-09', country_code='FJ', name='Naitasiri', parent='C', parent_code='FJ-C', type='Province')\n",
      "SubdivisionHierarchy(code='FJ-10', country_code='FJ', name='Namosi', parent='C', parent_code='FJ-C', type='Province')\n",
      "SubdivisionHierarchy(code='FJ-12', country_code='FJ', name='Rewa', parent='C', parent_code='FJ-C', type='Province')\n",
      "SubdivisionHierarchy(code='FJ-13', country_code='FJ', name='Serua', parent='C', parent_code='FJ-C', type='Province')\n",
      "SubdivisionHierarchy(code='FJ-14', country_code='FJ', name='Tailevu', parent='C', parent_code='FJ-C', type='Province')\n",
      "SubdivisionHierarchy(code='GQ-CS', country_code='GQ', name='Centro Sud', parent='C', parent_code='GQ-C', type='Province')\n",
      "SubdivisionHierarchy(code='GQ-DJ', country_code='GQ', name='Djibloho', parent='C', parent_code='GQ-C', type='Province')\n",
      "SubdivisionHierarchy(code='GQ-KN', country_code='GQ', name='Kié-Ntem', parent='C', parent_code='GQ-C', type='Province')\n",
      "SubdivisionHierarchy(code='GQ-LI', country_code='GQ', name='Litoral', parent='C', parent_code='GQ-C', type='Province')\n",
      "SubdivisionHierarchy(code='GQ-WN', country_code='GQ', name='Wele-Nzas', parent='C', parent_code='GQ-C', type='Province')\n",
      "SubdivisionHierarchy(code='IE-G', country_code='IE', name='Galway', parent='C', parent_code='IE-C', type='County')\n",
      "SubdivisionHierarchy(code='IE-LM', country_code='IE', name='Leitrim', parent='C', parent_code='IE-C', type='County')\n",
      "SubdivisionHierarchy(code='IE-MO', country_code='IE', name='Mayo', parent='C', parent_code='IE-C', type='County')\n",
      "SubdivisionHierarchy(code='IE-RN', country_code='IE', name='Roscommon', parent='C', parent_code='IE-C', type='County')\n",
      "SubdivisionHierarchy(code='IE-SO', country_code='IE', name='Sligo', parent='C', parent_code='IE-C', type='County')\n",
      "SubdivisionHierarchy(code='MW-DE', country_code='MW', name='Dedza', parent='C', parent_code='MW-C', type='District')\n",
      "SubdivisionHierarchy(code='MW-DO', country_code='MW', name='Dowa', parent='C', parent_code='MW-C', type='District')\n",
      "SubdivisionHierarchy(code='MW-KS', country_code='MW', name='Kasungu', parent='C', parent_code='MW-C', type='District')\n",
      "SubdivisionHierarchy(code='MW-LI', country_code='MW', name='Lilongwe', parent='C', parent_code='MW-C', type='District')\n",
      "SubdivisionHierarchy(code='MW-MC', country_code='MW', name='Mchinji', parent='C', parent_code='MW-C', type='District')\n",
      "SubdivisionHierarchy(code='MW-NI', country_code='MW', name='Ntchisi', parent='C', parent_code='MW-C', type='District')\n",
      "SubdivisionHierarchy(code='MW-NK', country_code='MW', name='Nkhotakota', parent='C', parent_code='MW-C', type='District')\n",
      "SubdivisionHierarchy(code='MW-NU', country_code='MW', name='Ntcheu', parent='C', parent_code='MW-C', type='District')\n",
      "SubdivisionHierarchy(code='MW-SA', country_code='MW', name='Salima', parent='C', parent_code='MW-C', type='District')\n",
      "SubdivisionHierarchy(code='UG-101', country_code='UG', name='Kalangala', parent='C', parent_code='UG-C', type='District')\n",
      "SubdivisionHierarchy(code='UG-102', country_code='UG', name='Kampala', parent='C', parent_code='UG-C', type='City')\n",
      "SubdivisionHierarchy(code='UG-103', country_code='UG', name='Kiboga', parent='C', parent_code='UG-C', type='District')\n",
      "SubdivisionHierarchy(code='UG-104', country_code='UG', name='Luwero', parent='C', parent_code='UG-C', type='District')\n",
      "SubdivisionHierarchy(code='UG-105', country_code='UG', name='Masaka', parent='C', parent_code='UG-C', type='District')\n",
      "SubdivisionHierarchy(code='UG-106', country_code='UG', name='Mpigi', parent='C', parent_code='UG-C', type='District')\n",
      "SubdivisionHierarchy(code='UG-107', country_code='UG', name='Mubende', parent='C', parent_code='UG-C', type='District')\n",
      "SubdivisionHierarchy(code='UG-108', country_code='UG', name='Mukono', parent='C', parent_code='UG-C', type='District')\n",
      "SubdivisionHierarchy(code='UG-109', country_code='UG', name='Nakasongola', parent='C', parent_code='UG-C', type='District')\n",
      "SubdivisionHierarchy(code='UG-110', country_code='UG', name='Rakai', parent='C', parent_code='UG-C', type='District')\n",
      "SubdivisionHierarchy(code='UG-111', country_code='UG', name='Sembabule', parent='C', parent_code='UG-C', type='District')\n",
      "SubdivisionHierarchy(code='UG-112', country_code='UG', name='Kayunga', parent='C', parent_code='UG-C', type='District')\n",
      "SubdivisionHierarchy(code='UG-113', country_code='UG', name='Wakiso', parent='C', parent_code='UG-C', type='District')\n",
      "SubdivisionHierarchy(code='UG-114', country_code='UG', name='Lyantonde', parent='C', parent_code='UG-C', type='District')\n",
      "SubdivisionHierarchy(code='UG-115', country_code='UG', name='Mityana', parent='C', parent_code='UG-C', type='District')\n",
      "SubdivisionHierarchy(code='UG-116', country_code='UG', name='Nakaseke', parent='C', parent_code='UG-C', type='District')\n",
      "SubdivisionHierarchy(code='UG-117', country_code='UG', name='Buikwe', parent='C', parent_code='UG-C', type='District')\n",
      "SubdivisionHierarchy(code='UG-118', country_code='UG', name='Bukomansibi', parent='C', parent_code='UG-C', type='District')\n",
      "SubdivisionHierarchy(code='UG-119', country_code='UG', name='Butambala', parent='C', parent_code='UG-C', type='District')\n",
      "SubdivisionHierarchy(code='UG-120', country_code='UG', name='Buvuma', parent='C', parent_code='UG-C', type='District')\n",
      "SubdivisionHierarchy(code='UG-121', country_code='UG', name='Gomba', parent='C', parent_code='UG-C', type='District')\n",
      "SubdivisionHierarchy(code='UG-122', country_code='UG', name='Kalungu', parent='C', parent_code='UG-C', type='District')\n",
      "SubdivisionHierarchy(code='UG-123', country_code='UG', name='Kyankwanzi', parent='C', parent_code='UG-C', type='District')\n",
      "SubdivisionHierarchy(code='UG-124', country_code='UG', name='Lwengo', parent='C', parent_code='UG-C', type='District')\n",
      "SubdivisionHierarchy(code='UG-125', country_code='UG', name='Kyotera', parent='C', parent_code='UG-C', type='District')\n",
      "SubdivisionHierarchy(code='UG-126', country_code='UG', name='Kasanda', parent='C', parent_code='UG-C', type='District')\n",
      "SubdivisionHierarchy(code='IT-FE', country_code='IT', name='Ferrara', parent='45', parent_code='IT-45', type='Province')\n",
      "SubdivisionHierarchy(code='UA-05', country_code='UA', name='Vinnytska oblast', parent_code=None, type='Region')\n",
      "SubdivisionHierarchy(code='UA-07', country_code='UA', name='Volynska oblast', parent_code=None, type='Region')\n",
      "SubdivisionHierarchy(code='UA-09', country_code='UA', name='Luhanska oblast', parent_code=None, type='Region')\n",
      "SubdivisionHierarchy(code='UA-12', country_code='UA', name='Dnipropetrovska oblast', parent_code=None, type='Region')\n",
      "SubdivisionHierarchy(code='UA-14', country_code='UA', name='Donetska oblast', parent_code=None, type='Region')\n",
      "SubdivisionHierarchy(code='UA-18', country_code='UA', name='Zhytomyrska oblast', parent_code=None, type='Region')\n",
      "SubdivisionHierarchy(code='UA-21', country_code='UA', name='Zakarpatska oblast', parent_code=None, type='Region')\n",
      "SubdivisionHierarchy(code='UA-23', country_code='UA', name='Zaporizka oblast', parent_code=None, type='Region')\n",
      "SubdivisionHierarchy(code='UA-26', country_code='UA', name='Ivano-Frankivska oblast', parent_code=None, type='Region')\n",
      "SubdivisionHierarchy(code='UA-30', country_code='UA', name='Kyiv', parent_code=None, type='City')\n",
      "SubdivisionHierarchy(code='UA-32', country_code='UA', name='Kyivska oblast', parent_code=None, type='Region')\n",
      "SubdivisionHierarchy(code='UA-35', country_code='UA', name='Kirovohradska oblast', parent_code=None, type='Region')\n",
      "SubdivisionHierarchy(code='UA-40', country_code='UA', name='Sevastopol', parent_code=None, type='City')\n",
      "SubdivisionHierarchy(code='UA-43', country_code='UA', name='Avtonomna Respublika Krym', parent_code=None, type='Republic')\n",
      "SubdivisionHierarchy(code='UA-46', country_code='UA', name='Lvivska oblast', parent_code=None, type='Region')\n",
      "SubdivisionHierarchy(code='UA-48', country_code='UA', name='Mykolaivska oblast', parent_code=None, type='Region')\n",
      "SubdivisionHierarchy(code='UA-51', country_code='UA', name='Odeska oblast', parent_code=None, type='Region')\n",
      "SubdivisionHierarchy(code='UA-53', country_code='UA', name='Poltavska oblast', parent_code=None, type='Region')\n",
      "SubdivisionHierarchy(code='UA-56', country_code='UA', name='Rivnenska oblast', parent_code=None, type='Region')\n",
      "SubdivisionHierarchy(code='UA-59', country_code='UA', name='Sumska oblast', parent_code=None, type='Region')\n",
      "SubdivisionHierarchy(code='UA-61', country_code='UA', name='Ternopilska oblast', parent_code=None, type='Region')\n",
      "SubdivisionHierarchy(code='UA-63', country_code='UA', name='Kharkivska oblast', parent_code=None, type='Region')\n",
      "SubdivisionHierarchy(code='UA-65', country_code='UA', name='Khersonska oblast', parent_code=None, type='Region')\n",
      "SubdivisionHierarchy(code='UA-68', country_code='UA', name='Khmelnytska oblast', parent_code=None, type='Region')\n",
      "SubdivisionHierarchy(code='UA-71', country_code='UA', name='Cherkaska oblast', parent_code=None, type='Region')\n",
      "SubdivisionHierarchy(code='UA-74', country_code='UA', name='Chernihivska oblast', parent_code=None, type='Region')\n",
      "SubdivisionHierarchy(code='UA-77', country_code='UA', name='Chernivetska oblast', parent_code=None, type='Region')\n",
      "SubdivisionHierarchy(code='ES-PV', country_code='ES', name='Euskal Herria', parent_code=None, type='Autonomous community')\n",
      "SubdivisionHierarchy(code='NL-AW', country_code='NL', name='Aruba', parent_code=None, type='Country')\n",
      "SubdivisionHierarchy(code='BZ-BZ', country_code='BZ', name='Belize', parent_code=None, type='District')\n",
      "SubdivisionHierarchy(code='GB-SCT', country_code='GB', name='Scotland', parent_code=None, type='Country')\n",
      "SubdivisionHierarchy(code='GB-CMD', country_code='GB', name='Camden', parent='GB-ENG', parent_code='GB-GB-ENG', type='London borough')\n",
      "SubdivisionHierarchy(code='US-AK', country_code='US', name='Alaska', parent_code=None, type='State')\n",
      "SubdivisionHierarchy(code='US-AL', country_code='US', name='Alabama', parent_code=None, type='State')\n",
      "SubdivisionHierarchy(code='US-AR', country_code='US', name='Arkansas', parent_code=None, type='State')\n",
      "SubdivisionHierarchy(code='US-AS', country_code='US', name='American Samoa', parent_code=None, type='Outlying area')\n",
      "SubdivisionHierarchy(code='US-AZ', country_code='US', name='Arizona', parent_code=None, type='State')\n",
      "SubdivisionHierarchy(code='US-CA', country_code='US', name='California', parent_code=None, type='State')\n",
      "SubdivisionHierarchy(code='US-CO', country_code='US', name='Colorado', parent_code=None, type='State')\n",
      "SubdivisionHierarchy(code='US-CT', country_code='US', name='Connecticut', parent_code=None, type='State')\n",
      "SubdivisionHierarchy(code='US-DC', country_code='US', name='District of Columbia', parent_code=None, type='District')\n",
      "SubdivisionHierarchy(code='US-DE', country_code='US', name='Delaware', parent_code=None, type='State')\n",
      "SubdivisionHierarchy(code='US-FL', country_code='US', name='Florida', parent_code=None, type='State')\n",
      "SubdivisionHierarchy(code='US-GA', country_code='US', name='Georgia', parent_code=None, type='State')\n",
      "SubdivisionHierarchy(code='US-GU', country_code='US', name='Guam', parent_code=None, type='Outlying area')\n",
      "SubdivisionHierarchy(code='US-HI', country_code='US', name='Hawaii', parent_code=None, type='State')\n",
      "SubdivisionHierarchy(code='US-IA', country_code='US', name='Iowa', parent_code=None, type='State')\n",
      "SubdivisionHierarchy(code='US-ID', country_code='US', name='Idaho', parent_code=None, type='State')\n",
      "SubdivisionHierarchy(code='US-IL', country_code='US', name='Illinois', parent_code=None, type='State')\n",
      "SubdivisionHierarchy(code='US-IN', country_code='US', name='Indiana', parent_code=None, type='State')\n",
      "SubdivisionHierarchy(code='US-KS', country_code='US', name='Kansas', parent_code=None, type='State')\n",
      "SubdivisionHierarchy(code='US-KY', country_code='US', name='Kentucky', parent_code=None, type='State')\n",
      "SubdivisionHierarchy(code='US-LA', country_code='US', name='Louisiana', parent_code=None, type='State')\n",
      "SubdivisionHierarchy(code='US-MA', country_code='US', name='Massachusetts', parent_code=None, type='State')\n",
      "SubdivisionHierarchy(code='US-MD', country_code='US', name='Maryland', parent_code=None, type='State')\n",
      "SubdivisionHierarchy(code='US-ME', country_code='US', name='Maine', parent_code=None, type='State')\n",
      "SubdivisionHierarchy(code='US-MI', country_code='US', name='Michigan', parent_code=None, type='State')\n",
      "SubdivisionHierarchy(code='US-MN', country_code='US', name='Minnesota', parent_code=None, type='State')\n",
      "SubdivisionHierarchy(code='US-MO', country_code='US', name='Missouri', parent_code=None, type='State')\n",
      "SubdivisionHierarchy(code='US-MP', country_code='US', name='Northern Mariana Islands', parent_code=None, type='Outlying area')\n",
      "SubdivisionHierarchy(code='US-MS', country_code='US', name='Mississippi', parent_code=None, type='State')\n",
      "SubdivisionHierarchy(code='US-MT', country_code='US', name='Montana', parent_code=None, type='State')\n",
      "SubdivisionHierarchy(code='US-NC', country_code='US', name='North Carolina', parent_code=None, type='State')\n",
      "SubdivisionHierarchy(code='US-ND', country_code='US', name='North Dakota', parent_code=None, type='State')\n",
      "SubdivisionHierarchy(code='US-NE', country_code='US', name='Nebraska', parent_code=None, type='State')\n",
      "SubdivisionHierarchy(code='US-NH', country_code='US', name='New Hampshire', parent_code=None, type='State')\n",
      "SubdivisionHierarchy(code='US-NJ', country_code='US', name='New Jersey', parent_code=None, type='State')\n",
      "SubdivisionHierarchy(code='US-NM', country_code='US', name='New Mexico', parent_code=None, type='State')\n",
      "SubdivisionHierarchy(code='US-NV', country_code='US', name='Nevada', parent_code=None, type='State')\n",
      "SubdivisionHierarchy(code='US-NY', country_code='US', name='New York', parent_code=None, type='State')\n",
      "SubdivisionHierarchy(code='US-OH', country_code='US', name='Ohio', parent_code=None, type='State')\n",
      "SubdivisionHierarchy(code='US-OK', country_code='US', name='Oklahoma', parent_code=None, type='State')\n",
      "SubdivisionHierarchy(code='US-OR', country_code='US', name='Oregon', parent_code=None, type='State')\n",
      "SubdivisionHierarchy(code='US-PA', country_code='US', name='Pennsylvania', parent_code=None, type='State')\n",
      "SubdivisionHierarchy(code='US-PR', country_code='US', name='Puerto Rico', parent_code=None, type='Outlying area')\n",
      "SubdivisionHierarchy(code='US-RI', country_code='US', name='Rhode Island', parent_code=None, type='State')\n",
      "SubdivisionHierarchy(code='US-SC', country_code='US', name='South Carolina', parent_code=None, type='State')\n",
      "SubdivisionHierarchy(code='US-SD', country_code='US', name='South Dakota', parent_code=None, type='State')\n",
      "SubdivisionHierarchy(code='US-TN', country_code='US', name='Tennessee', parent_code=None, type='State')\n",
      "SubdivisionHierarchy(code='US-TX', country_code='US', name='Texas', parent_code=None, type='State')\n",
      "SubdivisionHierarchy(code='US-UM', country_code='US', name='United States Minor Outlying Islands', parent_code=None, type='Outlying area')\n",
      "SubdivisionHierarchy(code='US-UT', country_code='US', name='Utah', parent_code=None, type='State')\n",
      "SubdivisionHierarchy(code='US-VA', country_code='US', name='Virginia', parent_code=None, type='State')\n",
      "SubdivisionHierarchy(code='US-VI', country_code='US', name='Virgin Islands, U.S.', parent_code=None, type='Outlying area')\n",
      "SubdivisionHierarchy(code='US-VT', country_code='US', name='Vermont', parent_code=None, type='State')\n",
      "SubdivisionHierarchy(code='US-WA', country_code='US', name='Washington', parent_code=None, type='State')\n",
      "SubdivisionHierarchy(code='US-WI', country_code='US', name='Wisconsin', parent_code=None, type='State')\n",
      "SubdivisionHierarchy(code='US-WV', country_code='US', name='West Virginia', parent_code=None, type='State')\n",
      "SubdivisionHierarchy(code='US-WY', country_code='US', name='Wyoming', parent_code=None, type='State')\n",
      "SubdivisionHierarchy(code='PA-8', country_code='PA', name='Panamá', parent_code=None, type='Province')\n",
      "SubdivisionHierarchy(code='US-PR', country_code='US', name='Puerto Rico', parent_code=None, type='Outlying area')\n",
      "SubdivisionHierarchy(code='NG-NI', country_code='NG', name='Niger', parent_code=None, type='State')\n",
      "SubdivisionHierarchy(code='NZ-AUK', country_code='NZ', name='Auckland', parent_code=None, type='Region')\n",
      "SubdivisionHierarchy(code='NZ-BOP', country_code='NZ', name='Bay of Plenty', parent_code=None, type='Region')\n",
      "SubdivisionHierarchy(code='NZ-CAN', country_code='NZ', name='Canterbury', parent_code=None, type='Region')\n",
      "SubdivisionHierarchy(code='NZ-CIT', country_code='NZ', name='Chatham Islands Territory', parent_code=None, type='Special island authority')\n",
      "SubdivisionHierarchy(code='NZ-GIS', country_code='NZ', name='Gisborne', parent_code=None, type='Region')\n",
      "SubdivisionHierarchy(code='NZ-HKB', country_code='NZ', name=\"Hawke's Bay\", parent_code=None, type='Region')\n",
      "SubdivisionHierarchy(code='NZ-MBH', country_code='NZ', name='Marlborough', parent_code=None, type='Region')\n",
      "SubdivisionHierarchy(code='NZ-MWT', country_code='NZ', name='Manawatu-Wanganui', parent_code=None, type='Region')\n",
      "SubdivisionHierarchy(code='NZ-NSN', country_code='NZ', name='Nelson', parent_code=None, type='Region')\n",
      "SubdivisionHierarchy(code='NZ-NTL', country_code='NZ', name='Northland', parent_code=None, type='Region')\n",
      "SubdivisionHierarchy(code='NZ-OTA', country_code='NZ', name='Otago', parent_code=None, type='Region')\n",
      "SubdivisionHierarchy(code='NZ-STL', country_code='NZ', name='Southland', parent_code=None, type='Region')\n",
      "SubdivisionHierarchy(code='NZ-TAS', country_code='NZ', name='Tasman', parent_code=None, type='Region')\n",
      "SubdivisionHierarchy(code='NZ-TKI', country_code='NZ', name='Taranaki', parent_code=None, type='Region')\n",
      "SubdivisionHierarchy(code='NZ-WGN', country_code='NZ', name='Wellington', parent_code=None, type='Region')\n",
      "SubdivisionHierarchy(code='NZ-WKO', country_code='NZ', name='Waikato', parent_code=None, type='Region')\n",
      "SubdivisionHierarchy(code='NZ-WTC', country_code='NZ', name='West Coast', parent_code=None, type='Region')\n"
     ]
    }
   ],
   "execution_count": 68
  },
  {
   "metadata": {
    "ExecuteTime": {
     "end_time": "2024-04-28T11:57:11.511088Z",
     "start_time": "2024-04-28T11:57:10.724033Z"
    }
   },
   "cell_type": "code",
   "source": "",
   "id": "9de0d5b7d5bd9a24",
   "outputs": [
    {
     "name": "stdout",
     "output_type": "stream",
     "text": [
      "User-ID           int64\n",
      "User-City        object\n",
      "User-State       object\n",
      "User-Country     object\n",
      "User-Age        float64\n",
      "dtype: object\n"
     ]
    },
    {
     "ename": "TypeError",
     "evalue": "'value' must be an instance of str or bytes, not a float",
     "output_type": "error",
     "traceback": [
      "\u001B[0;31m---------------------------------------------------------------------------\u001B[0m",
      "\u001B[0;31mTypeError\u001B[0m                                 Traceback (most recent call last)",
      "Cell \u001B[0;32mIn[51], line 5\u001B[0m\n\u001B[1;32m      3\u001B[0m \u001B[38;5;28mprint\u001B[39m(refined\u001B[38;5;241m.\u001B[39mdtypes)\n\u001B[1;32m      4\u001B[0m \u001B[38;5;28;01mimport\u001B[39;00m \u001B[38;5;21;01mmatplotlib\u001B[39;00m\u001B[38;5;21;01m.\u001B[39;00m\u001B[38;5;21;01mpyplot\u001B[39;00m \u001B[38;5;28;01mas\u001B[39;00m \u001B[38;5;21;01mplt\u001B[39;00m\n\u001B[0;32m----> 5\u001B[0m plt\u001B[38;5;241m.\u001B[39mhist(users[\u001B[38;5;124m\"\u001B[39m\u001B[38;5;124mUser-Age\u001B[39m\u001B[38;5;124m\"\u001B[39m])\n",
      "File \u001B[0;32m/opt/anaconda3/lib/python3.11/site-packages/matplotlib/pyplot.py:3224\u001B[0m, in \u001B[0;36mhist\u001B[0;34m(x, bins, range, density, weights, cumulative, bottom, histtype, align, orientation, rwidth, log, color, label, stacked, data, **kwargs)\u001B[0m\n\u001B[1;32m   3199\u001B[0m \u001B[38;5;129m@_copy_docstring_and_deprecators\u001B[39m(Axes\u001B[38;5;241m.\u001B[39mhist)\n\u001B[1;32m   3200\u001B[0m \u001B[38;5;28;01mdef\u001B[39;00m \u001B[38;5;21mhist\u001B[39m(\n\u001B[1;32m   3201\u001B[0m     x: ArrayLike \u001B[38;5;241m|\u001B[39m Sequence[ArrayLike],\n\u001B[0;32m   (...)\u001B[0m\n\u001B[1;32m   3222\u001B[0m     BarContainer \u001B[38;5;241m|\u001B[39m Polygon \u001B[38;5;241m|\u001B[39m \u001B[38;5;28mlist\u001B[39m[BarContainer \u001B[38;5;241m|\u001B[39m Polygon],\n\u001B[1;32m   3223\u001B[0m ]:\n\u001B[0;32m-> 3224\u001B[0m     \u001B[38;5;28;01mreturn\u001B[39;00m gca()\u001B[38;5;241m.\u001B[39mhist(\n\u001B[1;32m   3225\u001B[0m         x,\n\u001B[1;32m   3226\u001B[0m         bins\u001B[38;5;241m=\u001B[39mbins,\n\u001B[1;32m   3227\u001B[0m         \u001B[38;5;28mrange\u001B[39m\u001B[38;5;241m=\u001B[39m\u001B[38;5;28mrange\u001B[39m,\n\u001B[1;32m   3228\u001B[0m         density\u001B[38;5;241m=\u001B[39mdensity,\n\u001B[1;32m   3229\u001B[0m         weights\u001B[38;5;241m=\u001B[39mweights,\n\u001B[1;32m   3230\u001B[0m         cumulative\u001B[38;5;241m=\u001B[39mcumulative,\n\u001B[1;32m   3231\u001B[0m         bottom\u001B[38;5;241m=\u001B[39mbottom,\n\u001B[1;32m   3232\u001B[0m         histtype\u001B[38;5;241m=\u001B[39mhisttype,\n\u001B[1;32m   3233\u001B[0m         align\u001B[38;5;241m=\u001B[39malign,\n\u001B[1;32m   3234\u001B[0m         orientation\u001B[38;5;241m=\u001B[39morientation,\n\u001B[1;32m   3235\u001B[0m         rwidth\u001B[38;5;241m=\u001B[39mrwidth,\n\u001B[1;32m   3236\u001B[0m         log\u001B[38;5;241m=\u001B[39mlog,\n\u001B[1;32m   3237\u001B[0m         color\u001B[38;5;241m=\u001B[39mcolor,\n\u001B[1;32m   3238\u001B[0m         label\u001B[38;5;241m=\u001B[39mlabel,\n\u001B[1;32m   3239\u001B[0m         stacked\u001B[38;5;241m=\u001B[39mstacked,\n\u001B[1;32m   3240\u001B[0m         \u001B[38;5;241m*\u001B[39m\u001B[38;5;241m*\u001B[39m({\u001B[38;5;124m\"\u001B[39m\u001B[38;5;124mdata\u001B[39m\u001B[38;5;124m\"\u001B[39m: data} \u001B[38;5;28;01mif\u001B[39;00m data \u001B[38;5;129;01mis\u001B[39;00m \u001B[38;5;129;01mnot\u001B[39;00m \u001B[38;5;28;01mNone\u001B[39;00m \u001B[38;5;28;01melse\u001B[39;00m {}),\n\u001B[1;32m   3241\u001B[0m         \u001B[38;5;241m*\u001B[39m\u001B[38;5;241m*\u001B[39mkwargs,\n\u001B[1;32m   3242\u001B[0m     )\n",
      "File \u001B[0;32m/opt/anaconda3/lib/python3.11/site-packages/matplotlib/__init__.py:1465\u001B[0m, in \u001B[0;36m_preprocess_data.<locals>.inner\u001B[0;34m(ax, data, *args, **kwargs)\u001B[0m\n\u001B[1;32m   1462\u001B[0m \u001B[38;5;129m@functools\u001B[39m\u001B[38;5;241m.\u001B[39mwraps(func)\n\u001B[1;32m   1463\u001B[0m \u001B[38;5;28;01mdef\u001B[39;00m \u001B[38;5;21minner\u001B[39m(ax, \u001B[38;5;241m*\u001B[39margs, data\u001B[38;5;241m=\u001B[39m\u001B[38;5;28;01mNone\u001B[39;00m, \u001B[38;5;241m*\u001B[39m\u001B[38;5;241m*\u001B[39mkwargs):\n\u001B[1;32m   1464\u001B[0m     \u001B[38;5;28;01mif\u001B[39;00m data \u001B[38;5;129;01mis\u001B[39;00m \u001B[38;5;28;01mNone\u001B[39;00m:\n\u001B[0;32m-> 1465\u001B[0m         \u001B[38;5;28;01mreturn\u001B[39;00m func(ax, \u001B[38;5;241m*\u001B[39m\u001B[38;5;28mmap\u001B[39m(sanitize_sequence, args), \u001B[38;5;241m*\u001B[39m\u001B[38;5;241m*\u001B[39mkwargs)\n\u001B[1;32m   1467\u001B[0m     bound \u001B[38;5;241m=\u001B[39m new_sig\u001B[38;5;241m.\u001B[39mbind(ax, \u001B[38;5;241m*\u001B[39margs, \u001B[38;5;241m*\u001B[39m\u001B[38;5;241m*\u001B[39mkwargs)\n\u001B[1;32m   1468\u001B[0m     auto_label \u001B[38;5;241m=\u001B[39m (bound\u001B[38;5;241m.\u001B[39marguments\u001B[38;5;241m.\u001B[39mget(label_namer)\n\u001B[1;32m   1469\u001B[0m                   \u001B[38;5;129;01mor\u001B[39;00m bound\u001B[38;5;241m.\u001B[39mkwargs\u001B[38;5;241m.\u001B[39mget(label_namer))\n",
      "File \u001B[0;32m/opt/anaconda3/lib/python3.11/site-packages/matplotlib/axes/_axes.py:6775\u001B[0m, in \u001B[0;36mAxes.hist\u001B[0;34m(self, x, bins, range, density, weights, cumulative, bottom, histtype, align, orientation, rwidth, log, color, label, stacked, **kwargs)\u001B[0m\n\u001B[1;32m   6773\u001B[0m \u001B[38;5;28;01mif\u001B[39;00m orientation \u001B[38;5;241m==\u001B[39m \u001B[38;5;124m\"\u001B[39m\u001B[38;5;124mvertical\u001B[39m\u001B[38;5;124m\"\u001B[39m:\n\u001B[1;32m   6774\u001B[0m     convert_units \u001B[38;5;241m=\u001B[39m \u001B[38;5;28mself\u001B[39m\u001B[38;5;241m.\u001B[39mconvert_xunits\n\u001B[0;32m-> 6775\u001B[0m     x \u001B[38;5;241m=\u001B[39m [\u001B[38;5;241m*\u001B[39m\u001B[38;5;28mself\u001B[39m\u001B[38;5;241m.\u001B[39m_process_unit_info([(\u001B[38;5;124m\"\u001B[39m\u001B[38;5;124mx\u001B[39m\u001B[38;5;124m\"\u001B[39m, x[\u001B[38;5;241m0\u001B[39m])], kwargs),\n\u001B[1;32m   6776\u001B[0m          \u001B[38;5;241m*\u001B[39m\u001B[38;5;28mmap\u001B[39m(convert_units, x[\u001B[38;5;241m1\u001B[39m:])]\n\u001B[1;32m   6777\u001B[0m \u001B[38;5;28;01melse\u001B[39;00m:  \u001B[38;5;66;03m# horizontal\u001B[39;00m\n\u001B[1;32m   6778\u001B[0m     convert_units \u001B[38;5;241m=\u001B[39m \u001B[38;5;28mself\u001B[39m\u001B[38;5;241m.\u001B[39mconvert_yunits\n",
      "File \u001B[0;32m/opt/anaconda3/lib/python3.11/site-packages/matplotlib/axes/_base.py:2555\u001B[0m, in \u001B[0;36m_AxesBase._process_unit_info\u001B[0;34m(self, datasets, kwargs, convert)\u001B[0m\n\u001B[1;32m   2553\u001B[0m     \u001B[38;5;66;03m# Update from data if axis is already set but no unit is set yet.\u001B[39;00m\n\u001B[1;32m   2554\u001B[0m     \u001B[38;5;28;01mif\u001B[39;00m axis \u001B[38;5;129;01mis\u001B[39;00m \u001B[38;5;129;01mnot\u001B[39;00m \u001B[38;5;28;01mNone\u001B[39;00m \u001B[38;5;129;01mand\u001B[39;00m data \u001B[38;5;129;01mis\u001B[39;00m \u001B[38;5;129;01mnot\u001B[39;00m \u001B[38;5;28;01mNone\u001B[39;00m \u001B[38;5;129;01mand\u001B[39;00m \u001B[38;5;129;01mnot\u001B[39;00m axis\u001B[38;5;241m.\u001B[39mhave_units():\n\u001B[0;32m-> 2555\u001B[0m         axis\u001B[38;5;241m.\u001B[39mupdate_units(data)\n\u001B[1;32m   2556\u001B[0m \u001B[38;5;28;01mfor\u001B[39;00m axis_name, axis \u001B[38;5;129;01min\u001B[39;00m axis_map\u001B[38;5;241m.\u001B[39mitems():\n\u001B[1;32m   2557\u001B[0m     \u001B[38;5;66;03m# Return if no axis is set.\u001B[39;00m\n\u001B[1;32m   2558\u001B[0m     \u001B[38;5;28;01mif\u001B[39;00m axis \u001B[38;5;129;01mis\u001B[39;00m \u001B[38;5;28;01mNone\u001B[39;00m:\n",
      "File \u001B[0;32m/opt/anaconda3/lib/python3.11/site-packages/matplotlib/axis.py:1712\u001B[0m, in \u001B[0;36mAxis.update_units\u001B[0;34m(self, data)\u001B[0m\n\u001B[1;32m   1710\u001B[0m neednew \u001B[38;5;241m=\u001B[39m \u001B[38;5;28mself\u001B[39m\u001B[38;5;241m.\u001B[39mconverter \u001B[38;5;241m!=\u001B[39m converter\n\u001B[1;32m   1711\u001B[0m \u001B[38;5;28mself\u001B[39m\u001B[38;5;241m.\u001B[39mconverter \u001B[38;5;241m=\u001B[39m converter\n\u001B[0;32m-> 1712\u001B[0m default \u001B[38;5;241m=\u001B[39m \u001B[38;5;28mself\u001B[39m\u001B[38;5;241m.\u001B[39mconverter\u001B[38;5;241m.\u001B[39mdefault_units(data, \u001B[38;5;28mself\u001B[39m)\n\u001B[1;32m   1713\u001B[0m \u001B[38;5;28;01mif\u001B[39;00m default \u001B[38;5;129;01mis\u001B[39;00m \u001B[38;5;129;01mnot\u001B[39;00m \u001B[38;5;28;01mNone\u001B[39;00m \u001B[38;5;129;01mand\u001B[39;00m \u001B[38;5;28mself\u001B[39m\u001B[38;5;241m.\u001B[39munits \u001B[38;5;129;01mis\u001B[39;00m \u001B[38;5;28;01mNone\u001B[39;00m:\n\u001B[1;32m   1714\u001B[0m     \u001B[38;5;28mself\u001B[39m\u001B[38;5;241m.\u001B[39mset_units(default)\n",
      "File \u001B[0;32m/opt/anaconda3/lib/python3.11/site-packages/matplotlib/category.py:105\u001B[0m, in \u001B[0;36mStrCategoryConverter.default_units\u001B[0;34m(data, axis)\u001B[0m\n\u001B[1;32m    103\u001B[0m \u001B[38;5;66;03m# the conversion call stack is default_units -> axis_info -> convert\u001B[39;00m\n\u001B[1;32m    104\u001B[0m \u001B[38;5;28;01mif\u001B[39;00m axis\u001B[38;5;241m.\u001B[39munits \u001B[38;5;129;01mis\u001B[39;00m \u001B[38;5;28;01mNone\u001B[39;00m:\n\u001B[0;32m--> 105\u001B[0m     axis\u001B[38;5;241m.\u001B[39mset_units(UnitData(data))\n\u001B[1;32m    106\u001B[0m \u001B[38;5;28;01melse\u001B[39;00m:\n\u001B[1;32m    107\u001B[0m     axis\u001B[38;5;241m.\u001B[39munits\u001B[38;5;241m.\u001B[39mupdate(data)\n",
      "File \u001B[0;32m/opt/anaconda3/lib/python3.11/site-packages/matplotlib/category.py:181\u001B[0m, in \u001B[0;36mUnitData.__init__\u001B[0;34m(self, data)\u001B[0m\n\u001B[1;32m    179\u001B[0m \u001B[38;5;28mself\u001B[39m\u001B[38;5;241m.\u001B[39m_counter \u001B[38;5;241m=\u001B[39m itertools\u001B[38;5;241m.\u001B[39mcount()\n\u001B[1;32m    180\u001B[0m \u001B[38;5;28;01mif\u001B[39;00m data \u001B[38;5;129;01mis\u001B[39;00m \u001B[38;5;129;01mnot\u001B[39;00m \u001B[38;5;28;01mNone\u001B[39;00m:\n\u001B[0;32m--> 181\u001B[0m     \u001B[38;5;28mself\u001B[39m\u001B[38;5;241m.\u001B[39mupdate(data)\n",
      "File \u001B[0;32m/opt/anaconda3/lib/python3.11/site-packages/matplotlib/category.py:216\u001B[0m, in \u001B[0;36mUnitData.update\u001B[0;34m(self, data)\u001B[0m\n\u001B[1;32m    213\u001B[0m convertible \u001B[38;5;241m=\u001B[39m \u001B[38;5;28;01mTrue\u001B[39;00m\n\u001B[1;32m    214\u001B[0m \u001B[38;5;28;01mfor\u001B[39;00m val \u001B[38;5;129;01min\u001B[39;00m OrderedDict\u001B[38;5;241m.\u001B[39mfromkeys(data):\n\u001B[1;32m    215\u001B[0m     \u001B[38;5;66;03m# OrderedDict just iterates over unique values in data.\u001B[39;00m\n\u001B[0;32m--> 216\u001B[0m     _api\u001B[38;5;241m.\u001B[39mcheck_isinstance((\u001B[38;5;28mstr\u001B[39m, \u001B[38;5;28mbytes\u001B[39m), value\u001B[38;5;241m=\u001B[39mval)\n\u001B[1;32m    217\u001B[0m     \u001B[38;5;28;01mif\u001B[39;00m convertible:\n\u001B[1;32m    218\u001B[0m         \u001B[38;5;66;03m# this will only be called so long as convertible is True.\u001B[39;00m\n\u001B[1;32m    219\u001B[0m         convertible \u001B[38;5;241m=\u001B[39m \u001B[38;5;28mself\u001B[39m\u001B[38;5;241m.\u001B[39m_str_is_convertible(val)\n",
      "File \u001B[0;32m/opt/anaconda3/lib/python3.11/site-packages/matplotlib/_api/__init__.py:91\u001B[0m, in \u001B[0;36mcheck_isinstance\u001B[0;34m(types, **kwargs)\u001B[0m\n\u001B[1;32m     89\u001B[0m     names\u001B[38;5;241m.\u001B[39mremove(\u001B[38;5;124m\"\u001B[39m\u001B[38;5;124mNone\u001B[39m\u001B[38;5;124m\"\u001B[39m)\n\u001B[1;32m     90\u001B[0m     names\u001B[38;5;241m.\u001B[39mappend(\u001B[38;5;124m\"\u001B[39m\u001B[38;5;124mNone\u001B[39m\u001B[38;5;124m\"\u001B[39m)\n\u001B[0;32m---> 91\u001B[0m \u001B[38;5;28;01mraise\u001B[39;00m \u001B[38;5;167;01mTypeError\u001B[39;00m(\n\u001B[1;32m     92\u001B[0m     \u001B[38;5;124m\"\u001B[39m\u001B[38;5;132;01m{!r}\u001B[39;00m\u001B[38;5;124m must be an instance of \u001B[39m\u001B[38;5;132;01m{}\u001B[39;00m\u001B[38;5;124m, not a \u001B[39m\u001B[38;5;132;01m{}\u001B[39;00m\u001B[38;5;124m\"\u001B[39m\u001B[38;5;241m.\u001B[39mformat(\n\u001B[1;32m     93\u001B[0m         k,\n\u001B[1;32m     94\u001B[0m         \u001B[38;5;124m\"\u001B[39m\u001B[38;5;124m, \u001B[39m\u001B[38;5;124m\"\u001B[39m\u001B[38;5;241m.\u001B[39mjoin(names[:\u001B[38;5;241m-\u001B[39m\u001B[38;5;241m1\u001B[39m]) \u001B[38;5;241m+\u001B[39m \u001B[38;5;124m\"\u001B[39m\u001B[38;5;124m or \u001B[39m\u001B[38;5;124m\"\u001B[39m \u001B[38;5;241m+\u001B[39m names[\u001B[38;5;241m-\u001B[39m\u001B[38;5;241m1\u001B[39m]\n\u001B[1;32m     95\u001B[0m         \u001B[38;5;28;01mif\u001B[39;00m \u001B[38;5;28mlen\u001B[39m(names) \u001B[38;5;241m>\u001B[39m \u001B[38;5;241m1\u001B[39m \u001B[38;5;28;01melse\u001B[39;00m names[\u001B[38;5;241m0\u001B[39m],\n\u001B[1;32m     96\u001B[0m         type_name(\u001B[38;5;28mtype\u001B[39m(v))))\n",
      "\u001B[0;31mTypeError\u001B[0m: 'value' must be an instance of str or bytes, not a float"
     ]
    },
    {
     "data": {
      "text/plain": [
       "<Figure size 640x480 with 1 Axes>"
      ],
      "image/png": "[encoded data removed]"
     },
     "metadata": {},
     "output_type": "display_data"
    }
   ],
   "execution_count": 51
  },
  {
   "metadata": {},
   "cell_type": "code",
   "outputs": [
    {
     "ename": "SyntaxError",
     "evalue": "invalid syntax (3997727288.py, line 1)",
     "output_type": "error",
     "traceback": [
      "\u001B[0;36m  Cell \u001B[0;32mIn[48], line 1\u001B[0;36m\u001B[0m\n\u001B[0;31m    data =\u001B[0m\n\u001B[0m                    ^\u001B[0m\n\u001B[0;31mSyntaxError\u001B[0m\u001B[0;31m:\u001B[0m invalid syntax\n"
     ]
    }
   ],
   "execution_count": 48,
   "source": "data =          ",
   "id": "b2ca6bf329696a07"
  },
  {
   "metadata": {},
   "cell_type": "code",
   "outputs": [],
   "execution_count": null,
   "source": "",
   "id": "c5f7a3e0ab20fcfd"
  }
 ],
 "metadata": {
  "kernelspec": {
   "display_name": "Python 3 (ipykernel)",
   "language": "python",
   "name": "python3"
  },
  "language_info": {
   "codemirror_mode": {
    "name": "ipython",
    "version": 3
   },
   "file_extension": ".py",
   "mimetype": "text/x-python",
   "name": "python",
   "nbconvert_exporter": "python",
   "pygments_lexer": "ipython3",
   "version": "3.11.7"
  }
 },
 "nbformat": 4,
 "nbformat_minor": 5
}
