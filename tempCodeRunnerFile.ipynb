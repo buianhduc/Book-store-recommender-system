import pandas as pd

books = pd.read_csv("BX-Books.csv")
rating = pd.read_csv("BX-Ratings.csv")
merged = pd.merge(rating, books, on='ISBN')
merged